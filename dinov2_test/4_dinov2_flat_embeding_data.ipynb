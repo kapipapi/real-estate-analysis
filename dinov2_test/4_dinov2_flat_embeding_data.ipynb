{
 "cells": [
  {
   "cell_type": "code",
   "execution_count": 3,
   "metadata": {},
   "outputs": [],
   "source": [
    "import os\n",
    "from tqdm import tqdm\n",
    "import numpy as np\n",
    "import pandas as pd\n",
    "import pickle\n",
    "import torch\n",
    "import torch.nn as nn\n",
    "import torchvision\n",
    "import torchvision.transforms as transforms\n",
    "import torchmetrics\n",
    "from torch.utils.data import Dataset, DataLoader\n",
    "from PIL import Image\n",
    "import lightning as L"
   ]
  },
  {
   "cell_type": "code",
   "execution_count": 2,
   "metadata": {},
   "outputs": [
    {
     "data": {
      "text/plain": [
       "['30805/3685/OMS',\n",
       " '22508/3685/OMS',\n",
       " '27080/3685/OMS',\n",
       " '30832/3685/OMS',\n",
       " '27285/3685/OMS',\n",
       " '27282/3685/OMS',\n",
       " '22101/3685/OMS',\n",
       " '25924/3685/OMS',\n",
       " '29208/3685/OMS',\n",
       " '24977/3685/OMS',\n",
       " '31096/3685/OMS',\n",
       " '28987/3685/OMS',\n",
       " '24127/3685/OMS',\n",
       " '30778/3685/OMS',\n",
       " '22474/3685/OMS',\n",
       " '29044/3685/OMS',\n",
       " '25484/3685/OMS',\n",
       " '29623/3685/OMS',\n",
       " '22831/3685/OMS',\n",
       " '31211/3685/OMS',\n",
       " '28767/3685/OMS',\n",
       " '24502/3685/OMS',\n",
       " '29614/3685/OMS',\n",
       " '29045/3685/OMS',\n",
       " '31288/3685/OMS',\n",
       " '28902/3685/OMS',\n",
       " '29358/3685/OMS',\n",
       " '29361/3685/OMS',\n",
       " '31399/3685/OMS',\n",
       " '23238/3685/OMS',\n",
       " '27495/3685/OMS',\n",
       " '31133/3685/OMS',\n",
       " '27440/3685/OMS',\n",
       " '27827/3685/OMS',\n",
       " '27280/3685/OMS',\n",
       " '25147/3685/OMS',\n",
       " '27226/3685/OMS',\n",
       " '31344/3685/OMS',\n",
       " '28090/3685/OMS',\n",
       " '23471/3685/OMS',\n",
       " '29127/3685/OMS',\n",
       " '25389/3685/OMS',\n",
       " '30831/3685/OMS',\n",
       " '24123/3685/OMS',\n",
       " '26618/3685/OMS',\n",
       " '28111/3685/OMS',\n",
       " '24780/3685/OMS',\n",
       " '28516/3685/OMS',\n",
       " '25664/3685/OMS',\n",
       " '26218/3685/OMS',\n",
       " '29031/3685/OMS',\n",
       " '23159/3685/OMS',\n",
       " '24981/3685/OMS',\n",
       " '26603/3685/OMS',\n",
       " '29219/3685/OMS',\n",
       " '21279/3685/OMS',\n",
       " '26695/3685/OMS',\n",
       " '29243/3685/OMS',\n",
       " '29244/3685/OMS',\n",
       " '29076/3685/OMS',\n",
       " '28566/3685/OMS',\n",
       " '28798/3685/OMS',\n",
       " '26868/3685/OMS',\n",
       " '25197/3685/OMS',\n",
       " '30683/3685/OMS',\n",
       " '28471/3685/OMS',\n",
       " '21357/3685/OMS',\n",
       " '26529/3685/OMS',\n",
       " '26784/3685/OMS']"
      ]
     },
     "execution_count": 2,
     "metadata": {},
     "output_type": "execute_result"
    }
   ],
   "source": [
    "offers = []\n",
    "for root, _, files in os.walk(f\"../images\"):\n",
    "    if len(root.split(\"/\")) == 5:\n",
    "        offers.append(\"/\".join(root.split(\"/\")[2:]))\n",
    "\n",
    "offers"
   ]
  },
  {
   "cell_type": "code",
   "execution_count": 3,
   "metadata": {},
   "outputs": [
    {
     "name": "stdout",
     "output_type": "stream",
     "text": [
      "Using mps device\n"
     ]
    }
   ],
   "source": [
    "device = (\n",
    "    \"cuda\"\n",
    "    if torch.cuda.is_available()\n",
    "    else \"mps\"\n",
    "    if torch.backends.mps.is_available()\n",
    "    else \"cpu\"\n",
    ")\n",
    "print(f\"Using {device} device\")"
   ]
  },
  {
   "cell_type": "code",
   "execution_count": 4,
   "metadata": {},
   "outputs": [],
   "source": [
    "def get_photos(offer_id, transform=None):\n",
    "    batch = []\n",
    "    for root, _, files in os.walk(f\"../images/{offer_id}\"):\n",
    "        for file in files:\n",
    "            if file.endswith(\".jpg\") and \"all\" not in file and \"wp\" not in file:\n",
    "                image_path = os.path.join(root, file)\n",
    "                image = Image.open(image_path).convert(\"RGB\")\n",
    "\n",
    "                if transform:\n",
    "                    image = transform(image)\n",
    "                else:\n",
    "                    image = transforms.ToTensor()(image)\n",
    "\n",
    "                batch.append(image)\n",
    "\n",
    "    return torch.stack(batch)"
   ]
  },
  {
   "cell_type": "code",
   "execution_count": 5,
   "metadata": {},
   "outputs": [
    {
     "name": "stderr",
     "output_type": "stream",
     "text": [
      "Using cache found in /Users/kacper/.cache/torch/hub/facebookresearch_dinov2_main\n",
      "/Users/kacper/.cache/torch/hub/facebookresearch_dinov2_main/dinov2/layers/swiglu_ffn.py:51: UserWarning: xFormers is not available (SwiGLU)\n",
      "  warnings.warn(\"xFormers is not available (SwiGLU)\")\n",
      "/Users/kacper/.cache/torch/hub/facebookresearch_dinov2_main/dinov2/layers/attention.py:33: UserWarning: xFormers is not available (Attention)\n",
      "  warnings.warn(\"xFormers is not available (Attention)\")\n",
      "/Users/kacper/.cache/torch/hub/facebookresearch_dinov2_main/dinov2/layers/block.py:40: UserWarning: xFormers is not available (Block)\n",
      "  warnings.warn(\"xFormers is not available (Block)\")\n"
     ]
    }
   ],
   "source": [
    "s = 14 * 16\n",
    "m = 14 * 32 \n",
    "l = 14 * 48 \n",
    "xl = 14 * 64\n",
    "\n",
    "S = (s, s)\n",
    "M = (m, m)\n",
    "L = (l, l) # good for 18GB VRAM\n",
    "XL = (xl, xl)\n",
    "\n",
    "transform = transforms.Compose([\n",
    "    transforms.Resize(L),\n",
    "    transforms.ToTensor(),\n",
    "    transforms.Normalize(mean=[0.485, 0.456, 0.406],\n",
    "                         std=[0.229, 0.224, 0.225]),\n",
    "])\n",
    "\n",
    "model = torch.hub.load(\"facebookresearch/dinov2\", \"dinov2_vits14_reg\").to(device)"
   ]
  },
  {
   "cell_type": "code",
   "execution_count": 6,
   "metadata": {},
   "outputs": [
    {
     "name": "stdout",
     "output_type": "stream",
     "text": [
      "Processing 30805/3685/OMS\n",
      "torch.Size([28, 3, 672, 672])\n"
     ]
    },
    {
     "name": "stderr",
     "output_type": "stream",
     "text": [
      "  0%|          | 0/28 [00:00<?, ?it/s]/opt/miniconda3/envs/real-estate-dinov2-test/lib/python3.11/site-packages/torch/nn/functional.py:4072: UserWarning: The operator 'aten::_upsample_bicubic2d_aa.out' is not currently supported on the MPS backend and will fall back to run on the CPU. This may have performance implications. (Triggered internally at /Users/runner/work/_temp/anaconda/conda-bld/pytorch_1716905753263/work/aten/src/ATen/mps/MPSFallback.mm:13.)\n",
      "  return torch._C._nn._upsample_bicubic2d_aa(input, output_size, align_corners, scale_factors)\n",
      "100%|██████████| 28/28 [00:03<00:00,  8.76it/s]\n"
     ]
    },
    {
     "name": "stdout",
     "output_type": "stream",
     "text": [
      "Saved to ../images_embeded/30805_3685_OMS.pkl\n",
      "Processing 22508/3685/OMS\n",
      "torch.Size([20, 3, 672, 672])\n"
     ]
    },
    {
     "name": "stderr",
     "output_type": "stream",
     "text": [
      "100%|██████████| 20/20 [00:02<00:00,  9.31it/s]\n"
     ]
    },
    {
     "name": "stdout",
     "output_type": "stream",
     "text": [
      "Saved to ../images_embeded/22508_3685_OMS.pkl\n",
      "Processing 27080/3685/OMS\n",
      "torch.Size([20, 3, 672, 672])\n"
     ]
    },
    {
     "name": "stderr",
     "output_type": "stream",
     "text": [
      "100%|██████████| 20/20 [00:02<00:00,  9.09it/s]\n"
     ]
    },
    {
     "name": "stdout",
     "output_type": "stream",
     "text": [
      "Saved to ../images_embeded/27080_3685_OMS.pkl\n",
      "Processing 30832/3685/OMS\n",
      "torch.Size([31, 3, 672, 672])\n"
     ]
    },
    {
     "name": "stderr",
     "output_type": "stream",
     "text": [
      "100%|██████████| 31/31 [00:03<00:00,  9.27it/s]\n"
     ]
    },
    {
     "name": "stdout",
     "output_type": "stream",
     "text": [
      "Saved to ../images_embeded/30832_3685_OMS.pkl\n",
      "Processing 27285/3685/OMS\n",
      "torch.Size([15, 3, 672, 672])\n"
     ]
    },
    {
     "name": "stderr",
     "output_type": "stream",
     "text": [
      "100%|██████████| 15/15 [00:01<00:00,  9.22it/s]\n"
     ]
    },
    {
     "name": "stdout",
     "output_type": "stream",
     "text": [
      "Saved to ../images_embeded/27285_3685_OMS.pkl\n",
      "Processing 27282/3685/OMS\n",
      "torch.Size([10, 3, 672, 672])\n"
     ]
    },
    {
     "name": "stderr",
     "output_type": "stream",
     "text": [
      "100%|██████████| 10/10 [00:01<00:00,  9.31it/s]\n"
     ]
    },
    {
     "name": "stdout",
     "output_type": "stream",
     "text": [
      "Saved to ../images_embeded/27282_3685_OMS.pkl\n",
      "Processing 22101/3685/OMS\n",
      "torch.Size([16, 3, 672, 672])\n"
     ]
    },
    {
     "name": "stderr",
     "output_type": "stream",
     "text": [
      "100%|██████████| 16/16 [00:01<00:00,  9.25it/s]\n"
     ]
    },
    {
     "name": "stdout",
     "output_type": "stream",
     "text": [
      "Saved to ../images_embeded/22101_3685_OMS.pkl\n",
      "Processing 25924/3685/OMS\n",
      "torch.Size([16, 3, 672, 672])\n"
     ]
    },
    {
     "name": "stderr",
     "output_type": "stream",
     "text": [
      "100%|██████████| 16/16 [00:01<00:00,  9.26it/s]\n"
     ]
    },
    {
     "name": "stdout",
     "output_type": "stream",
     "text": [
      "Saved to ../images_embeded/25924_3685_OMS.pkl\n",
      "Processing 29208/3685/OMS\n",
      "torch.Size([19, 3, 672, 672])\n"
     ]
    },
    {
     "name": "stderr",
     "output_type": "stream",
     "text": [
      "100%|██████████| 19/19 [00:02<00:00,  9.18it/s]\n"
     ]
    },
    {
     "name": "stdout",
     "output_type": "stream",
     "text": [
      "Saved to ../images_embeded/29208_3685_OMS.pkl\n",
      "Processing 24977/3685/OMS\n",
      "torch.Size([21, 3, 672, 672])\n"
     ]
    },
    {
     "name": "stderr",
     "output_type": "stream",
     "text": [
      "100%|██████████| 21/21 [00:02<00:00,  9.29it/s]\n"
     ]
    },
    {
     "name": "stdout",
     "output_type": "stream",
     "text": [
      "Saved to ../images_embeded/24977_3685_OMS.pkl\n",
      "Processing 31096/3685/OMS\n",
      "torch.Size([19, 3, 672, 672])\n"
     ]
    },
    {
     "name": "stderr",
     "output_type": "stream",
     "text": [
      "100%|██████████| 19/19 [00:02<00:00,  9.24it/s]\n"
     ]
    },
    {
     "name": "stdout",
     "output_type": "stream",
     "text": [
      "Saved to ../images_embeded/31096_3685_OMS.pkl\n",
      "Processing 28987/3685/OMS\n",
      "torch.Size([20, 3, 672, 672])\n"
     ]
    },
    {
     "name": "stderr",
     "output_type": "stream",
     "text": [
      "100%|██████████| 20/20 [00:02<00:00,  9.25it/s]\n"
     ]
    },
    {
     "name": "stdout",
     "output_type": "stream",
     "text": [
      "Saved to ../images_embeded/28987_3685_OMS.pkl\n",
      "Processing 24127/3685/OMS\n",
      "torch.Size([28, 3, 672, 672])\n"
     ]
    },
    {
     "name": "stderr",
     "output_type": "stream",
     "text": [
      "100%|██████████| 28/28 [00:03<00:00,  9.24it/s]\n"
     ]
    },
    {
     "name": "stdout",
     "output_type": "stream",
     "text": [
      "Saved to ../images_embeded/24127_3685_OMS.pkl\n",
      "Processing 30778/3685/OMS\n",
      "torch.Size([36, 3, 672, 672])\n"
     ]
    },
    {
     "name": "stderr",
     "output_type": "stream",
     "text": [
      "100%|██████████| 36/36 [00:03<00:00,  9.21it/s]\n"
     ]
    },
    {
     "name": "stdout",
     "output_type": "stream",
     "text": [
      "Saved to ../images_embeded/30778_3685_OMS.pkl\n",
      "Processing 22474/3685/OMS\n",
      "torch.Size([21, 3, 672, 672])\n"
     ]
    },
    {
     "name": "stderr",
     "output_type": "stream",
     "text": [
      "100%|██████████| 21/21 [00:02<00:00,  9.24it/s]\n"
     ]
    },
    {
     "name": "stdout",
     "output_type": "stream",
     "text": [
      "Saved to ../images_embeded/22474_3685_OMS.pkl\n",
      "Processing 29044/3685/OMS\n",
      "torch.Size([29, 3, 672, 672])\n"
     ]
    },
    {
     "name": "stderr",
     "output_type": "stream",
     "text": [
      "100%|██████████| 29/29 [00:03<00:00,  9.19it/s]\n"
     ]
    },
    {
     "name": "stdout",
     "output_type": "stream",
     "text": [
      "Saved to ../images_embeded/29044_3685_OMS.pkl\n",
      "Processing 25484/3685/OMS\n",
      "torch.Size([28, 3, 672, 672])\n"
     ]
    },
    {
     "name": "stderr",
     "output_type": "stream",
     "text": [
      "100%|██████████| 28/28 [00:03<00:00,  9.26it/s]\n"
     ]
    },
    {
     "name": "stdout",
     "output_type": "stream",
     "text": [
      "Saved to ../images_embeded/25484_3685_OMS.pkl\n",
      "Processing 29623/3685/OMS\n",
      "torch.Size([30, 3, 672, 672])\n"
     ]
    },
    {
     "name": "stderr",
     "output_type": "stream",
     "text": [
      "100%|██████████| 30/30 [00:03<00:00,  9.19it/s]\n"
     ]
    },
    {
     "name": "stdout",
     "output_type": "stream",
     "text": [
      "Saved to ../images_embeded/29623_3685_OMS.pkl\n",
      "Processing 22831/3685/OMS\n",
      "torch.Size([36, 3, 672, 672])\n"
     ]
    },
    {
     "name": "stderr",
     "output_type": "stream",
     "text": [
      "100%|██████████| 36/36 [00:04<00:00,  8.98it/s]\n"
     ]
    },
    {
     "name": "stdout",
     "output_type": "stream",
     "text": [
      "Saved to ../images_embeded/22831_3685_OMS.pkl\n",
      "Processing 31211/3685/OMS\n",
      "torch.Size([22, 3, 672, 672])\n"
     ]
    },
    {
     "name": "stderr",
     "output_type": "stream",
     "text": [
      "100%|██████████| 22/22 [00:02<00:00,  9.22it/s]\n"
     ]
    },
    {
     "name": "stdout",
     "output_type": "stream",
     "text": [
      "Saved to ../images_embeded/31211_3685_OMS.pkl\n",
      "Processing 28767/3685/OMS\n",
      "torch.Size([16, 3, 672, 672])\n"
     ]
    },
    {
     "name": "stderr",
     "output_type": "stream",
     "text": [
      "100%|██████████| 16/16 [00:01<00:00,  9.23it/s]\n"
     ]
    },
    {
     "name": "stdout",
     "output_type": "stream",
     "text": [
      "Saved to ../images_embeded/28767_3685_OMS.pkl\n",
      "Processing 24502/3685/OMS\n",
      "torch.Size([20, 3, 672, 672])\n"
     ]
    },
    {
     "name": "stderr",
     "output_type": "stream",
     "text": [
      "100%|██████████| 20/20 [00:02<00:00,  9.26it/s]\n"
     ]
    },
    {
     "name": "stdout",
     "output_type": "stream",
     "text": [
      "Saved to ../images_embeded/24502_3685_OMS.pkl\n",
      "Processing 29614/3685/OMS\n",
      "torch.Size([23, 3, 672, 672])\n"
     ]
    },
    {
     "name": "stderr",
     "output_type": "stream",
     "text": [
      "100%|██████████| 23/23 [00:02<00:00,  9.22it/s]\n"
     ]
    },
    {
     "name": "stdout",
     "output_type": "stream",
     "text": [
      "Saved to ../images_embeded/29614_3685_OMS.pkl\n",
      "Processing 29045/3685/OMS\n",
      "torch.Size([22, 3, 672, 672])\n"
     ]
    },
    {
     "name": "stderr",
     "output_type": "stream",
     "text": [
      "100%|██████████| 22/22 [00:02<00:00,  9.28it/s]\n"
     ]
    },
    {
     "name": "stdout",
     "output_type": "stream",
     "text": [
      "Saved to ../images_embeded/29045_3685_OMS.pkl\n",
      "Processing 31288/3685/OMS\n",
      "torch.Size([17, 3, 672, 672])\n"
     ]
    },
    {
     "name": "stderr",
     "output_type": "stream",
     "text": [
      "100%|██████████| 17/17 [00:01<00:00,  9.21it/s]\n"
     ]
    },
    {
     "name": "stdout",
     "output_type": "stream",
     "text": [
      "Saved to ../images_embeded/31288_3685_OMS.pkl\n",
      "Processing 28902/3685/OMS\n",
      "torch.Size([16, 3, 672, 672])\n"
     ]
    },
    {
     "name": "stderr",
     "output_type": "stream",
     "text": [
      "100%|██████████| 16/16 [00:01<00:00,  9.22it/s]\n"
     ]
    },
    {
     "name": "stdout",
     "output_type": "stream",
     "text": [
      "Saved to ../images_embeded/28902_3685_OMS.pkl\n",
      "Processing 29358/3685/OMS\n",
      "torch.Size([24, 3, 672, 672])\n"
     ]
    },
    {
     "name": "stderr",
     "output_type": "stream",
     "text": [
      "100%|██████████| 24/24 [00:02<00:00,  9.24it/s]\n"
     ]
    },
    {
     "name": "stdout",
     "output_type": "stream",
     "text": [
      "Saved to ../images_embeded/29358_3685_OMS.pkl\n",
      "Processing 29361/3685/OMS\n",
      "torch.Size([31, 3, 672, 672])\n"
     ]
    },
    {
     "name": "stderr",
     "output_type": "stream",
     "text": [
      "100%|██████████| 31/31 [00:03<00:00,  9.02it/s]\n"
     ]
    },
    {
     "name": "stdout",
     "output_type": "stream",
     "text": [
      "Saved to ../images_embeded/29361_3685_OMS.pkl\n",
      "Processing 31399/3685/OMS\n",
      "torch.Size([22, 3, 672, 672])\n"
     ]
    },
    {
     "name": "stderr",
     "output_type": "stream",
     "text": [
      "100%|██████████| 22/22 [00:02<00:00,  9.25it/s]\n"
     ]
    },
    {
     "name": "stdout",
     "output_type": "stream",
     "text": [
      "Saved to ../images_embeded/31399_3685_OMS.pkl\n",
      "Processing 23238/3685/OMS\n",
      "torch.Size([40, 3, 672, 672])\n"
     ]
    },
    {
     "name": "stderr",
     "output_type": "stream",
     "text": [
      "100%|██████████| 40/40 [00:04<00:00,  9.23it/s]\n"
     ]
    },
    {
     "name": "stdout",
     "output_type": "stream",
     "text": [
      "Saved to ../images_embeded/23238_3685_OMS.pkl\n",
      "Processing 27495/3685/OMS\n",
      "torch.Size([18, 3, 672, 672])\n"
     ]
    },
    {
     "name": "stderr",
     "output_type": "stream",
     "text": [
      "100%|██████████| 18/18 [00:01<00:00,  9.19it/s]\n"
     ]
    },
    {
     "name": "stdout",
     "output_type": "stream",
     "text": [
      "Saved to ../images_embeded/27495_3685_OMS.pkl\n",
      "Processing 31133/3685/OMS\n",
      "torch.Size([17, 3, 672, 672])\n"
     ]
    },
    {
     "name": "stderr",
     "output_type": "stream",
     "text": [
      "100%|██████████| 17/17 [00:01<00:00,  9.26it/s]\n"
     ]
    },
    {
     "name": "stdout",
     "output_type": "stream",
     "text": [
      "Saved to ../images_embeded/31133_3685_OMS.pkl\n",
      "Processing 27440/3685/OMS\n",
      "torch.Size([24, 3, 672, 672])\n"
     ]
    },
    {
     "name": "stderr",
     "output_type": "stream",
     "text": [
      "100%|██████████| 24/24 [00:02<00:00,  9.24it/s]\n"
     ]
    },
    {
     "name": "stdout",
     "output_type": "stream",
     "text": [
      "Saved to ../images_embeded/27440_3685_OMS.pkl\n",
      "Processing 27827/3685/OMS\n",
      "torch.Size([17, 3, 672, 672])\n"
     ]
    },
    {
     "name": "stderr",
     "output_type": "stream",
     "text": [
      "100%|██████████| 17/17 [00:01<00:00,  9.25it/s]\n"
     ]
    },
    {
     "name": "stdout",
     "output_type": "stream",
     "text": [
      "Saved to ../images_embeded/27827_3685_OMS.pkl\n",
      "Processing 27280/3685/OMS\n",
      "torch.Size([15, 3, 672, 672])\n"
     ]
    },
    {
     "name": "stderr",
     "output_type": "stream",
     "text": [
      "100%|██████████| 15/15 [00:01<00:00,  9.36it/s]\n"
     ]
    },
    {
     "name": "stdout",
     "output_type": "stream",
     "text": [
      "Saved to ../images_embeded/27280_3685_OMS.pkl\n",
      "Processing 25147/3685/OMS\n",
      "torch.Size([30, 3, 672, 672])\n"
     ]
    },
    {
     "name": "stderr",
     "output_type": "stream",
     "text": [
      "100%|██████████| 30/30 [00:03<00:00,  9.25it/s]\n"
     ]
    },
    {
     "name": "stdout",
     "output_type": "stream",
     "text": [
      "Saved to ../images_embeded/25147_3685_OMS.pkl\n",
      "Processing 27226/3685/OMS\n",
      "torch.Size([17, 3, 672, 672])\n"
     ]
    },
    {
     "name": "stderr",
     "output_type": "stream",
     "text": [
      "100%|██████████| 17/17 [00:01<00:00,  9.25it/s]\n"
     ]
    },
    {
     "name": "stdout",
     "output_type": "stream",
     "text": [
      "Saved to ../images_embeded/27226_3685_OMS.pkl\n",
      "Processing 31344/3685/OMS\n",
      "torch.Size([22, 3, 672, 672])\n"
     ]
    },
    {
     "name": "stderr",
     "output_type": "stream",
     "text": [
      "100%|██████████| 22/22 [00:02<00:00,  8.95it/s]\n"
     ]
    },
    {
     "name": "stdout",
     "output_type": "stream",
     "text": [
      "Saved to ../images_embeded/31344_3685_OMS.pkl\n",
      "Processing 28090/3685/OMS\n",
      "torch.Size([11, 3, 672, 672])\n"
     ]
    },
    {
     "name": "stderr",
     "output_type": "stream",
     "text": [
      "100%|██████████| 11/11 [00:01<00:00,  9.30it/s]\n"
     ]
    },
    {
     "name": "stdout",
     "output_type": "stream",
     "text": [
      "Saved to ../images_embeded/28090_3685_OMS.pkl\n",
      "Processing 23471/3685/OMS\n",
      "torch.Size([16, 3, 672, 672])\n"
     ]
    },
    {
     "name": "stderr",
     "output_type": "stream",
     "text": [
      "100%|██████████| 16/16 [00:01<00:00,  9.19it/s]\n"
     ]
    },
    {
     "name": "stdout",
     "output_type": "stream",
     "text": [
      "Saved to ../images_embeded/23471_3685_OMS.pkl\n",
      "Processing 29127/3685/OMS\n",
      "torch.Size([22, 3, 672, 672])\n"
     ]
    },
    {
     "name": "stderr",
     "output_type": "stream",
     "text": [
      "100%|██████████| 22/22 [00:02<00:00,  9.27it/s]\n"
     ]
    },
    {
     "name": "stdout",
     "output_type": "stream",
     "text": [
      "Saved to ../images_embeded/29127_3685_OMS.pkl\n",
      "Processing 25389/3685/OMS\n",
      "torch.Size([24, 3, 672, 672])\n"
     ]
    },
    {
     "name": "stderr",
     "output_type": "stream",
     "text": [
      "100%|██████████| 24/24 [00:02<00:00,  9.19it/s]\n"
     ]
    },
    {
     "name": "stdout",
     "output_type": "stream",
     "text": [
      "Saved to ../images_embeded/25389_3685_OMS.pkl\n",
      "Processing 30831/3685/OMS\n",
      "torch.Size([26, 3, 672, 672])\n"
     ]
    },
    {
     "name": "stderr",
     "output_type": "stream",
     "text": [
      "100%|██████████| 26/26 [00:02<00:00,  9.18it/s]\n"
     ]
    },
    {
     "name": "stdout",
     "output_type": "stream",
     "text": [
      "Saved to ../images_embeded/30831_3685_OMS.pkl\n",
      "Processing 24123/3685/OMS\n",
      "torch.Size([17, 3, 672, 672])\n"
     ]
    },
    {
     "name": "stderr",
     "output_type": "stream",
     "text": [
      "100%|██████████| 17/17 [00:01<00:00,  9.13it/s]\n"
     ]
    },
    {
     "name": "stdout",
     "output_type": "stream",
     "text": [
      "Saved to ../images_embeded/24123_3685_OMS.pkl\n",
      "Processing 26618/3685/OMS\n",
      "torch.Size([17, 3, 672, 672])\n"
     ]
    },
    {
     "name": "stderr",
     "output_type": "stream",
     "text": [
      "100%|██████████| 17/17 [00:01<00:00,  9.22it/s]\n"
     ]
    },
    {
     "name": "stdout",
     "output_type": "stream",
     "text": [
      "Saved to ../images_embeded/26618_3685_OMS.pkl\n",
      "Processing 28111/3685/OMS\n",
      "torch.Size([30, 3, 672, 672])\n"
     ]
    },
    {
     "name": "stderr",
     "output_type": "stream",
     "text": [
      "100%|██████████| 30/30 [00:03<00:00,  9.29it/s]\n"
     ]
    },
    {
     "name": "stdout",
     "output_type": "stream",
     "text": [
      "Saved to ../images_embeded/28111_3685_OMS.pkl\n",
      "Processing 24780/3685/OMS\n",
      "torch.Size([9, 3, 672, 672])\n"
     ]
    },
    {
     "name": "stderr",
     "output_type": "stream",
     "text": [
      "100%|██████████| 9/9 [00:00<00:00,  9.35it/s]\n"
     ]
    },
    {
     "name": "stdout",
     "output_type": "stream",
     "text": [
      "Saved to ../images_embeded/24780_3685_OMS.pkl\n",
      "Processing 28516/3685/OMS\n",
      "torch.Size([15, 3, 672, 672])\n"
     ]
    },
    {
     "name": "stderr",
     "output_type": "stream",
     "text": [
      "100%|██████████| 15/15 [00:01<00:00,  9.23it/s]\n"
     ]
    },
    {
     "name": "stdout",
     "output_type": "stream",
     "text": [
      "Saved to ../images_embeded/28516_3685_OMS.pkl\n",
      "Processing 25664/3685/OMS\n",
      "torch.Size([23, 3, 672, 672])\n"
     ]
    },
    {
     "name": "stderr",
     "output_type": "stream",
     "text": [
      "100%|██████████| 23/23 [00:02<00:00,  9.29it/s]\n"
     ]
    },
    {
     "name": "stdout",
     "output_type": "stream",
     "text": [
      "Saved to ../images_embeded/25664_3685_OMS.pkl\n",
      "Processing 26218/3685/OMS\n",
      "torch.Size([22, 3, 672, 672])\n"
     ]
    },
    {
     "name": "stderr",
     "output_type": "stream",
     "text": [
      "100%|██████████| 22/22 [00:02<00:00,  9.23it/s]\n"
     ]
    },
    {
     "name": "stdout",
     "output_type": "stream",
     "text": [
      "Saved to ../images_embeded/26218_3685_OMS.pkl\n",
      "Processing 29031/3685/OMS\n",
      "torch.Size([27, 3, 672, 672])\n"
     ]
    },
    {
     "name": "stderr",
     "output_type": "stream",
     "text": [
      "100%|██████████| 27/27 [00:02<00:00,  9.35it/s]\n"
     ]
    },
    {
     "name": "stdout",
     "output_type": "stream",
     "text": [
      "Saved to ../images_embeded/29031_3685_OMS.pkl\n",
      "Processing 23159/3685/OMS\n",
      "torch.Size([18, 3, 672, 672])\n"
     ]
    },
    {
     "name": "stderr",
     "output_type": "stream",
     "text": [
      "100%|██████████| 18/18 [00:01<00:00,  9.21it/s]\n"
     ]
    },
    {
     "name": "stdout",
     "output_type": "stream",
     "text": [
      "Saved to ../images_embeded/23159_3685_OMS.pkl\n",
      "Processing 24981/3685/OMS\n",
      "torch.Size([14, 3, 672, 672])\n"
     ]
    },
    {
     "name": "stderr",
     "output_type": "stream",
     "text": [
      "100%|██████████| 14/14 [00:01<00:00,  9.29it/s]\n"
     ]
    },
    {
     "name": "stdout",
     "output_type": "stream",
     "text": [
      "Saved to ../images_embeded/24981_3685_OMS.pkl\n",
      "Processing 26603/3685/OMS\n",
      "torch.Size([18, 3, 672, 672])\n"
     ]
    },
    {
     "name": "stderr",
     "output_type": "stream",
     "text": [
      "100%|██████████| 18/18 [00:01<00:00,  9.22it/s]\n"
     ]
    },
    {
     "name": "stdout",
     "output_type": "stream",
     "text": [
      "Saved to ../images_embeded/26603_3685_OMS.pkl\n",
      "Processing 29219/3685/OMS\n",
      "torch.Size([18, 3, 672, 672])\n"
     ]
    },
    {
     "name": "stderr",
     "output_type": "stream",
     "text": [
      "100%|██████████| 18/18 [00:01<00:00,  9.10it/s]\n"
     ]
    },
    {
     "name": "stdout",
     "output_type": "stream",
     "text": [
      "Saved to ../images_embeded/29219_3685_OMS.pkl\n",
      "Processing 21279/3685/OMS\n",
      "torch.Size([21, 3, 672, 672])\n"
     ]
    },
    {
     "name": "stderr",
     "output_type": "stream",
     "text": [
      "100%|██████████| 21/21 [00:02<00:00,  9.12it/s]\n"
     ]
    },
    {
     "name": "stdout",
     "output_type": "stream",
     "text": [
      "Saved to ../images_embeded/21279_3685_OMS.pkl\n",
      "Processing 26695/3685/OMS\n",
      "torch.Size([29, 3, 672, 672])\n"
     ]
    },
    {
     "name": "stderr",
     "output_type": "stream",
     "text": [
      "100%|██████████| 29/29 [00:03<00:00,  9.18it/s]\n"
     ]
    },
    {
     "name": "stdout",
     "output_type": "stream",
     "text": [
      "Saved to ../images_embeded/26695_3685_OMS.pkl\n",
      "Processing 29243/3685/OMS\n",
      "torch.Size([14, 3, 672, 672])\n"
     ]
    },
    {
     "name": "stderr",
     "output_type": "stream",
     "text": [
      "100%|██████████| 14/14 [00:01<00:00,  8.92it/s]\n"
     ]
    },
    {
     "name": "stdout",
     "output_type": "stream",
     "text": [
      "Saved to ../images_embeded/29243_3685_OMS.pkl\n",
      "Processing 29244/3685/OMS\n",
      "torch.Size([22, 3, 672, 672])\n"
     ]
    },
    {
     "name": "stderr",
     "output_type": "stream",
     "text": [
      "100%|██████████| 22/22 [00:02<00:00,  9.04it/s]\n"
     ]
    },
    {
     "name": "stdout",
     "output_type": "stream",
     "text": [
      "Saved to ../images_embeded/29244_3685_OMS.pkl\n",
      "Processing 29076/3685/OMS\n",
      "torch.Size([18, 3, 672, 672])\n"
     ]
    },
    {
     "name": "stderr",
     "output_type": "stream",
     "text": [
      "100%|██████████| 18/18 [00:01<00:00,  9.04it/s]\n"
     ]
    },
    {
     "name": "stdout",
     "output_type": "stream",
     "text": [
      "Saved to ../images_embeded/29076_3685_OMS.pkl\n",
      "Processing 28566/3685/OMS\n",
      "torch.Size([23, 3, 672, 672])\n"
     ]
    },
    {
     "name": "stderr",
     "output_type": "stream",
     "text": [
      "100%|██████████| 23/23 [00:02<00:00,  9.16it/s]\n"
     ]
    },
    {
     "name": "stdout",
     "output_type": "stream",
     "text": [
      "Saved to ../images_embeded/28566_3685_OMS.pkl\n",
      "Processing 28798/3685/OMS\n",
      "torch.Size([32, 3, 672, 672])\n"
     ]
    },
    {
     "name": "stderr",
     "output_type": "stream",
     "text": [
      "100%|██████████| 32/32 [00:03<00:00,  9.15it/s]\n"
     ]
    },
    {
     "name": "stdout",
     "output_type": "stream",
     "text": [
      "Saved to ../images_embeded/28798_3685_OMS.pkl\n",
      "Processing 26868/3685/OMS\n",
      "torch.Size([18, 3, 672, 672])\n"
     ]
    },
    {
     "name": "stderr",
     "output_type": "stream",
     "text": [
      "100%|██████████| 18/18 [00:02<00:00,  8.98it/s]\n"
     ]
    },
    {
     "name": "stdout",
     "output_type": "stream",
     "text": [
      "Saved to ../images_embeded/26868_3685_OMS.pkl\n",
      "Processing 25197/3685/OMS\n",
      "torch.Size([28, 3, 672, 672])\n"
     ]
    },
    {
     "name": "stderr",
     "output_type": "stream",
     "text": [
      "100%|██████████| 28/28 [00:03<00:00,  9.19it/s]\n"
     ]
    },
    {
     "name": "stdout",
     "output_type": "stream",
     "text": [
      "Saved to ../images_embeded/25197_3685_OMS.pkl\n",
      "Processing 30683/3685/OMS\n",
      "torch.Size([31, 3, 672, 672])\n"
     ]
    },
    {
     "name": "stderr",
     "output_type": "stream",
     "text": [
      "100%|██████████| 31/31 [00:03<00:00,  9.21it/s]\n"
     ]
    },
    {
     "name": "stdout",
     "output_type": "stream",
     "text": [
      "Saved to ../images_embeded/30683_3685_OMS.pkl\n",
      "Processing 28471/3685/OMS\n",
      "torch.Size([23, 3, 672, 672])\n"
     ]
    },
    {
     "name": "stderr",
     "output_type": "stream",
     "text": [
      "100%|██████████| 23/23 [00:02<00:00,  9.25it/s]\n"
     ]
    },
    {
     "name": "stdout",
     "output_type": "stream",
     "text": [
      "Saved to ../images_embeded/28471_3685_OMS.pkl\n",
      "Processing 21357/3685/OMS\n",
      "torch.Size([22, 3, 672, 672])\n"
     ]
    },
    {
     "name": "stderr",
     "output_type": "stream",
     "text": [
      "100%|██████████| 22/22 [00:02<00:00,  9.21it/s]\n"
     ]
    },
    {
     "name": "stdout",
     "output_type": "stream",
     "text": [
      "Saved to ../images_embeded/21357_3685_OMS.pkl\n",
      "Processing 26529/3685/OMS\n",
      "torch.Size([18, 3, 672, 672])\n"
     ]
    },
    {
     "name": "stderr",
     "output_type": "stream",
     "text": [
      "100%|██████████| 18/18 [00:01<00:00,  9.26it/s]\n"
     ]
    },
    {
     "name": "stdout",
     "output_type": "stream",
     "text": [
      "Saved to ../images_embeded/26529_3685_OMS.pkl\n",
      "Processing 26784/3685/OMS\n",
      "torch.Size([15, 3, 672, 672])\n"
     ]
    },
    {
     "name": "stderr",
     "output_type": "stream",
     "text": [
      "100%|██████████| 15/15 [00:01<00:00,  9.14it/s]"
     ]
    },
    {
     "name": "stdout",
     "output_type": "stream",
     "text": [
      "Saved to ../images_embeded/26784_3685_OMS.pkl\n"
     ]
    },
    {
     "name": "stderr",
     "output_type": "stream",
     "text": [
      "\n"
     ]
    }
   ],
   "source": [
    "for offer in offers:\n",
    "    print(f\"Processing {offer}\")\n",
    "\n",
    "    images = get_photos(offer_id=offer, transform=transform)\n",
    "    print(images.shape)\n",
    "\n",
    "    outputs = []\n",
    "    for i, image in tqdm(enumerate(images), total=len(images)):\n",
    "        image = image.unsqueeze(0).to(device)\n",
    "        output = model(image).squeeze(0).detach().cpu().numpy()\n",
    "        outputs.append(output)\n",
    "\n",
    "    outputs = np.array(outputs)\n",
    "    filename = \"_\".join(offer.split(\"/\"))\n",
    "    with open(f'../images_embeded/{filename}.pkl', 'wb') as f:\n",
    "        pickle.dump({\n",
    "            'image_size': L,\n",
    "            'offer_id': offer,\n",
    "            'outputs': outputs,\n",
    "        }, f)\n",
    "    print(f\"Saved to ../images_embeded/{filename}.pkl\")"
   ]
  },
  {
   "cell_type": "code",
   "execution_count": 6,
   "metadata": {},
   "outputs": [
    {
     "data": {
      "text/plain": [
       "{'image_size': (672, 672),\n",
       " 'offer_id': '30805/3685/OMS',\n",
       " 'outputs': array([[ 2.560301  , -0.8504364 , -0.21759939, ...,  1.52431   ,\n",
       "          1.125218  ,  1.6827465 ],\n",
       "        [ 1.9245269 , -0.48709422,  1.9455004 , ..., -0.94634795,\n",
       "          0.5189094 ,  0.967928  ],\n",
       "        [ 1.4143376 , -1.6160402 ,  0.3519848 , ...,  2.9981334 ,\n",
       "          1.7953353 ,  2.053301  ],\n",
       "        ...,\n",
       "        [-0.58763826, -0.72419184, -0.693054  , ..., -1.3873552 ,\n",
       "          1.4864492 , -2.251434  ],\n",
       "        [ 1.7955742 , -1.2687701 , -0.7398259 , ..., -0.5495759 ,\n",
       "          1.591101  ,  0.20677093],\n",
       "        [ 1.497448  , -0.86951196,  0.15145272, ..., -0.02245994,\n",
       "          1.4777577 ,  1.5281867 ]], dtype=float32)}"
      ]
     },
     "execution_count": 6,
     "metadata": {},
     "output_type": "execute_result"
    }
   ],
   "source": [
    "with open(\"../images_embeded/30805_3685_OMS.pkl\", \"rb\") as f:\n",
    "    data = pickle.load(f)\n",
    "data"
   ]
  }
 ],
 "metadata": {
  "kernelspec": {
   "display_name": "real-estate-dinov2-test",
   "language": "python",
   "name": "python3"
  },
  "language_info": {
   "codemirror_mode": {
    "name": "ipython",
    "version": 3
   },
   "file_extension": ".py",
   "mimetype": "text/x-python",
   "name": "python",
   "nbconvert_exporter": "python",
   "pygments_lexer": "ipython3",
   "version": "3.11.9"
  }
 },
 "nbformat": 4,
 "nbformat_minor": 2
}
