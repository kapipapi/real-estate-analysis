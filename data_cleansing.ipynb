{
 "cells": [
  {
   "cell_type": "code",
   "execution_count": 1,
   "metadata": {},
   "outputs": [
    {
     "data": {
      "text/html": [
       "<div>\n",
       "<style scoped>\n",
       "    .dataframe tbody tr th:only-of-type {\n",
       "        vertical-align: middle;\n",
       "    }\n",
       "\n",
       "    .dataframe tbody tr th {\n",
       "        vertical-align: top;\n",
       "    }\n",
       "\n",
       "    .dataframe thead th {\n",
       "        text-align: right;\n",
       "    }\n",
       "</style>\n",
       "<table border=\"1\" class=\"dataframe\">\n",
       "  <thead>\n",
       "    <tr style=\"text-align: right;\">\n",
       "      <th></th>\n",
       "      <th>url</th>\n",
       "      <th>Rynek</th>\n",
       "      <th>Cena</th>\n",
       "      <th>Powierzchnia</th>\n",
       "      <th>Cena za m2</th>\n",
       "      <th>Liczba pokoi</th>\n",
       "      <th>Piętro</th>\n",
       "      <th>Liczba pięter</th>\n",
       "      <th>Czynsz administracyjny</th>\n",
       "      <th>Rodzaj nieruchomości</th>\n",
       "      <th>...</th>\n",
       "      <th>Liczba oddzielnych toalet</th>\n",
       "      <th>Powierzchnie pokoi</th>\n",
       "      <th>Powierzchnia przedpokoju</th>\n",
       "      <th>Powierzchnia kuchni</th>\n",
       "      <th>Cena za garaż/Miejsce parkingowe</th>\n",
       "      <th>Zobacz spacer 360°</th>\n",
       "      <th>Stan mieszkania</th>\n",
       "      <th>Ciepła woda</th>\n",
       "      <th>Rodzaj ogrzewania</th>\n",
       "      <th>Typ okien</th>\n",
       "    </tr>\n",
       "  </thead>\n",
       "  <tbody>\n",
       "    <tr>\n",
       "      <th>0</th>\n",
       "      <td>https://freedom.pl/oferta/mieszkanie-na-sprzed...</td>\n",
       "      <td>Wtórny</td>\n",
       "      <td>450 000 zł</td>\n",
       "      <td>38.66 m2</td>\n",
       "      <td>11 640 zł</td>\n",
       "      <td>2</td>\n",
       "      <td>0</td>\n",
       "      <td>3</td>\n",
       "      <td>443.28</td>\n",
       "      <td>Mieszkanie</td>\n",
       "      <td>...</td>\n",
       "      <td>NaN</td>\n",
       "      <td>NaN</td>\n",
       "      <td>NaN</td>\n",
       "      <td>NaN</td>\n",
       "      <td>NaN</td>\n",
       "      <td>NaN</td>\n",
       "      <td>NaN</td>\n",
       "      <td>NaN</td>\n",
       "      <td>NaN</td>\n",
       "      <td>NaN</td>\n",
       "    </tr>\n",
       "    <tr>\n",
       "      <th>1</th>\n",
       "      <td>https://freedom.pl/oferta/mieszkanie-na-sprzed...</td>\n",
       "      <td>Wtórny</td>\n",
       "      <td>520 000 zł</td>\n",
       "      <td>32.92 m2</td>\n",
       "      <td>15 796 zł</td>\n",
       "      <td>1</td>\n",
       "      <td>0</td>\n",
       "      <td>7</td>\n",
       "      <td>NaN</td>\n",
       "      <td>Mieszkanie</td>\n",
       "      <td>...</td>\n",
       "      <td>NaN</td>\n",
       "      <td>NaN</td>\n",
       "      <td>NaN</td>\n",
       "      <td>NaN</td>\n",
       "      <td>NaN</td>\n",
       "      <td>NaN</td>\n",
       "      <td>NaN</td>\n",
       "      <td>NaN</td>\n",
       "      <td>NaN</td>\n",
       "      <td>NaN</td>\n",
       "    </tr>\n",
       "    <tr>\n",
       "      <th>2</th>\n",
       "      <td>https://freedom.pl/oferta/mieszkanie-na-sprzed...</td>\n",
       "      <td>Wtórny</td>\n",
       "      <td>690 000 zł</td>\n",
       "      <td>71.87 m2</td>\n",
       "      <td>9 601 zł</td>\n",
       "      <td>3</td>\n",
       "      <td>3</td>\n",
       "      <td>4</td>\n",
       "      <td>436.00</td>\n",
       "      <td>Mieszkanie</td>\n",
       "      <td>...</td>\n",
       "      <td>1.0</td>\n",
       "      <td>NaN</td>\n",
       "      <td>NaN</td>\n",
       "      <td>NaN</td>\n",
       "      <td>NaN</td>\n",
       "      <td>NaN</td>\n",
       "      <td>NaN</td>\n",
       "      <td>NaN</td>\n",
       "      <td>NaN</td>\n",
       "      <td>NaN</td>\n",
       "    </tr>\n",
       "    <tr>\n",
       "      <th>3</th>\n",
       "      <td>https://freedom.pl/oferta/mieszkanie-na-sprzed...</td>\n",
       "      <td>Wtórny</td>\n",
       "      <td>250 000 zł</td>\n",
       "      <td>33.29 m2</td>\n",
       "      <td>7 510 zł</td>\n",
       "      <td>1</td>\n",
       "      <td>0</td>\n",
       "      <td>2</td>\n",
       "      <td>332.91</td>\n",
       "      <td>Mieszkanie</td>\n",
       "      <td>...</td>\n",
       "      <td>NaN</td>\n",
       "      <td>17,20</td>\n",
       "      <td>3.2</td>\n",
       "      <td>9,00 m2</td>\n",
       "      <td>0 zł</td>\n",
       "      <td>NaN</td>\n",
       "      <td>NaN</td>\n",
       "      <td>NaN</td>\n",
       "      <td>NaN</td>\n",
       "      <td>NaN</td>\n",
       "    </tr>\n",
       "    <tr>\n",
       "      <th>4</th>\n",
       "      <td>https://freedom.pl/oferta/mieszkanie-na-sprzed...</td>\n",
       "      <td>Wtórny</td>\n",
       "      <td>798 000 zł</td>\n",
       "      <td>85.26 m2</td>\n",
       "      <td>9 360 zł</td>\n",
       "      <td>3</td>\n",
       "      <td>3</td>\n",
       "      <td>3</td>\n",
       "      <td>700.00</td>\n",
       "      <td>Mieszkanie</td>\n",
       "      <td>...</td>\n",
       "      <td>NaN</td>\n",
       "      <td>NaN</td>\n",
       "      <td>NaN</td>\n",
       "      <td>NaN</td>\n",
       "      <td>80 000 zł</td>\n",
       "      <td>NaN</td>\n",
       "      <td>NaN</td>\n",
       "      <td>NaN</td>\n",
       "      <td>NaN</td>\n",
       "      <td>NaN</td>\n",
       "    </tr>\n",
       "  </tbody>\n",
       "</table>\n",
       "<p>5 rows × 47 columns</p>\n",
       "</div>"
      ],
      "text/plain": [
       "                                                 url   Rynek        Cena  \\\n",
       "0  https://freedom.pl/oferta/mieszkanie-na-sprzed...  Wtórny  450 000 zł   \n",
       "1  https://freedom.pl/oferta/mieszkanie-na-sprzed...  Wtórny  520 000 zł   \n",
       "2  https://freedom.pl/oferta/mieszkanie-na-sprzed...  Wtórny  690 000 zł   \n",
       "3  https://freedom.pl/oferta/mieszkanie-na-sprzed...  Wtórny  250 000 zł   \n",
       "4  https://freedom.pl/oferta/mieszkanie-na-sprzed...  Wtórny  798 000 zł   \n",
       "\n",
       "  Powierzchnia Cena za m2  Liczba pokoi  Piętro  Liczba pięter  \\\n",
       "0     38.66 m2  11 640 zł             2       0              3   \n",
       "1     32.92 m2  15 796 zł             1       0              7   \n",
       "2     71.87 m2   9 601 zł             3       3              4   \n",
       "3     33.29 m2   7 510 zł             1       0              2   \n",
       "4     85.26 m2   9 360 zł             3       3              3   \n",
       "\n",
       "   Czynsz administracyjny Rodzaj nieruchomości  ... Liczba oddzielnych toalet  \\\n",
       "0                  443.28           Mieszkanie  ...                       NaN   \n",
       "1                     NaN           Mieszkanie  ...                       NaN   \n",
       "2                  436.00           Mieszkanie  ...                       1.0   \n",
       "3                  332.91           Mieszkanie  ...                       NaN   \n",
       "4                  700.00           Mieszkanie  ...                       NaN   \n",
       "\n",
       "  Powierzchnie pokoi Powierzchnia przedpokoju Powierzchnia kuchni  \\\n",
       "0                NaN                      NaN                 NaN   \n",
       "1                NaN                      NaN                 NaN   \n",
       "2                NaN                      NaN                 NaN   \n",
       "3              17,20                      3.2             9,00 m2   \n",
       "4                NaN                      NaN                 NaN   \n",
       "\n",
       "  Cena za garaż/Miejsce parkingowe  Zobacz spacer 360° Stan mieszkania  \\\n",
       "0                              NaN                 NaN             NaN   \n",
       "1                              NaN                 NaN             NaN   \n",
       "2                              NaN                 NaN             NaN   \n",
       "3                             0 zł                 NaN             NaN   \n",
       "4                        80 000 zł                 NaN             NaN   \n",
       "\n",
       "  Ciepła woda Rodzaj ogrzewania  Typ okien  \n",
       "0         NaN               NaN        NaN  \n",
       "1         NaN               NaN        NaN  \n",
       "2         NaN               NaN        NaN  \n",
       "3         NaN               NaN        NaN  \n",
       "4         NaN               NaN        NaN  \n",
       "\n",
       "[5 rows x 47 columns]"
      ]
     },
     "execution_count": 1,
     "metadata": {},
     "output_type": "execute_result"
    }
   ],
   "source": [
    "import pandas as pd\n",
    "\n",
    "df = pd.read_csv('./data/flats_dirty.csv')\n",
    "df.head()"
   ]
  },
  {
   "cell_type": "code",
   "execution_count": 2,
   "metadata": {},
   "outputs": [
    {
     "data": {
      "text/plain": [
       "Index(['url', 'Rynek', 'Cena', 'Powierzchnia', 'Cena za m2', 'Liczba pokoi',\n",
       "       'Piętro', 'Liczba pięter', 'Czynsz administracyjny',\n",
       "       'Rodzaj nieruchomości', 'Stan nieruchomości', 'Umeblowanie',\n",
       "       'Dostępne od', 'Numer oferty', 'Rodzaj budynku', 'Rok budowy',\n",
       "       'Materiał', 'Winda', 'Domofon', 'Wysokość pomieszczeń (cm)',\n",
       "       'Podłogi w pomieszczeniach', 'Typ kuchni', 'Liczba łazienek',\n",
       "       'Garaż/Miejsca parkingowe',\n",
       "       'Informacje o Garażu/Miejscach parkingowych',\n",
       "       'Liczba miejsc parkingowych', 'Adres', 'Komunikacja', 'W pobliżu',\n",
       "       'opis', 'Typ mieszkania', 'Balkon', 'Alarm', 'Monitoring', 'Ochrona',\n",
       "       'Recepcja', 'Teren ogrodzony', 'Liczba oddzielnych toalet',\n",
       "       'Powierzchnie pokoi', 'Powierzchnia przedpokoju', 'Powierzchnia kuchni',\n",
       "       'Cena za garaż/Miejsce parkingowe', 'Zobacz spacer 360°',\n",
       "       'Stan mieszkania', 'Ciepła woda', 'Rodzaj ogrzewania', 'Typ okien'],\n",
       "      dtype='object')"
      ]
     },
     "execution_count": 2,
     "metadata": {},
     "output_type": "execute_result"
    }
   ],
   "source": [
    "df1 = df.copy()\n",
    "df1.columns"
   ]
  },
  {
   "cell_type": "markdown",
   "metadata": {},
   "source": [
    "## Data analysis"
   ]
  },
  {
   "cell_type": "markdown",
   "metadata": {},
   "source": [
    "### Rynek"
   ]
  },
  {
   "cell_type": "code",
   "execution_count": 3,
   "metadata": {},
   "outputs": [
    {
     "data": {
      "text/plain": [
       "Rynek\n",
       "Wtórny       69\n",
       "Pierwotny     1\n",
       "Name: count, dtype: int64"
      ]
     },
     "execution_count": 3,
     "metadata": {},
     "output_type": "execute_result"
    }
   ],
   "source": [
    "df1['Rynek'] = df['Rynek'].astype('category')\n",
    "df1['Rynek'].value_counts()"
   ]
  },
  {
   "cell_type": "markdown",
   "metadata": {},
   "source": [
    "### Cena całkowita"
   ]
  },
  {
   "cell_type": "code",
   "execution_count": 4,
   "metadata": {},
   "outputs": [
    {
     "data": {
      "text/plain": [
       "count    7.000000e+01\n",
       "mean     6.452011e+05\n",
       "std      2.298485e+05\n",
       "min      2.500000e+05\n",
       "25%      4.750000e+05\n",
       "50%      5.994500e+05\n",
       "75%      7.987500e+05\n",
       "max      1.270000e+06\n",
       "Name: Cena, dtype: float64"
      ]
     },
     "execution_count": 4,
     "metadata": {},
     "output_type": "execute_result"
    }
   ],
   "source": [
    "df1[\"Cena\"] = df[\"Cena\"].str.replace(\" zł\", \"\").str.replace(\" \", \"\").astype(float)\n",
    "df1[\"Cena\"].describe()"
   ]
  },
  {
   "cell_type": "markdown",
   "metadata": {},
   "source": [
    "### Powierzchnia"
   ]
  },
  {
   "cell_type": "code",
   "execution_count": 5,
   "metadata": {},
   "outputs": [
    {
     "data": {
      "text/plain": [
       "Text(0.5, 0, 'Powierzchnia [m2]')"
      ]
     },
     "execution_count": 5,
     "metadata": {},
     "output_type": "execute_result"
    },
    {
     "data": {
      "image/png": "[encoded data removed]",
      "text/plain": [
       "<Figure size 640x480 with 1 Axes>"
      ]
     },
     "metadata": {},
     "output_type": "display_data"
    }
   ],
   "source": [
    "df1[\"Powierzchnia\"] = df[\"Powierzchnia\"].str.replace(\" m2\", \"\").str.replace(\",\", \".\").astype(float)\n",
    "df1[\"Powierzchnia\"].hist(bins=30).set_xlabel(\"Powierzchnia [m2]\")"
   ]
  },
  {
   "cell_type": "markdown",
   "metadata": {},
   "source": [
    "### Cena za m2"
   ]
  },
  {
   "cell_type": "code",
   "execution_count": 6,
   "metadata": {},
   "outputs": [
    {
     "data": {
      "text/plain": [
       "Text(0.5, 0, 'Cena za metr [zł/m2]')"
      ]
     },
     "execution_count": 6,
     "metadata": {},
     "output_type": "execute_result"
    },
    {
     "data": {
      "image/png": "[encoded data removed]",
      "text/plain": [
       "<Figure size 640x480 with 1 Axes>"
      ]
     },
     "metadata": {},
     "output_type": "display_data"
    }
   ],
   "source": [
    "df1[\"Cena za m2\"] = df[\"Cena za m2\"].str.replace(\" zł\", \"\").str.replace(\" \", \"\").astype(float)\n",
    "df1[\"Cena za m2\"].hist(bins=30).set_xlabel(\"Cena za metr [zł/m2]\")"
   ]
  },
  {
   "cell_type": "markdown",
   "metadata": {},
   "source": [
    "### Czynsz administracyjny"
   ]
  },
  {
   "cell_type": "code",
   "execution_count": 7,
   "metadata": {},
   "outputs": [
    {
     "name": "stdout",
     "output_type": "stream",
     "text": [
      "29044/3685/OMS \n",
      "24123/3685/OMS \n",
      "31096/3685/OMS \n",
      "21279/3685/OMS Apartament jest obsługiwany i wynajmowany przez hotel ze stałym czynszem najmu w wysokości 39 tys. zł\n",
      "29243/3685/OMS Apartament jest obsługiwany i wynajmowany przez hotel ze stałym czynszem najmu w wysokości 25480  zł.\n"
     ]
    }
   ],
   "source": [
    "for (idx, row) in df[df[\"Czynsz administracyjny\"].isna()][[\"Numer oferty\", \"opis\"]].iterrows():\n",
    "    numer_oferty = row.iloc[0]\n",
    "    opis = row.iloc[1]\n",
    "    x = row['opis'].find(\"czynsz\")\n",
    "    print(numer_oferty, opis[x-64:x+37])"
   ]
  },
  {
   "cell_type": "code",
   "execution_count": 8,
   "metadata": {},
   "outputs": [],
   "source": [
    "df.loc[df[\"Numer oferty\"]==\"21279/3685/OMS\", \"Czynsz administracyjny\"] = 39000 / 12\n",
    "df.loc[df[\"Numer oferty\"]==\"29243/3685/OMS\", \"Czynsz administracyjny\"] = 25480 / 12"
   ]
  },
  {
   "cell_type": "code",
   "execution_count": 12,
   "metadata": {},
   "outputs": [
    {
     "data": {
      "text/plain": [
       "Text(0.5, 0, 'Czynsz administracyjny [zł]')"
      ]
     },
     "execution_count": 12,
     "metadata": {},
     "output_type": "execute_result"
    },
    {
     "data": {
      "image/png": "[encoded data removed]",
      "text/plain": [
       "<Figure size 640x480 with 1 Axes>"
      ]
     },
     "metadata": {},
     "output_type": "display_data"
    }
   ],
   "source": [
    "df1[\"Czynsz administracyjny\"] = df[\"Czynsz administracyjny\"].astype(float)\n",
    "df1[\"Czynsz administracyjny\"].hist(bins=30).set_xlabel(\"Czynsz administracyjny [zł]\")"
   ]
  },
  {
   "cell_type": "markdown",
   "metadata": {},
   "source": [
    "### Rodzaj nieruchomości"
   ]
  },
  {
   "cell_type": "code",
   "execution_count": 21,
   "metadata": {},
   "outputs": [
    {
     "data": {
      "text/plain": [
       "Index(['Mieszkanie'], dtype='object')"
      ]
     },
     "execution_count": 21,
     "metadata": {},
     "output_type": "execute_result"
    }
   ],
   "source": [
    "df1[\"Rodzaj nieruchomości\"] = df[\"Rodzaj nieruchomości\"].astype('category')\n",
    "df1[\"Rodzaj nieruchomości\"].cat.categories"
   ]
  },
  {
   "cell_type": "markdown",
   "metadata": {},
   "source": [
    "### Stan nieruchomości"
   ]
  },
  {
   "cell_type": "code",
   "execution_count": 25,
   "metadata": {},
   "outputs": [
    {
     "data": {
      "text/plain": [
       "Index(['Bardzo dobry', 'Do adaptacji', 'Do drobnego remontu',\n",
       "       'Do kapitalnego remontu', 'Do odnowienia', 'Do odświeżenia',\n",
       "       'Do remontu', 'Do wykończenia', 'Dobry', 'Idealny', 'Po remoncie',\n",
       "       'Stan deweloperski'],\n",
       "      dtype='object')"
      ]
     },
     "execution_count": 25,
     "metadata": {},
     "output_type": "execute_result"
    }
   ],
   "source": [
    "df1[\"Stan nieruchomości\"] = df[\"Stan nieruchomości\"].astype('category')\n",
    "df1[\"Stan nieruchomości\"].cat.categories"
   ]
  },
  {
   "cell_type": "code",
   "execution_count": 29,
   "metadata": {},
   "outputs": [
    {
     "data": {
      "text/plain": [
       "Index(['Częściowo', 'Możliwe', 'Nie', 'Tak'], dtype='object')"
      ]
     },
     "execution_count": 29,
     "metadata": {},
     "output_type": "execute_result"
    }
   ],
   "source": [
    "df1[\"Umeblowanie\"] = df[\"Umeblowanie\"].astype('category')\n",
    "df1[\"Umeblowanie\"].cat.categories"
   ]
  },
  {
   "cell_type": "markdown",
   "metadata": {},
   "source": [
    "### Dostępne od"
   ]
  },
  {
   "cell_type": "code",
   "execution_count": 41,
   "metadata": {},
   "outputs": [
    {
     "data": {
      "text/plain": [
       "Text(0.5, 0, 'Dostępne od')"
      ]
     },
     "execution_count": 41,
     "metadata": {},
     "output_type": "execute_result"
    },
    {
     "data": {
      "image/png": "[encoded data removed]",
      "text/plain": [
       "<Figure size 640x480 with 1 Axes>"
      ]
     },
     "metadata": {},
     "output_type": "display_data"
    }
   ],
   "source": [
    "df1[\"Dostępne od\"] = df[\"Dostępne od\"].astype('datetime64[ns]')\n",
    "df1[\"Dostępne od\"].hist(bins=30).set_xlabel(\"Dostępne od\")"
   ]
  },
  {
   "cell_type": "markdown",
   "metadata": {},
   "source": [
    "### Numer oferty"
   ]
  },
  {
   "cell_type": "code",
   "execution_count": 44,
   "metadata": {},
   "outputs": [
    {
     "data": {
      "text/plain": [
       "0"
      ]
     },
     "execution_count": 44,
     "metadata": {},
     "output_type": "execute_result"
    }
   ],
   "source": [
    "df[\"Numer oferty\"].isna().sum()"
   ]
  },
  {
   "cell_type": "markdown",
   "metadata": {},
   "source": [
    "### Rodzaj budynku"
   ]
  },
  {
   "cell_type": "code",
   "execution_count": 46,
   "metadata": {},
   "outputs": [
    {
     "data": {
      "text/plain": [
       "Index(['Apartamentowo-handlowy', 'Biurowo-handlowy', 'Budynek apartamentowy',\n",
       "       'Część domu', 'Dom', 'Hotel', 'Kamienica', 'Mieszkalno-biurowy',\n",
       "       'Niski blok', 'Segment'],\n",
       "      dtype='object')"
      ]
     },
     "execution_count": 46,
     "metadata": {},
     "output_type": "execute_result"
    }
   ],
   "source": [
    "df1[\"Rodzaj budynku\"] = df[\"Rodzaj budynku\"].astype('category').cat.categories"
   ]
  },
  {
   "cell_type": "code",
   "execution_count": null,
   "metadata": {},
   "outputs": [],
   "source": []
  }
 ],
 "metadata": {
  "kernelspec": {
   "display_name": "freedom-webscrap",
   "language": "python",
   "name": "python3"
  },
  "language_info": {
   "codemirror_mode": {
    "name": "ipython",
    "version": 3
   },
   "file_extension": ".py",
   "mimetype": "text/x-python",
   "name": "python",
   "nbconvert_exporter": "python",
   "pygments_lexer": "ipython3",
   "version": "3.11.4"
  }
 },
 "nbformat": 4,
 "nbformat_minor": 2
}
