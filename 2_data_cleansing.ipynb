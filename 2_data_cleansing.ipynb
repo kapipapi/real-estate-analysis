{
 "cells": [
  {
   "cell_type": "code",
   "execution_count": 86,
   "metadata": {},
   "outputs": [
    {
     "data": {
      "text/html": [
       "<div>\n",
       "<style scoped>\n",
       "    .dataframe tbody tr th:only-of-type {\n",
       "        vertical-align: middle;\n",
       "    }\n",
       "\n",
       "    .dataframe tbody tr th {\n",
       "        vertical-align: top;\n",
       "    }\n",
       "\n",
       "    .dataframe thead th {\n",
       "        text-align: right;\n",
       "    }\n",
       "</style>\n",
       "<table border=\"1\" class=\"dataframe\">\n",
       "  <thead>\n",
       "    <tr style=\"text-align: right;\">\n",
       "      <th></th>\n",
       "      <th>url</th>\n",
       "      <th>Rynek</th>\n",
       "      <th>Cena</th>\n",
       "      <th>Powierzchnia</th>\n",
       "      <th>Cena za m2</th>\n",
       "      <th>Liczba pokoi</th>\n",
       "      <th>Piętro</th>\n",
       "      <th>Liczba pięter</th>\n",
       "      <th>Czynsz administracyjny</th>\n",
       "      <th>Typ mieszkania</th>\n",
       "      <th>...</th>\n",
       "      <th>Cena za garaż/Miejsce parkingowe</th>\n",
       "      <th>Komunikacja</th>\n",
       "      <th>Powierzchnia przedpokoju</th>\n",
       "      <th>Alarm</th>\n",
       "      <th>Liczba oddzielnych toalet</th>\n",
       "      <th>Stan mieszkania</th>\n",
       "      <th>Ciepła woda</th>\n",
       "      <th>Rodzaj ogrzewania</th>\n",
       "      <th>Typ okien</th>\n",
       "      <th>Powierzchnia kuchni</th>\n",
       "    </tr>\n",
       "  </thead>\n",
       "  <tbody>\n",
       "    <tr>\n",
       "      <th>0</th>\n",
       "      <td>https://freedom.pl/oferta/mieszkanie-na-sprzed...</td>\n",
       "      <td>Wtórny</td>\n",
       "      <td>420 000 zł</td>\n",
       "      <td>26.8 m2</td>\n",
       "      <td>15 672 zł</td>\n",
       "      <td>1</td>\n",
       "      <td>1</td>\n",
       "      <td>7</td>\n",
       "      <td>350.0</td>\n",
       "      <td>Apartament</td>\n",
       "      <td>...</td>\n",
       "      <td>NaN</td>\n",
       "      <td>NaN</td>\n",
       "      <td>NaN</td>\n",
       "      <td>NaN</td>\n",
       "      <td>NaN</td>\n",
       "      <td>NaN</td>\n",
       "      <td>NaN</td>\n",
       "      <td>NaN</td>\n",
       "      <td>NaN</td>\n",
       "      <td>NaN</td>\n",
       "    </tr>\n",
       "    <tr>\n",
       "      <th>1</th>\n",
       "      <td>https://freedom.pl/oferta/mieszkanie-na-sprzed...</td>\n",
       "      <td>Wtórny</td>\n",
       "      <td>490 000 zł</td>\n",
       "      <td>36.98 m2</td>\n",
       "      <td>13 250 zł</td>\n",
       "      <td>2</td>\n",
       "      <td>4</td>\n",
       "      <td>4</td>\n",
       "      <td>389.0</td>\n",
       "      <td>Apartament</td>\n",
       "      <td>...</td>\n",
       "      <td>40 000 zł</td>\n",
       "      <td>Autobus</td>\n",
       "      <td>NaN</td>\n",
       "      <td>NaN</td>\n",
       "      <td>NaN</td>\n",
       "      <td>NaN</td>\n",
       "      <td>NaN</td>\n",
       "      <td>NaN</td>\n",
       "      <td>NaN</td>\n",
       "      <td>NaN</td>\n",
       "    </tr>\n",
       "    <tr>\n",
       "      <th>2</th>\n",
       "      <td>https://freedom.pl/oferta/mieszkanie-na-sprzed...</td>\n",
       "      <td>Wtórny</td>\n",
       "      <td>900 000 zł</td>\n",
       "      <td>48.47 m2</td>\n",
       "      <td>18 568 zł</td>\n",
       "      <td>2</td>\n",
       "      <td>3</td>\n",
       "      <td>4</td>\n",
       "      <td>1064.0</td>\n",
       "      <td>Apartament</td>\n",
       "      <td>...</td>\n",
       "      <td>NaN</td>\n",
       "      <td>NaN</td>\n",
       "      <td>NaN</td>\n",
       "      <td>NaN</td>\n",
       "      <td>NaN</td>\n",
       "      <td>NaN</td>\n",
       "      <td>NaN</td>\n",
       "      <td>NaN</td>\n",
       "      <td>NaN</td>\n",
       "      <td>NaN</td>\n",
       "    </tr>\n",
       "    <tr>\n",
       "      <th>3</th>\n",
       "      <td>https://freedom.pl/oferta/mieszkanie-na-sprzed...</td>\n",
       "      <td>Wtórny</td>\n",
       "      <td>730 739 zł</td>\n",
       "      <td>31.91 m2</td>\n",
       "      <td>22 900 zł</td>\n",
       "      <td>2</td>\n",
       "      <td>3</td>\n",
       "      <td>5</td>\n",
       "      <td>NaN</td>\n",
       "      <td>Apartament</td>\n",
       "      <td>...</td>\n",
       "      <td>60 000 zł</td>\n",
       "      <td>NaN</td>\n",
       "      <td>2.16</td>\n",
       "      <td>NaN</td>\n",
       "      <td>NaN</td>\n",
       "      <td>NaN</td>\n",
       "      <td>NaN</td>\n",
       "      <td>NaN</td>\n",
       "      <td>NaN</td>\n",
       "      <td>NaN</td>\n",
       "    </tr>\n",
       "    <tr>\n",
       "      <th>4</th>\n",
       "      <td>https://freedom.pl/oferta/mieszkanie-na-sprzed...</td>\n",
       "      <td>Wtórny</td>\n",
       "      <td>1 270 000 zł</td>\n",
       "      <td>97.34 m2</td>\n",
       "      <td>13 047 zł</td>\n",
       "      <td>4</td>\n",
       "      <td>2</td>\n",
       "      <td>4</td>\n",
       "      <td>800.0</td>\n",
       "      <td>Apartament ,Jednopoziomowe</td>\n",
       "      <td>...</td>\n",
       "      <td>120 000 zł</td>\n",
       "      <td>Autobus</td>\n",
       "      <td>NaN</td>\n",
       "      <td>NaN</td>\n",
       "      <td>NaN</td>\n",
       "      <td>NaN</td>\n",
       "      <td>NaN</td>\n",
       "      <td>NaN</td>\n",
       "      <td>NaN</td>\n",
       "      <td>NaN</td>\n",
       "    </tr>\n",
       "  </tbody>\n",
       "</table>\n",
       "<p>5 rows × 47 columns</p>\n",
       "</div>"
      ],
      "text/plain": [
       "                                                 url   Rynek          Cena  \\\n",
       "0  https://freedom.pl/oferta/mieszkanie-na-sprzed...  Wtórny    420 000 zł   \n",
       "1  https://freedom.pl/oferta/mieszkanie-na-sprzed...  Wtórny    490 000 zł   \n",
       "2  https://freedom.pl/oferta/mieszkanie-na-sprzed...  Wtórny    900 000 zł   \n",
       "3  https://freedom.pl/oferta/mieszkanie-na-sprzed...  Wtórny    730 739 zł   \n",
       "4  https://freedom.pl/oferta/mieszkanie-na-sprzed...  Wtórny  1 270 000 zł   \n",
       "\n",
       "  Powierzchnia Cena za m2  Liczba pokoi  Piętro  Liczba pięter  \\\n",
       "0      26.8 m2  15 672 zł             1       1              7   \n",
       "1     36.98 m2  13 250 zł             2       4              4   \n",
       "2     48.47 m2  18 568 zł             2       3              4   \n",
       "3     31.91 m2  22 900 zł             2       3              5   \n",
       "4     97.34 m2  13 047 zł             4       2              4   \n",
       "\n",
       "   Czynsz administracyjny              Typ mieszkania  ...  \\\n",
       "0                   350.0                  Apartament  ...   \n",
       "1                   389.0                  Apartament  ...   \n",
       "2                  1064.0                  Apartament  ...   \n",
       "3                     NaN                  Apartament  ...   \n",
       "4                   800.0  Apartament ,Jednopoziomowe  ...   \n",
       "\n",
       "  Cena za garaż/Miejsce parkingowe Komunikacja Powierzchnia przedpokoju Alarm  \\\n",
       "0                              NaN         NaN                      NaN   NaN   \n",
       "1                        40 000 zł     Autobus                      NaN   NaN   \n",
       "2                              NaN         NaN                      NaN   NaN   \n",
       "3                        60 000 zł         NaN                     2.16   NaN   \n",
       "4                       120 000 zł     Autobus                      NaN   NaN   \n",
       "\n",
       "  Liczba oddzielnych toalet Stan mieszkania Ciepła woda  Rodzaj ogrzewania  \\\n",
       "0                       NaN             NaN         NaN                NaN   \n",
       "1                       NaN             NaN         NaN                NaN   \n",
       "2                       NaN             NaN         NaN                NaN   \n",
       "3                       NaN             NaN         NaN                NaN   \n",
       "4                       NaN             NaN         NaN                NaN   \n",
       "\n",
       "  Typ okien Powierzchnia kuchni  \n",
       "0       NaN                 NaN  \n",
       "1       NaN                 NaN  \n",
       "2       NaN                 NaN  \n",
       "3       NaN                 NaN  \n",
       "4       NaN                 NaN  \n",
       "\n",
       "[5 rows x 47 columns]"
      ]
     },
     "execution_count": 86,
     "metadata": {},
     "output_type": "execute_result"
    }
   ],
   "source": [
    "import pandas as pd\n",
    "\n",
    "df = pd.read_csv('./data/flats_dirty.csv')\n",
    "df.head()"
   ]
  },
  {
   "cell_type": "code",
   "execution_count": 87,
   "metadata": {},
   "outputs": [
    {
     "data": {
      "text/plain": [
       "Index(['url', 'Rynek', 'Cena', 'Powierzchnia', 'Cena za m2', 'Liczba pokoi',\n",
       "       'Piętro', 'Liczba pięter', 'Czynsz administracyjny', 'Typ mieszkania',\n",
       "       'Rodzaj nieruchomości', 'Stan nieruchomości', 'Umeblowanie',\n",
       "       'Dostępne od', 'Numer oferty', 'Zobacz spacer 360°', 'Rodzaj budynku',\n",
       "       'Rok budowy', 'Winda', 'Monitoring', 'Ochrona', 'Recepcja',\n",
       "       'Teren ogrodzony', 'Liczba łazienek', 'Adres', 'W pobliżu', 'opis',\n",
       "       'Balkon', 'Materiał', 'Domofon', 'Wysokość pomieszczeń (cm)',\n",
       "       'Powierzchnie pokoi', 'Podłogi w pomieszczeniach', 'Typ kuchni',\n",
       "       'Garaż/Miejsca parkingowe',\n",
       "       'Informacje o Garażu/Miejscach parkingowych',\n",
       "       'Liczba miejsc parkingowych', 'Cena za garaż/Miejsce parkingowe',\n",
       "       'Komunikacja', 'Powierzchnia przedpokoju', 'Alarm',\n",
       "       'Liczba oddzielnych toalet', 'Stan mieszkania', 'Ciepła woda',\n",
       "       'Rodzaj ogrzewania', 'Typ okien', 'Powierzchnia kuchni'],\n",
       "      dtype='object')"
      ]
     },
     "execution_count": 87,
     "metadata": {},
     "output_type": "execute_result"
    }
   ],
   "source": [
    "df1 = pd.DataFrame()\n",
    "\n",
    "df.columns"
   ]
  },
  {
   "cell_type": "markdown",
   "metadata": {},
   "source": [
    "## Data analysis"
   ]
  },
  {
   "cell_type": "code",
   "execution_count": 88,
   "metadata": {},
   "outputs": [],
   "source": [
    "df1['url'] = df['url']\n",
    "df1['Liczba pokoi'] = df['Liczba pokoi']\n",
    "df1['Piętro'] = df['Piętro']\n",
    "df1['Liczba pięter'] = df['Liczba pięter']\n",
    "df1['Adres'] = df['Adres']\n",
    "df1['opis'] = df['opis']"
   ]
  },
  {
   "cell_type": "markdown",
   "metadata": {},
   "source": [
    "### Rynek"
   ]
  },
  {
   "cell_type": "code",
   "execution_count": 89,
   "metadata": {},
   "outputs": [
    {
     "data": {
      "text/plain": [
       "Rynek\n",
       "Wtórny       68\n",
       "Pierwotny     1\n",
       "Name: count, dtype: int64"
      ]
     },
     "execution_count": 89,
     "metadata": {},
     "output_type": "execute_result"
    }
   ],
   "source": [
    "df1['Rynek'] = df['Rynek'].astype('category')\n",
    "df1['Rynek'].value_counts()"
   ]
  },
  {
   "cell_type": "markdown",
   "metadata": {},
   "source": [
    "### Cena całkowita"
   ]
  },
  {
   "cell_type": "code",
   "execution_count": 90,
   "metadata": {},
   "outputs": [
    {
     "data": {
      "text/plain": [
       "count    6.900000e+01\n",
       "mean     6.454374e+05\n",
       "std      2.316900e+05\n",
       "min      2.500000e+05\n",
       "25%      4.700000e+05\n",
       "50%      5.990000e+05\n",
       "75%      7.990000e+05\n",
       "max      1.270000e+06\n",
       "Name: Cena, dtype: float64"
      ]
     },
     "execution_count": 90,
     "metadata": {},
     "output_type": "execute_result"
    }
   ],
   "source": [
    "df1[\"Cena\"] = df[\"Cena\"].str.replace(\" zł\", \"\").str.replace(\" \", \"\").astype(float)\n",
    "df1[\"Cena\"].describe()"
   ]
  },
  {
   "cell_type": "markdown",
   "metadata": {},
   "source": [
    "### Powierzchnia"
   ]
  },
  {
   "cell_type": "code",
   "execution_count": 91,
   "metadata": {},
   "outputs": [
    {
     "data": {
      "text/plain": [
       "Text(0.5, 0, 'Powierzchnia [m2]')"
      ]
     },
     "execution_count": 91,
     "metadata": {},
     "output_type": "execute_result"
    },
    {
     "data": {
      "image/png": "[encoded data removed]",
      "text/plain": [
       "<Figure size 640x480 with 1 Axes>"
      ]
     },
     "metadata": {},
     "output_type": "display_data"
    }
   ],
   "source": [
    "df1[\"Powierzchnia\"] = df[\"Powierzchnia\"].str.replace(\" m2\", \"\").str.replace(\",\", \".\").astype(float)\n",
    "df1[\"Powierzchnia\"].hist(bins=30).set_xlabel(\"Powierzchnia [m2]\")"
   ]
  },
  {
   "cell_type": "markdown",
   "metadata": {},
   "source": [
    "### Cena za m2"
   ]
  },
  {
   "cell_type": "code",
   "execution_count": 92,
   "metadata": {},
   "outputs": [
    {
     "data": {
      "text/plain": [
       "Text(0.5, 0, 'Cena za metr [zł/m2]')"
      ]
     },
     "execution_count": 92,
     "metadata": {},
     "output_type": "execute_result"
    },
    {
     "data": {
      "image/png": "[encoded data removed]",
      "text/plain": [
       "<Figure size 640x480 with 1 Axes>"
      ]
     },
     "metadata": {},
     "output_type": "display_data"
    }
   ],
   "source": [
    "df1[\"Cena za m2\"] = df[\"Cena za m2\"].str.replace(\" zł\", \"\").str.replace(\" \", \"\").astype(float)\n",
    "df1[\"Cena za m2\"].hist(bins=30).set_xlabel(\"Cena za metr [zł/m2]\")"
   ]
  },
  {
   "cell_type": "markdown",
   "metadata": {},
   "source": [
    "### Czynsz administracyjny"
   ]
  },
  {
   "cell_type": "code",
   "execution_count": 93,
   "metadata": {},
   "outputs": [
    {
     "name": "stdout",
     "output_type": "stream",
     "text": [
      "24123/3685/OMS \n",
      "29044/3685/OMS \n",
      "29243/3685/OMS Apartament jest obsługiwany i wynajmowany przez hotel ze stałym czynszem najmu w wysokości 25480  zł.\n",
      "31096/3685/OMS \n",
      "21279/3685/OMS Apartament jest obsługiwany i wynajmowany przez hotel ze stałym czynszem najmu w wysokości 39 tys. zł\n"
     ]
    }
   ],
   "source": [
    "for (idx, row) in df[df[\"Czynsz administracyjny\"].isna()][[\"Numer oferty\", \"opis\"]].iterrows():\n",
    "    numer_oferty = row.iloc[0]\n",
    "    opis = row.iloc[1]\n",
    "    x = row['opis'].find(\"czynsz\")\n",
    "    print(numer_oferty, opis[x-64:x+37])"
   ]
  },
  {
   "cell_type": "code",
   "execution_count": 94,
   "metadata": {},
   "outputs": [],
   "source": [
    "df.loc[df[\"Numer oferty\"]==\"21279/3685/OMS\", \"Czynsz administracyjny\"] = 39000 / 12\n",
    "df.loc[df[\"Numer oferty\"]==\"29243/3685/OMS\", \"Czynsz administracyjny\"] = 25480 / 12"
   ]
  },
  {
   "cell_type": "code",
   "execution_count": 95,
   "metadata": {},
   "outputs": [
    {
     "data": {
      "text/plain": [
       "Text(0.5, 0, 'Czynsz administracyjny [zł]')"
      ]
     },
     "execution_count": 95,
     "metadata": {},
     "output_type": "execute_result"
    },
    {
     "data": {
      "image/png": "[encoded data removed]",
      "text/plain": [
       "<Figure size 640x480 with 1 Axes>"
      ]
     },
     "metadata": {},
     "output_type": "display_data"
    }
   ],
   "source": [
    "df1[\"Czynsz administracyjny\"] = df[\"Czynsz administracyjny\"].astype(float)\n",
    "df1[\"Czynsz administracyjny\"].hist(bins=30).set_xlabel(\"Czynsz administracyjny [zł]\")"
   ]
  },
  {
   "cell_type": "markdown",
   "metadata": {},
   "source": [
    "### Rodzaj nieruchomości"
   ]
  },
  {
   "cell_type": "code",
   "execution_count": 96,
   "metadata": {},
   "outputs": [
    {
     "data": {
      "text/plain": [
       "['Mieszkanie']\n",
       "Categories (1, object): ['Mieszkanie']"
      ]
     },
     "execution_count": 96,
     "metadata": {},
     "output_type": "execute_result"
    }
   ],
   "source": [
    "df[\"Rodzaj nieruchomości\"].astype('category').unique()"
   ]
  },
  {
   "cell_type": "markdown",
   "metadata": {},
   "source": [
    "### Stan nieruchomości"
   ]
  },
  {
   "cell_type": "code",
   "execution_count": 97,
   "metadata": {},
   "outputs": [
    {
     "data": {
      "text/plain": [
       "Index(['Bardzo dobry', 'Do adaptacji', 'Do drobnego remontu',\n",
       "       'Do kapitalnego remontu', 'Do odnowienia', 'Do odświeżenia',\n",
       "       'Do remontu', 'Do wykończenia', 'Dobry', 'Idealny', 'Po remoncie',\n",
       "       'Stan deweloperski'],\n",
       "      dtype='object')"
      ]
     },
     "execution_count": 97,
     "metadata": {},
     "output_type": "execute_result"
    }
   ],
   "source": [
    "df1[\"Stan nieruchomości\"] = df[\"Stan nieruchomości\"].astype('category')\n",
    "df1[\"Stan nieruchomości\"].cat.categories"
   ]
  },
  {
   "cell_type": "markdown",
   "metadata": {},
   "source": [
    "### Umeblowanie"
   ]
  },
  {
   "cell_type": "code",
   "execution_count": 98,
   "metadata": {},
   "outputs": [
    {
     "data": {
      "text/plain": [
       "Index(['Częściowo', 'Możliwe', 'Nie', 'Tak'], dtype='object')"
      ]
     },
     "execution_count": 98,
     "metadata": {},
     "output_type": "execute_result"
    }
   ],
   "source": [
    "df1[\"Umeblowanie\"] = df[\"Umeblowanie\"].astype('category')\n",
    "df1[\"Umeblowanie\"].cat.categories"
   ]
  },
  {
   "cell_type": "markdown",
   "metadata": {},
   "source": [
    "### Dostępne od"
   ]
  },
  {
   "cell_type": "code",
   "execution_count": 99,
   "metadata": {},
   "outputs": [
    {
     "data": {
      "text/plain": [
       "Text(0.5, 0, 'Dostępne od')"
      ]
     },
     "execution_count": 99,
     "metadata": {},
     "output_type": "execute_result"
    },
    {
     "data": {
      "image/png": "[encoded data removed]",
      "text/plain": [
       "<Figure size 640x480 with 1 Axes>"
      ]
     },
     "metadata": {},
     "output_type": "display_data"
    }
   ],
   "source": [
    "df1[\"Dostępne od\"] = df[\"Dostępne od\"].astype('datetime64[ns]')\n",
    "df1[\"Dostępne od\"].hist(bins=30).set_xlabel(\"Dostępne od\")"
   ]
  },
  {
   "cell_type": "markdown",
   "metadata": {},
   "source": [
    "### Numer oferty"
   ]
  },
  {
   "cell_type": "code",
   "execution_count": 100,
   "metadata": {},
   "outputs": [
    {
     "data": {
      "text/plain": [
       "0"
      ]
     },
     "execution_count": 100,
     "metadata": {},
     "output_type": "execute_result"
    }
   ],
   "source": [
    "df1[\"Numer oferty\"] = df[\"Numer oferty\"]\n",
    "df1[\"Numer oferty\"].isna().sum()"
   ]
  },
  {
   "cell_type": "markdown",
   "metadata": {},
   "source": [
    "### Rodzaj budynku"
   ]
  },
  {
   "cell_type": "code",
   "execution_count": 101,
   "metadata": {},
   "outputs": [
    {
     "data": {
      "text/plain": [
       "Index(['Apartamentowo-handlowy', 'Biurowo-handlowy', 'Budynek apartamentowy',\n",
       "       'Część domu', 'Dom', 'Hotel', 'Kamienica', 'Mieszkalno-biurowy',\n",
       "       'Niski blok', 'Segment'],\n",
       "      dtype='object')"
      ]
     },
     "execution_count": 101,
     "metadata": {},
     "output_type": "execute_result"
    }
   ],
   "source": [
    "df1[\"Rodzaj budynku\"] = df[\"Rodzaj budynku\"].astype('category')\n",
    "df1[\"Rodzaj budynku\"].cat.categories"
   ]
  },
  {
   "cell_type": "markdown",
   "metadata": {},
   "source": [
    "### Rok budowy"
   ]
  },
  {
   "cell_type": "code",
   "execution_count": 102,
   "metadata": {},
   "outputs": [
    {
     "data": {
      "text/plain": [
       "Text(0.5, 0, 'Rok budowy')"
      ]
     },
     "execution_count": 102,
     "metadata": {},
     "output_type": "execute_result"
    },
    {
     "data": {
      "image/png": "[encoded data removed]",
      "text/plain": [
       "<Figure size 640x480 with 1 Axes>"
      ]
     },
     "metadata": {},
     "output_type": "display_data"
    }
   ],
   "source": [
    "df1[\"Rok budowy\"] = df[\"Rok budowy\"].astype(float)\n",
    "df1[\"Rok budowy\"].hist(bins=50).set_xlabel(\"Rok budowy\")"
   ]
  },
  {
   "cell_type": "markdown",
   "metadata": {},
   "source": [
    "### Materiał"
   ]
  },
  {
   "cell_type": "code",
   "execution_count": 103,
   "metadata": {},
   "outputs": [
    {
     "data": {
      "text/plain": [
       "Materiał\n",
       "Ceramika        19\n",
       "Cegła           17\n",
       "Silikat         13\n",
       "Mieszany         7\n",
       "Inne             6\n",
       "Wielka Płyta     3\n",
       "Bloczki          2\n",
       "Drewno           1\n",
       "Pustak           1\n",
       "Name: count, dtype: int64"
      ]
     },
     "execution_count": 103,
     "metadata": {},
     "output_type": "execute_result"
    }
   ],
   "source": [
    "df1[\"Materiał\"] = df[\"Materiał\"].fillna(\"Inne\").astype('category')\n",
    "df1[\"Materiał\"].value_counts()"
   ]
  },
  {
   "cell_type": "markdown",
   "metadata": {},
   "source": [
    "### Winda"
   ]
  },
  {
   "cell_type": "code",
   "execution_count": 104,
   "metadata": {},
   "outputs": [
    {
     "data": {
      "text/plain": [
       "Winda\n",
       "Tak    43\n",
       "Nie    26\n",
       "Name: count, dtype: int64"
      ]
     },
     "execution_count": 104,
     "metadata": {},
     "output_type": "execute_result"
    }
   ],
   "source": [
    "df1[\"Winda\"] = df[\"Winda\"].fillna(\"Nie\").astype('category')\n",
    "df1[\"Winda\"].value_counts()"
   ]
  },
  {
   "cell_type": "markdown",
   "metadata": {},
   "source": [
    "### Domofon"
   ]
  },
  {
   "cell_type": "code",
   "execution_count": 105,
   "metadata": {},
   "outputs": [
    {
     "data": {
      "text/plain": [
       "Domofon\n",
       "Tak    62\n",
       "Nie     7\n",
       "Name: count, dtype: int64"
      ]
     },
     "execution_count": 105,
     "metadata": {},
     "output_type": "execute_result"
    }
   ],
   "source": [
    "df1[\"Domofon\"] = df[\"Domofon\"].fillna(\"Nie\").astype('category')\n",
    "df1[\"Domofon\"].value_counts()"
   ]
  },
  {
   "cell_type": "markdown",
   "metadata": {},
   "source": [
    "### Wysokość pomieszczeń (cm)"
   ]
  },
  {
   "cell_type": "code",
   "execution_count": 106,
   "metadata": {},
   "outputs": [
    {
     "data": {
      "text/plain": [
       "Wysokość pomieszczeń (cm)\n",
       "260.0    40\n",
       "250.0    13\n",
       "270.0     5\n",
       "255.0     4\n",
       "265.0     3\n",
       "330.0     2\n",
       "316.0     1\n",
       "340.0     1\n",
       "Name: count, dtype: int64"
      ]
     },
     "execution_count": 106,
     "metadata": {},
     "output_type": "execute_result"
    }
   ],
   "source": [
    "df1[\"Wysokość pomieszczeń (cm)\"] = df[\"Wysokość pomieszczeń (cm)\"].apply(lambda x: x if x > 200 else x * 100)\n",
    "df1[\"Wysokość pomieszczeń (cm)\"] = df1[\"Wysokość pomieszczeń (cm)\"].fillna(260)\n",
    "df1[\"Wysokość pomieszczeń (cm)\"].value_counts()"
   ]
  },
  {
   "cell_type": "markdown",
   "metadata": {},
   "source": [
    "### Podłogi w pomieszczeniach"
   ]
  },
  {
   "cell_type": "code",
   "execution_count": 107,
   "metadata": {},
   "outputs": [
    {
     "name": "stderr",
     "output_type": "stream",
     "text": [
      "/var/folders/_s/r6q44yzn7gd7hjnfjjlpb4hm0000gn/T/ipykernel_51951/997208011.py:4: FutureWarning: Downcasting object dtype arrays on .fillna, .ffill, .bfill is deprecated and will change in a future version. Call result.infer_objects(copy=False) instead. To opt-in to the future behavior, set `pd.set_option('future.no_silent_downcasting', True)`\n",
      "  df1[\"Podłoga_Panele\"] = df1[\"Podłoga_Panele\"].fillna(False)\n",
      "/var/folders/_s/r6q44yzn7gd7hjnfjjlpb4hm0000gn/T/ipykernel_51951/997208011.py:7: FutureWarning: Downcasting object dtype arrays on .fillna, .ffill, .bfill is deprecated and will change in a future version. Call result.infer_objects(copy=False) instead. To opt-in to the future behavior, set `pd.set_option('future.no_silent_downcasting', True)`\n",
      "  df1[\"Podłoga_Terakota\"] = df1[\"Podłoga_Terakota\"].fillna(False)\n",
      "/var/folders/_s/r6q44yzn7gd7hjnfjjlpb4hm0000gn/T/ipykernel_51951/997208011.py:10: FutureWarning: Downcasting object dtype arrays on .fillna, .ffill, .bfill is deprecated and will change in a future version. Call result.infer_objects(copy=False) instead. To opt-in to the future behavior, set `pd.set_option('future.no_silent_downcasting', True)`\n",
      "  df1[\"Podłoga_Wykładzina\"] = df1[\"Podłoga_Wykładzina\"].fillna(False)\n",
      "/var/folders/_s/r6q44yzn7gd7hjnfjjlpb4hm0000gn/T/ipykernel_51951/997208011.py:13: FutureWarning: Downcasting object dtype arrays on .fillna, .ffill, .bfill is deprecated and will change in a future version. Call result.infer_objects(copy=False) instead. To opt-in to the future behavior, set `pd.set_option('future.no_silent_downcasting', True)`\n",
      "  df1[\"Podłoga_Płytki\"] = df1[\"Podłoga_Płytki\"].fillna(False)\n",
      "/var/folders/_s/r6q44yzn7gd7hjnfjjlpb4hm0000gn/T/ipykernel_51951/997208011.py:16: FutureWarning: Downcasting object dtype arrays on .fillna, .ffill, .bfill is deprecated and will change in a future version. Call result.infer_objects(copy=False) instead. To opt-in to the future behavior, set `pd.set_option('future.no_silent_downcasting', True)`\n",
      "  df1[\"Podłoga_Deska\"] = df1[\"Podłoga_Deska\"].fillna(False)\n",
      "/var/folders/_s/r6q44yzn7gd7hjnfjjlpb4hm0000gn/T/ipykernel_51951/997208011.py:19: FutureWarning: Downcasting object dtype arrays on .fillna, .ffill, .bfill is deprecated and will change in a future version. Call result.infer_objects(copy=False) instead. To opt-in to the future behavior, set `pd.set_option('future.no_silent_downcasting', True)`\n",
      "  df1[\"Podłoga_Wylewka\"] = df1[\"Podłoga_Wylewka\"].fillna(False)\n",
      "/var/folders/_s/r6q44yzn7gd7hjnfjjlpb4hm0000gn/T/ipykernel_51951/997208011.py:22: FutureWarning: Downcasting object dtype arrays on .fillna, .ffill, .bfill is deprecated and will change in a future version. Call result.infer_objects(copy=False) instead. To opt-in to the future behavior, set `pd.set_option('future.no_silent_downcasting', True)`\n",
      "  df1[\"Podłoga_Inna\"] = df1[\"Podłoga_Inna\"].fillna(False)\n"
     ]
    }
   ],
   "source": [
    "df1[\"Podłogi w pomieszczeniach\"] = df[\"Podłogi w pomieszczeniach\"].fillna('inne')\n",
    "\n",
    "df1.loc[df1[\"Podłogi w pomieszczeniach\"].str.contains(\"Panele\"), \"Podłoga_Panele\"] = True\n",
    "df1[\"Podłoga_Panele\"] = df1[\"Podłoga_Panele\"].fillna(False)\n",
    "\n",
    "df1.loc[df1[\"Podłogi w pomieszczeniach\"].str.contains(\"Terakota\"), \"Podłoga_Terakota\"] = True\n",
    "df1[\"Podłoga_Terakota\"] = df1[\"Podłoga_Terakota\"].fillna(False)\n",
    "\n",
    "df1.loc[df1[\"Podłogi w pomieszczeniach\"].str.contains(\"Wykładzina\"), \"Podłoga_Wykładzina\"] = True\n",
    "df1[\"Podłoga_Wykładzina\"] = df1[\"Podłoga_Wykładzina\"].fillna(False)\n",
    "\n",
    "df1.loc[df1[\"Podłogi w pomieszczeniach\"].str.contains(\"Płytki\"), \"Podłoga_Płytki\"] = True\n",
    "df1[\"Podłoga_Płytki\"] = df1[\"Podłoga_Płytki\"].fillna(False)\n",
    "\n",
    "df1.loc[df1[\"Podłogi w pomieszczeniach\"].str.contains(\"Deska podłogowa\"), \"Podłoga_Deska\"] = True\n",
    "df1[\"Podłoga_Deska\"] = df1[\"Podłoga_Deska\"].fillna(False)\n",
    "\n",
    "df1.loc[df1[\"Podłogi w pomieszczeniach\"].str.contains(\"Wylewka betonowa\"), \"Podłoga_Wylewka\"] = True\n",
    "df1[\"Podłoga_Wylewka\"] = df1[\"Podłoga_Wylewka\"].fillna(False)\n",
    "\n",
    "df1.loc[(df1[\"Podłoga_Panele\"] == False) & (df1[\"Podłoga_Terakota\"] == False) & (df1[\"Podłoga_Wykładzina\"] == False) & (df1[\"Podłoga_Płytki\"] == False) & (df1[\"Podłoga_Deska\"] == False) & (df1[\"Podłoga_Wylewka\"] == False), \"Podłoga_Inna\"] = True\n",
    "df1[\"Podłoga_Inna\"] = df1[\"Podłoga_Inna\"].fillna(False)\n",
    "\n",
    "df1 = df1.drop([\"Podłogi w pomieszczeniach\"], axis=1)"
   ]
  },
  {
   "cell_type": "markdown",
   "metadata": {},
   "source": [
    "### Typ kuchni"
   ]
  },
  {
   "cell_type": "code",
   "execution_count": 108,
   "metadata": {},
   "outputs": [
    {
     "data": {
      "text/plain": [
       "Typ kuchni\n",
       "Aneks        39\n",
       "Widna        13\n",
       "Oddzielna     7\n",
       "Brak          5\n",
       "Otwarta       4\n",
       "Ciemna        1\n",
       "Name: count, dtype: int64"
      ]
     },
     "execution_count": 108,
     "metadata": {},
     "output_type": "execute_result"
    }
   ],
   "source": [
    "df1[\"Typ kuchni\"] = df[\"Typ kuchni\"].fillna(\"Brak\").astype('category')\n",
    "df1[\"Typ kuchni\"].value_counts()"
   ]
  },
  {
   "cell_type": "markdown",
   "metadata": {},
   "source": [
    "### Liczba łazienek"
   ]
  },
  {
   "cell_type": "code",
   "execution_count": 109,
   "metadata": {},
   "outputs": [
    {
     "data": {
      "text/plain": [
       "Liczba łazienek\n",
       "1.0    59\n",
       "0.0     5\n",
       "2.0     5\n",
       "Name: count, dtype: int64"
      ]
     },
     "execution_count": 109,
     "metadata": {},
     "output_type": "execute_result"
    }
   ],
   "source": [
    "df1[\"Liczba łazienek\"] = df[\"Liczba łazienek\"].fillna(0)\n",
    "df1[\"Liczba łazienek\"].value_counts()"
   ]
  },
  {
   "cell_type": "markdown",
   "metadata": {},
   "source": [
    "### Miejsce parkingowe"
   ]
  },
  {
   "cell_type": "code",
   "execution_count": 110,
   "metadata": {},
   "outputs": [
    {
     "data": {
      "text/plain": [
       "Informacje o Garażu/Miejscach parkingowych\n",
       "Na ulicy                                                                                 18\n",
       "Miejsce parkingowe                                                                       12\n",
       "Garaż                                                                                     4\n",
       "Parking strzeżony                                                                         2\n",
       "Parking strzeżony, Na ulicy                                                               2\n",
       "Na ulicy, Parking strzeżony                                                               2\n",
       "Na ulicy, Parking strzeżony, Płatny dodatkowo                                             1\n",
       "Parking niestrzeżony, Miejsce parkingowe                                                  1\n",
       "Parking niestrzeżony                                                                      1\n",
       "Płatny dodatkowo, Na ulicy                                                                1\n",
       "Garaż, Jednostanowiskowy, Parking podziemny, Obowiązkowy, W budynku                       1\n",
       "Możliwość wynajęcia                                                                       1\n",
       "Miejsce parkingowe, Garaż                                                                 1\n",
       "Na ulicy, Parking podziemny, Płatny dodatkowo, Parking strzeżony, Możliwość wynajęcia     1\n",
       "Na ulicy, Płatny dodatkowo                                                                1\n",
       "Miejsce parkingowe, Płatny dodatkowo                                                      1\n",
       "Miejsce parkingowe, Na ulicy                                                              1\n",
       "Parking podziemny                                                                         1\n",
       "W budynku                                                                                 1\n",
       "Jednostanowiskowy                                                                         1\n",
       "Garaż, Płatny dodatkowo                                                                   1\n",
       "Name: count, dtype: int64"
      ]
     },
     "execution_count": 110,
     "metadata": {},
     "output_type": "execute_result"
    }
   ],
   "source": [
    "df[\"Informacje o Garażu/Miejscach parkingowych\"].value_counts()"
   ]
  },
  {
   "cell_type": "code",
   "execution_count": 111,
   "metadata": {},
   "outputs": [
    {
     "name": "stderr",
     "output_type": "stream",
     "text": [
      "/var/folders/_s/r6q44yzn7gd7hjnfjjlpb4hm0000gn/T/ipykernel_51951/3245654452.py:11: FutureWarning: Downcasting object dtype arrays on .fillna, .ffill, .bfill is deprecated and will change in a future version. Call result.infer_objects(copy=False) instead. To opt-in to the future behavior, set `pd.set_option('future.no_silent_downcasting', True)`\n",
      "  df1[[\"Parking_Na_Ulicy\", \"Parking_Miejsce\", \"Parking_Garaż\", \"Parking_Inny\"]] = df1[[\"Parking_Na_Ulicy\", \"Parking_Miejsce\", \"Parking_Garaż\", \"Parking_Inny\"]].fillna(False)\n"
     ]
    },
    {
     "data": {
      "text/plain": [
       "Parking_Na_Ulicy  Parking_Miejsce  Parking_Garaż  Parking_Inny\n",
       "True              False            False          False           25\n",
       "False             False            False          True            19\n",
       "                  True             False          False           14\n",
       "                  False            True           False            8\n",
       "                  True             True           False            1\n",
       "True              False            True           False            1\n",
       "                  True             False          False            1\n",
       "Name: count, dtype: int64"
      ]
     },
     "execution_count": 111,
     "metadata": {},
     "output_type": "execute_result"
    }
   ],
   "source": [
    "df1[\"Parking_Na_Ulicy\"] = df[\"Informacje o Garażu/Miejscach parkingowych\"].str.contains(\"Na ulicy\")\n",
    "\n",
    "df1[\"Parking_Miejsce\"] = df[\"Informacje o Garażu/Miejscach parkingowych\"].str.contains(\"Miejsce parkingowe\")\n",
    "\n",
    "df1[\"Parking_Garaż\"] = df[\"Informacje o Garażu/Miejscach parkingowych\"].str.contains(\"Garaż\")\n",
    "df1[\"Parking_Garaż\"] |= df[\"Informacje o Garażu/Miejscach parkingowych\"].str.contains(\"Jednostanowiskowy\")\n",
    "df1[\"Parking_Garaż\"] |= df[\"Informacje o Garażu/Miejscach parkingowych\"].str.contains(\"podziemny\")\n",
    "\n",
    "df1[\"Parking_Inny\"] = ~(df1[\"Parking_Na_Ulicy\"] | df1[\"Parking_Miejsce\"] | df1[\"Parking_Garaż\"])\n",
    "\n",
    "df1[[\"Parking_Na_Ulicy\", \"Parking_Miejsce\", \"Parking_Garaż\", \"Parking_Inny\"]] = df1[[\"Parking_Na_Ulicy\", \"Parking_Miejsce\", \"Parking_Garaż\", \"Parking_Inny\"]].fillna(False)\n",
    "df1[[\"Parking_Na_Ulicy\", \"Parking_Miejsce\", \"Parking_Garaż\", \"Parking_Inny\"]].value_counts()"
   ]
  },
  {
   "cell_type": "markdown",
   "metadata": {},
   "source": [
    "### Komunikacja"
   ]
  },
  {
   "cell_type": "code",
   "execution_count": 112,
   "metadata": {},
   "outputs": [
    {
     "name": "stderr",
     "output_type": "stream",
     "text": [
      "/var/folders/_s/r6q44yzn7gd7hjnfjjlpb4hm0000gn/T/ipykernel_51951/3926830141.py:1: FutureWarning: Downcasting object dtype arrays on .fillna, .ffill, .bfill is deprecated and will change in a future version. Call result.infer_objects(copy=False) instead. To opt-in to the future behavior, set `pd.set_option('future.no_silent_downcasting', True)`\n",
      "  df1[\"Komunikacja_Autobus\"] = df[\"Komunikacja\"].str.contains(\"Autobus\").fillna(False)\n",
      "/var/folders/_s/r6q44yzn7gd7hjnfjjlpb4hm0000gn/T/ipykernel_51951/3926830141.py:2: FutureWarning: Downcasting object dtype arrays on .fillna, .ffill, .bfill is deprecated and will change in a future version. Call result.infer_objects(copy=False) instead. To opt-in to the future behavior, set `pd.set_option('future.no_silent_downcasting', True)`\n",
      "  df1[\"Komunikacja_Kolej\"] = df[\"Komunikacja\"].str.contains(\"Kolej\").fillna(False)\n",
      "/var/folders/_s/r6q44yzn7gd7hjnfjjlpb4hm0000gn/T/ipykernel_51951/3926830141.py:4: FutureWarning: Downcasting object dtype arrays on .fillna, .ffill, .bfill is deprecated and will change in a future version. Call result.infer_objects(copy=False) instead. To opt-in to the future behavior, set `pd.set_option('future.no_silent_downcasting', True)`\n",
      "  df1[\"Komunikacja_PKS\"] = df[\"Komunikacja\"].str.contains(\"PKS\").fillna(False)\n",
      "/var/folders/_s/r6q44yzn7gd7hjnfjjlpb4hm0000gn/T/ipykernel_51951/3926830141.py:5: FutureWarning: Downcasting object dtype arrays on .fillna, .ffill, .bfill is deprecated and will change in a future version. Call result.infer_objects(copy=False) instead. To opt-in to the future behavior, set `pd.set_option('future.no_silent_downcasting', True)`\n",
      "  df1[\"Komunikacja_PKS\"] |= df[\"Komunikacja\"].str.contains(\"Bus\").fillna(False)\n"
     ]
    },
    {
     "data": {
      "text/plain": [
       "Komunikacja_Autobus  Komunikacja_Kolej  Komunikacja_PKS\n",
       "True                 False              False              50\n",
       "                     True               False               9\n",
       "False                False              False               5\n",
       "True                 True               True                3\n",
       "False                False              True                1\n",
       "True                 False              True                1\n",
       "Name: count, dtype: int64"
      ]
     },
     "execution_count": 112,
     "metadata": {},
     "output_type": "execute_result"
    }
   ],
   "source": [
    "df1[\"Komunikacja_Autobus\"] = df[\"Komunikacja\"].str.contains(\"Autobus\").fillna(False)\n",
    "df1[\"Komunikacja_Kolej\"] = df[\"Komunikacja\"].str.contains(\"Kolej\").fillna(False)\n",
    "\n",
    "df1[\"Komunikacja_PKS\"] = df[\"Komunikacja\"].str.contains(\"PKS\").fillna(False)\n",
    "df1[\"Komunikacja_PKS\"] |= df[\"Komunikacja\"].str.contains(\"Bus\").fillna(False)\n",
    "\n",
    "df1[[\"Komunikacja_Autobus\",\"Komunikacja_Kolej\",\"Komunikacja_PKS\"]].value_counts()"
   ]
  },
  {
   "cell_type": "markdown",
   "metadata": {},
   "source": [
    "### W pobliżu"
   ]
  },
  {
   "cell_type": "code",
   "execution_count": 113,
   "metadata": {},
   "outputs": [
    {
     "data": {
      "text/html": [
       "<div>\n",
       "<style scoped>\n",
       "    .dataframe tbody tr th:only-of-type {\n",
       "        vertical-align: middle;\n",
       "    }\n",
       "\n",
       "    .dataframe tbody tr th {\n",
       "        vertical-align: top;\n",
       "    }\n",
       "\n",
       "    .dataframe thead th {\n",
       "        text-align: right;\n",
       "    }\n",
       "</style>\n",
       "<table border=\"1\" class=\"dataframe\">\n",
       "  <thead>\n",
       "    <tr style=\"text-align: right;\">\n",
       "      <th></th>\n",
       "      <th>W_pobliżu_Park</th>\n",
       "      <th>W_pobliżu_Komenda policji</th>\n",
       "      <th>W_pobliżu_Hala sportowa</th>\n",
       "      <th>W_pobliżu_Szpital</th>\n",
       "      <th>W_pobliżu_Bocznica kolejowa</th>\n",
       "      <th>W_pobliżu_Gimnazjum</th>\n",
       "      <th>W_pobliżu_Basen</th>\n",
       "      <th>W_pobliżu_Blacharnia</th>\n",
       "      <th>W_pobliżu_Szkoła</th>\n",
       "      <th>W_pobliżu_Rzeka</th>\n",
       "      <th>...</th>\n",
       "      <th>W_pobliżu_Las</th>\n",
       "      <th>W_pobliżu_Centrum handlowe</th>\n",
       "      <th>W_pobliżu_Przedszkole</th>\n",
       "      <th>W_pobliżu_Fitness</th>\n",
       "      <th>W_pobliżu_Bank</th>\n",
       "      <th>W_pobliżu_Kościół</th>\n",
       "      <th>W_pobliżu_Plac zabaw</th>\n",
       "      <th>W_pobliżu_Bar</th>\n",
       "      <th>W_pobliżu_Bazarek</th>\n",
       "      <th>W_pobliżu_Kort tenisowy</th>\n",
       "    </tr>\n",
       "  </thead>\n",
       "  <tbody>\n",
       "    <tr>\n",
       "      <th>0</th>\n",
       "      <td>True</td>\n",
       "      <td>True</td>\n",
       "      <td>True</td>\n",
       "      <td>True</td>\n",
       "      <td>False</td>\n",
       "      <td>False</td>\n",
       "      <td>True</td>\n",
       "      <td>False</td>\n",
       "      <td>True</td>\n",
       "      <td>False</td>\n",
       "      <td>...</td>\n",
       "      <td>True</td>\n",
       "      <td>True</td>\n",
       "      <td>True</td>\n",
       "      <td>True</td>\n",
       "      <td>True</td>\n",
       "      <td>True</td>\n",
       "      <td>True</td>\n",
       "      <td>True</td>\n",
       "      <td>False</td>\n",
       "      <td>True</td>\n",
       "    </tr>\n",
       "    <tr>\n",
       "      <th>1</th>\n",
       "      <td>True</td>\n",
       "      <td>False</td>\n",
       "      <td>True</td>\n",
       "      <td>False</td>\n",
       "      <td>True</td>\n",
       "      <td>False</td>\n",
       "      <td>True</td>\n",
       "      <td>False</td>\n",
       "      <td>True</td>\n",
       "      <td>True</td>\n",
       "      <td>...</td>\n",
       "      <td>False</td>\n",
       "      <td>False</td>\n",
       "      <td>False</td>\n",
       "      <td>True</td>\n",
       "      <td>False</td>\n",
       "      <td>True</td>\n",
       "      <td>True</td>\n",
       "      <td>False</td>\n",
       "      <td>False</td>\n",
       "      <td>False</td>\n",
       "    </tr>\n",
       "    <tr>\n",
       "      <th>2</th>\n",
       "      <td>True</td>\n",
       "      <td>False</td>\n",
       "      <td>True</td>\n",
       "      <td>False</td>\n",
       "      <td>False</td>\n",
       "      <td>False</td>\n",
       "      <td>True</td>\n",
       "      <td>False</td>\n",
       "      <td>False</td>\n",
       "      <td>False</td>\n",
       "      <td>...</td>\n",
       "      <td>False</td>\n",
       "      <td>False</td>\n",
       "      <td>False</td>\n",
       "      <td>False</td>\n",
       "      <td>False</td>\n",
       "      <td>False</td>\n",
       "      <td>True</td>\n",
       "      <td>True</td>\n",
       "      <td>False</td>\n",
       "      <td>True</td>\n",
       "    </tr>\n",
       "    <tr>\n",
       "      <th>3</th>\n",
       "      <td>False</td>\n",
       "      <td>False</td>\n",
       "      <td>False</td>\n",
       "      <td>False</td>\n",
       "      <td>False</td>\n",
       "      <td>False</td>\n",
       "      <td>True</td>\n",
       "      <td>False</td>\n",
       "      <td>False</td>\n",
       "      <td>False</td>\n",
       "      <td>...</td>\n",
       "      <td>True</td>\n",
       "      <td>False</td>\n",
       "      <td>False</td>\n",
       "      <td>True</td>\n",
       "      <td>False</td>\n",
       "      <td>False</td>\n",
       "      <td>False</td>\n",
       "      <td>False</td>\n",
       "      <td>False</td>\n",
       "      <td>False</td>\n",
       "    </tr>\n",
       "    <tr>\n",
       "      <th>4</th>\n",
       "      <td>True</td>\n",
       "      <td>False</td>\n",
       "      <td>False</td>\n",
       "      <td>False</td>\n",
       "      <td>False</td>\n",
       "      <td>False</td>\n",
       "      <td>True</td>\n",
       "      <td>False</td>\n",
       "      <td>False</td>\n",
       "      <td>False</td>\n",
       "      <td>...</td>\n",
       "      <td>False</td>\n",
       "      <td>False</td>\n",
       "      <td>False</td>\n",
       "      <td>True</td>\n",
       "      <td>False</td>\n",
       "      <td>False</td>\n",
       "      <td>True</td>\n",
       "      <td>False</td>\n",
       "      <td>False</td>\n",
       "      <td>True</td>\n",
       "    </tr>\n",
       "    <tr>\n",
       "      <th>...</th>\n",
       "      <td>...</td>\n",
       "      <td>...</td>\n",
       "      <td>...</td>\n",
       "      <td>...</td>\n",
       "      <td>...</td>\n",
       "      <td>...</td>\n",
       "      <td>...</td>\n",
       "      <td>...</td>\n",
       "      <td>...</td>\n",
       "      <td>...</td>\n",
       "      <td>...</td>\n",
       "      <td>...</td>\n",
       "      <td>...</td>\n",
       "      <td>...</td>\n",
       "      <td>...</td>\n",
       "      <td>...</td>\n",
       "      <td>...</td>\n",
       "      <td>...</td>\n",
       "      <td>...</td>\n",
       "      <td>...</td>\n",
       "      <td>...</td>\n",
       "    </tr>\n",
       "    <tr>\n",
       "      <th>64</th>\n",
       "      <td>True</td>\n",
       "      <td>False</td>\n",
       "      <td>False</td>\n",
       "      <td>False</td>\n",
       "      <td>False</td>\n",
       "      <td>False</td>\n",
       "      <td>False</td>\n",
       "      <td>False</td>\n",
       "      <td>True</td>\n",
       "      <td>True</td>\n",
       "      <td>...</td>\n",
       "      <td>False</td>\n",
       "      <td>False</td>\n",
       "      <td>True</td>\n",
       "      <td>False</td>\n",
       "      <td>False</td>\n",
       "      <td>False</td>\n",
       "      <td>True</td>\n",
       "      <td>False</td>\n",
       "      <td>True</td>\n",
       "      <td>False</td>\n",
       "    </tr>\n",
       "    <tr>\n",
       "      <th>65</th>\n",
       "      <td>True</td>\n",
       "      <td>False</td>\n",
       "      <td>False</td>\n",
       "      <td>False</td>\n",
       "      <td>False</td>\n",
       "      <td>False</td>\n",
       "      <td>False</td>\n",
       "      <td>False</td>\n",
       "      <td>True</td>\n",
       "      <td>False</td>\n",
       "      <td>...</td>\n",
       "      <td>False</td>\n",
       "      <td>True</td>\n",
       "      <td>True</td>\n",
       "      <td>True</td>\n",
       "      <td>True</td>\n",
       "      <td>False</td>\n",
       "      <td>True</td>\n",
       "      <td>False</td>\n",
       "      <td>False</td>\n",
       "      <td>False</td>\n",
       "    </tr>\n",
       "    <tr>\n",
       "      <th>66</th>\n",
       "      <td>True</td>\n",
       "      <td>True</td>\n",
       "      <td>True</td>\n",
       "      <td>False</td>\n",
       "      <td>False</td>\n",
       "      <td>False</td>\n",
       "      <td>True</td>\n",
       "      <td>False</td>\n",
       "      <td>False</td>\n",
       "      <td>True</td>\n",
       "      <td>...</td>\n",
       "      <td>False</td>\n",
       "      <td>True</td>\n",
       "      <td>False</td>\n",
       "      <td>True</td>\n",
       "      <td>True</td>\n",
       "      <td>True</td>\n",
       "      <td>True</td>\n",
       "      <td>True</td>\n",
       "      <td>False</td>\n",
       "      <td>False</td>\n",
       "    </tr>\n",
       "    <tr>\n",
       "      <th>67</th>\n",
       "      <td>False</td>\n",
       "      <td>False</td>\n",
       "      <td>True</td>\n",
       "      <td>False</td>\n",
       "      <td>False</td>\n",
       "      <td>False</td>\n",
       "      <td>True</td>\n",
       "      <td>False</td>\n",
       "      <td>True</td>\n",
       "      <td>False</td>\n",
       "      <td>...</td>\n",
       "      <td>False</td>\n",
       "      <td>False</td>\n",
       "      <td>False</td>\n",
       "      <td>True</td>\n",
       "      <td>False</td>\n",
       "      <td>True</td>\n",
       "      <td>False</td>\n",
       "      <td>False</td>\n",
       "      <td>False</td>\n",
       "      <td>False</td>\n",
       "    </tr>\n",
       "    <tr>\n",
       "      <th>68</th>\n",
       "      <td>True</td>\n",
       "      <td>False</td>\n",
       "      <td>False</td>\n",
       "      <td>False</td>\n",
       "      <td>False</td>\n",
       "      <td>False</td>\n",
       "      <td>False</td>\n",
       "      <td>False</td>\n",
       "      <td>False</td>\n",
       "      <td>False</td>\n",
       "      <td>...</td>\n",
       "      <td>False</td>\n",
       "      <td>False</td>\n",
       "      <td>False</td>\n",
       "      <td>False</td>\n",
       "      <td>False</td>\n",
       "      <td>False</td>\n",
       "      <td>True</td>\n",
       "      <td>False</td>\n",
       "      <td>False</td>\n",
       "      <td>False</td>\n",
       "    </tr>\n",
       "  </tbody>\n",
       "</table>\n",
       "<p>69 rows × 29 columns</p>\n",
       "</div>"
      ],
      "text/plain": [
       "    W_pobliżu_Park  W_pobliżu_Komenda policji  W_pobliżu_Hala sportowa  \\\n",
       "0             True                       True                     True   \n",
       "1             True                      False                     True   \n",
       "2             True                      False                     True   \n",
       "3            False                      False                    False   \n",
       "4             True                      False                    False   \n",
       "..             ...                        ...                      ...   \n",
       "64            True                      False                    False   \n",
       "65            True                      False                    False   \n",
       "66            True                       True                     True   \n",
       "67           False                      False                     True   \n",
       "68            True                      False                    False   \n",
       "\n",
       "    W_pobliżu_Szpital  W_pobliżu_Bocznica kolejowa  W_pobliżu_Gimnazjum  \\\n",
       "0                True                        False                False   \n",
       "1               False                         True                False   \n",
       "2               False                        False                False   \n",
       "3               False                        False                False   \n",
       "4               False                        False                False   \n",
       "..                ...                          ...                  ...   \n",
       "64              False                        False                False   \n",
       "65              False                        False                False   \n",
       "66              False                        False                False   \n",
       "67              False                        False                False   \n",
       "68              False                        False                False   \n",
       "\n",
       "    W_pobliżu_Basen  W_pobliżu_Blacharnia  W_pobliżu_Szkoła  W_pobliżu_Rzeka  \\\n",
       "0              True                 False              True            False   \n",
       "1              True                 False              True             True   \n",
       "2              True                 False             False            False   \n",
       "3              True                 False             False            False   \n",
       "4              True                 False             False            False   \n",
       "..              ...                   ...               ...              ...   \n",
       "64            False                 False              True             True   \n",
       "65            False                 False              True            False   \n",
       "66             True                 False             False             True   \n",
       "67             True                 False              True            False   \n",
       "68            False                 False             False            False   \n",
       "\n",
       "    ...  W_pobliżu_Las  W_pobliżu_Centrum handlowe  W_pobliżu_Przedszkole  \\\n",
       "0   ...           True                        True                   True   \n",
       "1   ...          False                       False                  False   \n",
       "2   ...          False                       False                  False   \n",
       "3   ...           True                       False                  False   \n",
       "4   ...          False                       False                  False   \n",
       "..  ...            ...                         ...                    ...   \n",
       "64  ...          False                       False                   True   \n",
       "65  ...          False                        True                   True   \n",
       "66  ...          False                        True                  False   \n",
       "67  ...          False                       False                  False   \n",
       "68  ...          False                       False                  False   \n",
       "\n",
       "    W_pobliżu_Fitness  W_pobliżu_Bank  W_pobliżu_Kościół  \\\n",
       "0                True            True               True   \n",
       "1                True           False               True   \n",
       "2               False           False              False   \n",
       "3                True           False              False   \n",
       "4                True           False              False   \n",
       "..                ...             ...                ...   \n",
       "64              False           False              False   \n",
       "65               True            True              False   \n",
       "66               True            True               True   \n",
       "67               True           False               True   \n",
       "68              False           False              False   \n",
       "\n",
       "    W_pobliżu_Plac zabaw  W_pobliżu_Bar  W_pobliżu_Bazarek  \\\n",
       "0                   True           True              False   \n",
       "1                   True          False              False   \n",
       "2                   True           True              False   \n",
       "3                  False          False              False   \n",
       "4                   True          False              False   \n",
       "..                   ...            ...                ...   \n",
       "64                  True          False               True   \n",
       "65                  True          False              False   \n",
       "66                  True           True              False   \n",
       "67                 False          False              False   \n",
       "68                  True          False              False   \n",
       "\n",
       "    W_pobliżu_Kort tenisowy  \n",
       "0                      True  \n",
       "1                     False  \n",
       "2                      True  \n",
       "3                     False  \n",
       "4                      True  \n",
       "..                      ...  \n",
       "64                    False  \n",
       "65                    False  \n",
       "66                    False  \n",
       "67                    False  \n",
       "68                    False  \n",
       "\n",
       "[69 rows x 29 columns]"
      ]
     },
     "execution_count": 113,
     "metadata": {},
     "output_type": "execute_result"
    }
   ],
   "source": [
    "around = set()\n",
    "\n",
    "for item in df[\"W pobliżu\"].to_list():\n",
    "    for x in item.split(\", \"):\n",
    "        around.add(x)\n",
    "\n",
    "for item in around:\n",
    "    df1[f\"W_pobliżu_{item}\"] = df[\"W pobliżu\"].str.contains(item).fillna(False)\n",
    "\n",
    "df1[[f\"W_pobliżu_{item}\" for item in around]]"
   ]
  },
  {
   "cell_type": "markdown",
   "metadata": {},
   "source": [
    "### Typ mieszkania"
   ]
  },
  {
   "cell_type": "code",
   "execution_count": 114,
   "metadata": {},
   "outputs": [
    {
     "name": "stderr",
     "output_type": "stream",
     "text": [
      "/var/folders/_s/r6q44yzn7gd7hjnfjjlpb4hm0000gn/T/ipykernel_51951/1885219543.py:9: FutureWarning: Downcasting object dtype arrays on .fillna, .ffill, .bfill is deprecated and will change in a future version. Call result.infer_objects(copy=False) instead. To opt-in to the future behavior, set `pd.set_option('future.no_silent_downcasting', True)`\n",
      "  df1[f\"Typ_mieszkania_{item}\"] = df[\"Typ mieszkania\"].str.contains(item).fillna(False)\n",
      "/var/folders/_s/r6q44yzn7gd7hjnfjjlpb4hm0000gn/T/ipykernel_51951/1885219543.py:9: FutureWarning: Downcasting object dtype arrays on .fillna, .ffill, .bfill is deprecated and will change in a future version. Call result.infer_objects(copy=False) instead. To opt-in to the future behavior, set `pd.set_option('future.no_silent_downcasting', True)`\n",
      "  df1[f\"Typ_mieszkania_{item}\"] = df[\"Typ mieszkania\"].str.contains(item).fillna(False)\n",
      "/var/folders/_s/r6q44yzn7gd7hjnfjjlpb4hm0000gn/T/ipykernel_51951/1885219543.py:9: FutureWarning: Downcasting object dtype arrays on .fillna, .ffill, .bfill is deprecated and will change in a future version. Call result.infer_objects(copy=False) instead. To opt-in to the future behavior, set `pd.set_option('future.no_silent_downcasting', True)`\n",
      "  df1[f\"Typ_mieszkania_{item}\"] = df[\"Typ mieszkania\"].str.contains(item).fillna(False)\n",
      "/var/folders/_s/r6q44yzn7gd7hjnfjjlpb4hm0000gn/T/ipykernel_51951/1885219543.py:9: FutureWarning: Downcasting object dtype arrays on .fillna, .ffill, .bfill is deprecated and will change in a future version. Call result.infer_objects(copy=False) instead. To opt-in to the future behavior, set `pd.set_option('future.no_silent_downcasting', True)`\n",
      "  df1[f\"Typ_mieszkania_{item}\"] = df[\"Typ mieszkania\"].str.contains(item).fillna(False)\n",
      "/var/folders/_s/r6q44yzn7gd7hjnfjjlpb4hm0000gn/T/ipykernel_51951/1885219543.py:9: FutureWarning: Downcasting object dtype arrays on .fillna, .ffill, .bfill is deprecated and will change in a future version. Call result.infer_objects(copy=False) instead. To opt-in to the future behavior, set `pd.set_option('future.no_silent_downcasting', True)`\n",
      "  df1[f\"Typ_mieszkania_{item}\"] = df[\"Typ mieszkania\"].str.contains(item).fillna(False)\n",
      "/var/folders/_s/r6q44yzn7gd7hjnfjjlpb4hm0000gn/T/ipykernel_51951/1885219543.py:9: FutureWarning: Downcasting object dtype arrays on .fillna, .ffill, .bfill is deprecated and will change in a future version. Call result.infer_objects(copy=False) instead. To opt-in to the future behavior, set `pd.set_option('future.no_silent_downcasting', True)`\n",
      "  df1[f\"Typ_mieszkania_{item}\"] = df[\"Typ mieszkania\"].str.contains(item).fillna(False)\n",
      "/var/folders/_s/r6q44yzn7gd7hjnfjjlpb4hm0000gn/T/ipykernel_51951/1885219543.py:9: FutureWarning: Downcasting object dtype arrays on .fillna, .ffill, .bfill is deprecated and will change in a future version. Call result.infer_objects(copy=False) instead. To opt-in to the future behavior, set `pd.set_option('future.no_silent_downcasting', True)`\n",
      "  df1[f\"Typ_mieszkania_{item}\"] = df[\"Typ mieszkania\"].str.contains(item).fillna(False)\n",
      "/var/folders/_s/r6q44yzn7gd7hjnfjjlpb4hm0000gn/T/ipykernel_51951/1885219543.py:9: FutureWarning: Downcasting object dtype arrays on .fillna, .ffill, .bfill is deprecated and will change in a future version. Call result.infer_objects(copy=False) instead. To opt-in to the future behavior, set `pd.set_option('future.no_silent_downcasting', True)`\n",
      "  df1[f\"Typ_mieszkania_{item}\"] = df[\"Typ mieszkania\"].str.contains(item).fillna(False)\n"
     ]
    },
    {
     "data": {
      "text/html": [
       "<div>\n",
       "<style scoped>\n",
       "    .dataframe tbody tr th:only-of-type {\n",
       "        vertical-align: middle;\n",
       "    }\n",
       "\n",
       "    .dataframe tbody tr th {\n",
       "        vertical-align: top;\n",
       "    }\n",
       "\n",
       "    .dataframe thead th {\n",
       "        text-align: right;\n",
       "    }\n",
       "</style>\n",
       "<table border=\"1\" class=\"dataframe\">\n",
       "  <thead>\n",
       "    <tr style=\"text-align: right;\">\n",
       "      <th></th>\n",
       "      <th>Typ_mieszkania_Dwupoziomowe</th>\n",
       "      <th>Typ_mieszkania_Z_pokojem_przechodnim</th>\n",
       "      <th>Typ_mieszkania_Jednopoziomowe</th>\n",
       "      <th>Typ_mieszkania_Piętro_domu</th>\n",
       "      <th>Typ_mieszkania_Apartament</th>\n",
       "      <th>Typ_mieszkania_Rozkładowe</th>\n",
       "      <th>Typ_mieszkania_inne</th>\n",
       "      <th>Typ_mieszkania_Z_antresolą</th>\n",
       "    </tr>\n",
       "  </thead>\n",
       "  <tbody>\n",
       "    <tr>\n",
       "      <th>0</th>\n",
       "      <td>False</td>\n",
       "      <td>False</td>\n",
       "      <td>False</td>\n",
       "      <td>False</td>\n",
       "      <td>True</td>\n",
       "      <td>False</td>\n",
       "      <td>False</td>\n",
       "      <td>False</td>\n",
       "    </tr>\n",
       "    <tr>\n",
       "      <th>1</th>\n",
       "      <td>False</td>\n",
       "      <td>False</td>\n",
       "      <td>False</td>\n",
       "      <td>False</td>\n",
       "      <td>True</td>\n",
       "      <td>False</td>\n",
       "      <td>False</td>\n",
       "      <td>False</td>\n",
       "    </tr>\n",
       "    <tr>\n",
       "      <th>2</th>\n",
       "      <td>False</td>\n",
       "      <td>False</td>\n",
       "      <td>False</td>\n",
       "      <td>False</td>\n",
       "      <td>True</td>\n",
       "      <td>False</td>\n",
       "      <td>False</td>\n",
       "      <td>False</td>\n",
       "    </tr>\n",
       "    <tr>\n",
       "      <th>3</th>\n",
       "      <td>False</td>\n",
       "      <td>False</td>\n",
       "      <td>False</td>\n",
       "      <td>False</td>\n",
       "      <td>True</td>\n",
       "      <td>False</td>\n",
       "      <td>False</td>\n",
       "      <td>False</td>\n",
       "    </tr>\n",
       "    <tr>\n",
       "      <th>4</th>\n",
       "      <td>False</td>\n",
       "      <td>False</td>\n",
       "      <td>True</td>\n",
       "      <td>False</td>\n",
       "      <td>True</td>\n",
       "      <td>False</td>\n",
       "      <td>False</td>\n",
       "      <td>False</td>\n",
       "    </tr>\n",
       "    <tr>\n",
       "      <th>...</th>\n",
       "      <td>...</td>\n",
       "      <td>...</td>\n",
       "      <td>...</td>\n",
       "      <td>...</td>\n",
       "      <td>...</td>\n",
       "      <td>...</td>\n",
       "      <td>...</td>\n",
       "      <td>...</td>\n",
       "    </tr>\n",
       "    <tr>\n",
       "      <th>64</th>\n",
       "      <td>False</td>\n",
       "      <td>False</td>\n",
       "      <td>True</td>\n",
       "      <td>False</td>\n",
       "      <td>False</td>\n",
       "      <td>True</td>\n",
       "      <td>False</td>\n",
       "      <td>False</td>\n",
       "    </tr>\n",
       "    <tr>\n",
       "      <th>65</th>\n",
       "      <td>False</td>\n",
       "      <td>False</td>\n",
       "      <td>False</td>\n",
       "      <td>False</td>\n",
       "      <td>False</td>\n",
       "      <td>True</td>\n",
       "      <td>False</td>\n",
       "      <td>False</td>\n",
       "    </tr>\n",
       "    <tr>\n",
       "      <th>66</th>\n",
       "      <td>False</td>\n",
       "      <td>False</td>\n",
       "      <td>False</td>\n",
       "      <td>False</td>\n",
       "      <td>False</td>\n",
       "      <td>True</td>\n",
       "      <td>False</td>\n",
       "      <td>False</td>\n",
       "    </tr>\n",
       "    <tr>\n",
       "      <th>67</th>\n",
       "      <td>False</td>\n",
       "      <td>False</td>\n",
       "      <td>True</td>\n",
       "      <td>False</td>\n",
       "      <td>False</td>\n",
       "      <td>False</td>\n",
       "      <td>False</td>\n",
       "      <td>False</td>\n",
       "    </tr>\n",
       "    <tr>\n",
       "      <th>68</th>\n",
       "      <td>False</td>\n",
       "      <td>False</td>\n",
       "      <td>False</td>\n",
       "      <td>False</td>\n",
       "      <td>False</td>\n",
       "      <td>True</td>\n",
       "      <td>False</td>\n",
       "      <td>False</td>\n",
       "    </tr>\n",
       "  </tbody>\n",
       "</table>\n",
       "<p>69 rows × 8 columns</p>\n",
       "</div>"
      ],
      "text/plain": [
       "    Typ_mieszkania_Dwupoziomowe  Typ_mieszkania_Z_pokojem_przechodnim  \\\n",
       "0                         False                                 False   \n",
       "1                         False                                 False   \n",
       "2                         False                                 False   \n",
       "3                         False                                 False   \n",
       "4                         False                                 False   \n",
       "..                          ...                                   ...   \n",
       "64                        False                                 False   \n",
       "65                        False                                 False   \n",
       "66                        False                                 False   \n",
       "67                        False                                 False   \n",
       "68                        False                                 False   \n",
       "\n",
       "    Typ_mieszkania_Jednopoziomowe  Typ_mieszkania_Piętro_domu  \\\n",
       "0                           False                       False   \n",
       "1                           False                       False   \n",
       "2                           False                       False   \n",
       "3                           False                       False   \n",
       "4                            True                       False   \n",
       "..                            ...                         ...   \n",
       "64                           True                       False   \n",
       "65                          False                       False   \n",
       "66                          False                       False   \n",
       "67                           True                       False   \n",
       "68                          False                       False   \n",
       "\n",
       "    Typ_mieszkania_Apartament  Typ_mieszkania_Rozkładowe  Typ_mieszkania_inne  \\\n",
       "0                        True                      False                False   \n",
       "1                        True                      False                False   \n",
       "2                        True                      False                False   \n",
       "3                        True                      False                False   \n",
       "4                        True                      False                False   \n",
       "..                        ...                        ...                  ...   \n",
       "64                      False                       True                False   \n",
       "65                      False                       True                False   \n",
       "66                      False                       True                False   \n",
       "67                      False                      False                False   \n",
       "68                      False                       True                False   \n",
       "\n",
       "    Typ_mieszkania_Z_antresolą  \n",
       "0                        False  \n",
       "1                        False  \n",
       "2                        False  \n",
       "3                        False  \n",
       "4                        False  \n",
       "..                         ...  \n",
       "64                       False  \n",
       "65                       False  \n",
       "66                       False  \n",
       "67                       False  \n",
       "68                       False  \n",
       "\n",
       "[69 rows x 8 columns]"
      ]
     },
     "execution_count": 114,
     "metadata": {},
     "output_type": "execute_result"
    }
   ],
   "source": [
    "flat_type = set()\n",
    "\n",
    "for item in df[\"Typ mieszkania\"].fillna(\"inne\").astype(str).to_list():\n",
    "    for x in item.split(\",\"):\n",
    "        x = \"_\".join(x.strip().split(\" \"))\n",
    "        flat_type.add(x)  \n",
    "\n",
    "for item in flat_type:\n",
    "    df1[f\"Typ_mieszkania_{item}\"] = df[\"Typ mieszkania\"].str.contains(item).fillna(False)\n",
    "\n",
    "df1[[f\"Typ_mieszkania_{item}\" for item in flat_type]]"
   ]
  },
  {
   "cell_type": "markdown",
   "metadata": {},
   "source": [
    "### Balkon"
   ]
  },
  {
   "cell_type": "code",
   "execution_count": 115,
   "metadata": {},
   "outputs": [
    {
     "data": {
      "text/plain": [
       "Balkon\n",
       "Tak    51\n",
       "Nie    18\n",
       "Name: count, dtype: int64"
      ]
     },
     "execution_count": 115,
     "metadata": {},
     "output_type": "execute_result"
    }
   ],
   "source": [
    "df1[\"Balkon\"] = df[\"Balkon\"].fillna(\"Nie\").astype('category')\n",
    "df1[\"Balkon\"].value_counts()"
   ]
  },
  {
   "cell_type": "markdown",
   "metadata": {},
   "source": [
    "### Alarm"
   ]
  },
  {
   "cell_type": "code",
   "execution_count": 116,
   "metadata": {},
   "outputs": [
    {
     "data": {
      "text/plain": [
       "Alarm\n",
       "Nie    65\n",
       "Tak     4\n",
       "Name: count, dtype: int64"
      ]
     },
     "execution_count": 116,
     "metadata": {},
     "output_type": "execute_result"
    }
   ],
   "source": [
    "df1[\"Alarm\"] = df[\"Alarm\"].fillna(\"Nie\").astype('category')\n",
    "df1[\"Alarm\"].value_counts()"
   ]
  },
  {
   "cell_type": "markdown",
   "metadata": {},
   "source": [
    "### Monitoring"
   ]
  },
  {
   "cell_type": "code",
   "execution_count": 117,
   "metadata": {},
   "outputs": [
    {
     "data": {
      "text/plain": [
       "Monitoring\n",
       "Tak    43\n",
       "Nie    26\n",
       "Name: count, dtype: int64"
      ]
     },
     "execution_count": 117,
     "metadata": {},
     "output_type": "execute_result"
    }
   ],
   "source": [
    "df1[\"Monitoring\"] = df[\"Monitoring\"].fillna(\"Nie\").astype('category')\n",
    "df1[\"Monitoring\"].value_counts()"
   ]
  },
  {
   "cell_type": "markdown",
   "metadata": {},
   "source": [
    "### Ochrona"
   ]
  },
  {
   "cell_type": "code",
   "execution_count": 118,
   "metadata": {},
   "outputs": [
    {
     "data": {
      "text/plain": [
       "Ochrona\n",
       "Nie    51\n",
       "Tak    18\n",
       "Name: count, dtype: int64"
      ]
     },
     "execution_count": 118,
     "metadata": {},
     "output_type": "execute_result"
    }
   ],
   "source": [
    "df1[\"Ochrona\"] = df[\"Ochrona\"].fillna(\"Nie\").astype('category')\n",
    "df1[\"Ochrona\"].value_counts()"
   ]
  },
  {
   "cell_type": "markdown",
   "metadata": {},
   "source": [
    "### Recepcja"
   ]
  },
  {
   "cell_type": "code",
   "execution_count": 119,
   "metadata": {},
   "outputs": [
    {
     "data": {
      "text/plain": [
       "Recepcja\n",
       "Nie    53\n",
       "Tak    16\n",
       "Name: count, dtype: int64"
      ]
     },
     "execution_count": 119,
     "metadata": {},
     "output_type": "execute_result"
    }
   ],
   "source": [
    "df1[\"Recepcja\"] = df[\"Recepcja\"].fillna(\"Nie\").astype('category')\n",
    "df1[\"Recepcja\"].value_counts()"
   ]
  },
  {
   "cell_type": "markdown",
   "metadata": {},
   "source": [
    "### Teren ogrodzony"
   ]
  },
  {
   "cell_type": "code",
   "execution_count": 120,
   "metadata": {},
   "outputs": [
    {
     "data": {
      "text/plain": [
       "Teren ogrodzony\n",
       "Nie    36\n",
       "Tak    33\n",
       "Name: count, dtype: int64"
      ]
     },
     "execution_count": 120,
     "metadata": {},
     "output_type": "execute_result"
    }
   ],
   "source": [
    "df1[\"Teren ogrodzony\"] = df[\"Teren ogrodzony\"].fillna(\"Nie\").astype('category')\n",
    "df1[\"Teren ogrodzony\"].value_counts()"
   ]
  },
  {
   "cell_type": "markdown",
   "metadata": {},
   "source": [
    "### Liczba oddzielnych toalet"
   ]
  },
  {
   "cell_type": "code",
   "execution_count": 121,
   "metadata": {},
   "outputs": [
    {
     "data": {
      "text/plain": [
       "Liczba oddzielnych toalet\n",
       "0.0    63\n",
       "1.0     6\n",
       "Name: count, dtype: int64"
      ]
     },
     "execution_count": 121,
     "metadata": {},
     "output_type": "execute_result"
    }
   ],
   "source": [
    "df1[\"Liczba oddzielnych toalet\"] = df[\"Liczba oddzielnych toalet\"].fillna(0).astype('category')\n",
    "df1[\"Liczba oddzielnych toalet\"].value_counts()"
   ]
  },
  {
   "cell_type": "markdown",
   "metadata": {},
   "source": [
    "## Podsumowanie"
   ]
  },
  {
   "cell_type": "code",
   "execution_count": 122,
   "metadata": {},
   "outputs": [
    {
     "data": {
      "text/html": [
       "<div>\n",
       "<style scoped>\n",
       "    .dataframe tbody tr th:only-of-type {\n",
       "        vertical-align: middle;\n",
       "    }\n",
       "\n",
       "    .dataframe tbody tr th {\n",
       "        vertical-align: top;\n",
       "    }\n",
       "\n",
       "    .dataframe thead th {\n",
       "        text-align: right;\n",
       "    }\n",
       "</style>\n",
       "<table border=\"1\" class=\"dataframe\">\n",
       "  <thead>\n",
       "    <tr style=\"text-align: right;\">\n",
       "      <th></th>\n",
       "      <th>url</th>\n",
       "      <th>Liczba pokoi</th>\n",
       "      <th>Piętro</th>\n",
       "      <th>Liczba pięter</th>\n",
       "      <th>Adres</th>\n",
       "      <th>opis</th>\n",
       "      <th>Rynek</th>\n",
       "      <th>Cena</th>\n",
       "      <th>Powierzchnia</th>\n",
       "      <th>Cena za m2</th>\n",
       "      <th>...</th>\n",
       "      <th>Typ_mieszkania_Rozkładowe</th>\n",
       "      <th>Typ_mieszkania_inne</th>\n",
       "      <th>Typ_mieszkania_Z_antresolą</th>\n",
       "      <th>Balkon</th>\n",
       "      <th>Alarm</th>\n",
       "      <th>Monitoring</th>\n",
       "      <th>Ochrona</th>\n",
       "      <th>Recepcja</th>\n",
       "      <th>Teren ogrodzony</th>\n",
       "      <th>Liczba oddzielnych toalet</th>\n",
       "    </tr>\n",
       "  </thead>\n",
       "  <tbody>\n",
       "    <tr>\n",
       "      <th>0</th>\n",
       "      <td>https://freedom.pl/oferta/mieszkanie-na-sprzed...</td>\n",
       "      <td>1</td>\n",
       "      <td>1</td>\n",
       "      <td>7</td>\n",
       "      <td>Kołobrzeg, Zachodniopomorskie, ul. Tadeusza Ko...</td>\n",
       "      <td>NIŻSZA CENA!!! Apartament Diva, 200m od morza,...</td>\n",
       "      <td>Wtórny</td>\n",
       "      <td>420000.0</td>\n",
       "      <td>26.80</td>\n",
       "      <td>15672.0</td>\n",
       "      <td>...</td>\n",
       "      <td>False</td>\n",
       "      <td>False</td>\n",
       "      <td>False</td>\n",
       "      <td>Nie</td>\n",
       "      <td>Nie</td>\n",
       "      <td>Tak</td>\n",
       "      <td>Tak</td>\n",
       "      <td>Tak</td>\n",
       "      <td>Tak</td>\n",
       "      <td>0.0</td>\n",
       "    </tr>\n",
       "    <tr>\n",
       "      <th>1</th>\n",
       "      <td>https://freedom.pl/oferta/mieszkanie-na-sprzed...</td>\n",
       "      <td>2</td>\n",
       "      <td>4</td>\n",
       "      <td>4</td>\n",
       "      <td>Kołobrzeg, Zachodniopomorskie, ul. Rybacka</td>\n",
       "      <td>Nieruchomość nad morzem\\nPrezentujemy Państwu ...</td>\n",
       "      <td>Wtórny</td>\n",
       "      <td>490000.0</td>\n",
       "      <td>36.98</td>\n",
       "      <td>13250.0</td>\n",
       "      <td>...</td>\n",
       "      <td>False</td>\n",
       "      <td>False</td>\n",
       "      <td>False</td>\n",
       "      <td>Tak</td>\n",
       "      <td>Nie</td>\n",
       "      <td>Tak</td>\n",
       "      <td>Nie</td>\n",
       "      <td>Nie</td>\n",
       "      <td>Tak</td>\n",
       "      <td>0.0</td>\n",
       "    </tr>\n",
       "    <tr>\n",
       "      <th>2</th>\n",
       "      <td>https://freedom.pl/oferta/mieszkanie-na-sprzed...</td>\n",
       "      <td>2</td>\n",
       "      <td>3</td>\n",
       "      <td>4</td>\n",
       "      <td>Kołobrzeg, Zachodniopomorskie, ul. Tadeusza Ko...</td>\n",
       "      <td>Apartament w hotelu Olimp I, od morza 200m\\nNa...</td>\n",
       "      <td>Wtórny</td>\n",
       "      <td>900000.0</td>\n",
       "      <td>48.47</td>\n",
       "      <td>18568.0</td>\n",
       "      <td>...</td>\n",
       "      <td>False</td>\n",
       "      <td>False</td>\n",
       "      <td>False</td>\n",
       "      <td>Tak</td>\n",
       "      <td>Nie</td>\n",
       "      <td>Tak</td>\n",
       "      <td>Nie</td>\n",
       "      <td>Tak</td>\n",
       "      <td>Tak</td>\n",
       "      <td>0.0</td>\n",
       "    </tr>\n",
       "    <tr>\n",
       "      <th>3</th>\n",
       "      <td>https://freedom.pl/oferta/mieszkanie-na-sprzed...</td>\n",
       "      <td>2</td>\n",
       "      <td>3</td>\n",
       "      <td>5</td>\n",
       "      <td>Kołobrzeg, Zachodniopomorskie,</td>\n",
       "      <td>Apartament 2 pokojowy w inwestycji Shellter\\nA...</td>\n",
       "      <td>Wtórny</td>\n",
       "      <td>730739.0</td>\n",
       "      <td>31.91</td>\n",
       "      <td>22900.0</td>\n",
       "      <td>...</td>\n",
       "      <td>False</td>\n",
       "      <td>False</td>\n",
       "      <td>False</td>\n",
       "      <td>Tak</td>\n",
       "      <td>Nie</td>\n",
       "      <td>Tak</td>\n",
       "      <td>Tak</td>\n",
       "      <td>Tak</td>\n",
       "      <td>Tak</td>\n",
       "      <td>0.0</td>\n",
       "    </tr>\n",
       "    <tr>\n",
       "      <th>4</th>\n",
       "      <td>https://freedom.pl/oferta/mieszkanie-na-sprzed...</td>\n",
       "      <td>4</td>\n",
       "      <td>2</td>\n",
       "      <td>4</td>\n",
       "      <td>Kołobrzeg, Zachodniopomorskie, ul. Aleksandra ...</td>\n",
       "      <td>4 pokojowe rozkładowe mieszkanie w Kołobrzegu\\...</td>\n",
       "      <td>Wtórny</td>\n",
       "      <td>1270000.0</td>\n",
       "      <td>97.34</td>\n",
       "      <td>13047.0</td>\n",
       "      <td>...</td>\n",
       "      <td>False</td>\n",
       "      <td>False</td>\n",
       "      <td>False</td>\n",
       "      <td>Tak</td>\n",
       "      <td>Nie</td>\n",
       "      <td>Tak</td>\n",
       "      <td>Nie</td>\n",
       "      <td>Nie</td>\n",
       "      <td>Nie</td>\n",
       "      <td>0.0</td>\n",
       "    </tr>\n",
       "    <tr>\n",
       "      <th>...</th>\n",
       "      <td>...</td>\n",
       "      <td>...</td>\n",
       "      <td>...</td>\n",
       "      <td>...</td>\n",
       "      <td>...</td>\n",
       "      <td>...</td>\n",
       "      <td>...</td>\n",
       "      <td>...</td>\n",
       "      <td>...</td>\n",
       "      <td>...</td>\n",
       "      <td>...</td>\n",
       "      <td>...</td>\n",
       "      <td>...</td>\n",
       "      <td>...</td>\n",
       "      <td>...</td>\n",
       "      <td>...</td>\n",
       "      <td>...</td>\n",
       "      <td>...</td>\n",
       "      <td>...</td>\n",
       "      <td>...</td>\n",
       "      <td>...</td>\n",
       "    </tr>\n",
       "    <tr>\n",
       "      <th>64</th>\n",
       "      <td>https://freedom.pl/oferta/mieszkanie-na-sprzed...</td>\n",
       "      <td>3</td>\n",
       "      <td>3</td>\n",
       "      <td>4</td>\n",
       "      <td>Kołobrzeg, Zachodniopomorskie, ul. Kaliska</td>\n",
       "      <td>3 pokojowe mieszkanie w Kołobrzegu\\nTrzypokojo...</td>\n",
       "      <td>Wtórny</td>\n",
       "      <td>370000.0</td>\n",
       "      <td>45.30</td>\n",
       "      <td>8168.0</td>\n",
       "      <td>...</td>\n",
       "      <td>True</td>\n",
       "      <td>False</td>\n",
       "      <td>False</td>\n",
       "      <td>Tak</td>\n",
       "      <td>Nie</td>\n",
       "      <td>Tak</td>\n",
       "      <td>Nie</td>\n",
       "      <td>Nie</td>\n",
       "      <td>Nie</td>\n",
       "      <td>0.0</td>\n",
       "    </tr>\n",
       "    <tr>\n",
       "      <th>65</th>\n",
       "      <td>https://freedom.pl/oferta/mieszkanie-na-sprzed...</td>\n",
       "      <td>4</td>\n",
       "      <td>6</td>\n",
       "      <td>7</td>\n",
       "      <td>Kołobrzeg, Zachodniopomorskie, ul. Kupiecka</td>\n",
       "      <td>Atrakcyjne 4-pokojowe, 2 balkony, gabinet, gar...</td>\n",
       "      <td>Wtórny</td>\n",
       "      <td>980000.0</td>\n",
       "      <td>103.38</td>\n",
       "      <td>9480.0</td>\n",
       "      <td>...</td>\n",
       "      <td>True</td>\n",
       "      <td>False</td>\n",
       "      <td>False</td>\n",
       "      <td>Tak</td>\n",
       "      <td>Nie</td>\n",
       "      <td>Nie</td>\n",
       "      <td>Nie</td>\n",
       "      <td>Nie</td>\n",
       "      <td>Nie</td>\n",
       "      <td>0.0</td>\n",
       "    </tr>\n",
       "    <tr>\n",
       "      <th>66</th>\n",
       "      <td>https://freedom.pl/oferta/mieszkanie-na-sprzed...</td>\n",
       "      <td>3</td>\n",
       "      <td>3</td>\n",
       "      <td>4</td>\n",
       "      <td>Kołobrzeg, Zachodniopomorskie, ul. Stanisława ...</td>\n",
       "      <td>Stylowe 3 pokoje na Starówce. 3 balkony, garaż...</td>\n",
       "      <td>Wtórny</td>\n",
       "      <td>830000.0</td>\n",
       "      <td>67.70</td>\n",
       "      <td>12260.0</td>\n",
       "      <td>...</td>\n",
       "      <td>True</td>\n",
       "      <td>False</td>\n",
       "      <td>False</td>\n",
       "      <td>Tak</td>\n",
       "      <td>Nie</td>\n",
       "      <td>Tak</td>\n",
       "      <td>Nie</td>\n",
       "      <td>Nie</td>\n",
       "      <td>Tak</td>\n",
       "      <td>0.0</td>\n",
       "    </tr>\n",
       "    <tr>\n",
       "      <th>67</th>\n",
       "      <td>https://freedom.pl/oferta/mieszkanie-na-sprzed...</td>\n",
       "      <td>2</td>\n",
       "      <td>2</td>\n",
       "      <td>4</td>\n",
       "      <td>Kołobrzeg, Zachodniopomorskie, ul. Trzebiatowska</td>\n",
       "      <td>Mieszkanie 2 pokojowe z balkonem w budynku z w...</td>\n",
       "      <td>Wtórny</td>\n",
       "      <td>550000.0</td>\n",
       "      <td>46.82</td>\n",
       "      <td>11747.0</td>\n",
       "      <td>...</td>\n",
       "      <td>False</td>\n",
       "      <td>False</td>\n",
       "      <td>False</td>\n",
       "      <td>Tak</td>\n",
       "      <td>Nie</td>\n",
       "      <td>Nie</td>\n",
       "      <td>Nie</td>\n",
       "      <td>Nie</td>\n",
       "      <td>Tak</td>\n",
       "      <td>0.0</td>\n",
       "    </tr>\n",
       "    <tr>\n",
       "      <th>68</th>\n",
       "      <td>https://freedom.pl/oferta/mieszkanie-na-sprzed...</td>\n",
       "      <td>3</td>\n",
       "      <td>3</td>\n",
       "      <td>4</td>\n",
       "      <td>Kołobrzeg, Zachodniopomorskie, ul. Wiedeńska</td>\n",
       "      <td>3 pokojowe mieszkanie  w Kołobrzegu\\nŚliczne, ...</td>\n",
       "      <td>Wtórny</td>\n",
       "      <td>580000.0</td>\n",
       "      <td>54.76</td>\n",
       "      <td>10592.0</td>\n",
       "      <td>...</td>\n",
       "      <td>True</td>\n",
       "      <td>False</td>\n",
       "      <td>False</td>\n",
       "      <td>Tak</td>\n",
       "      <td>Nie</td>\n",
       "      <td>Tak</td>\n",
       "      <td>Nie</td>\n",
       "      <td>Nie</td>\n",
       "      <td>Tak</td>\n",
       "      <td>0.0</td>\n",
       "    </tr>\n",
       "  </tbody>\n",
       "</table>\n",
       "<p>69 rows × 81 columns</p>\n",
       "</div>"
      ],
      "text/plain": [
       "                                                  url  Liczba pokoi  Piętro  \\\n",
       "0   https://freedom.pl/oferta/mieszkanie-na-sprzed...             1       1   \n",
       "1   https://freedom.pl/oferta/mieszkanie-na-sprzed...             2       4   \n",
       "2   https://freedom.pl/oferta/mieszkanie-na-sprzed...             2       3   \n",
       "3   https://freedom.pl/oferta/mieszkanie-na-sprzed...             2       3   \n",
       "4   https://freedom.pl/oferta/mieszkanie-na-sprzed...             4       2   \n",
       "..                                                ...           ...     ...   \n",
       "64  https://freedom.pl/oferta/mieszkanie-na-sprzed...             3       3   \n",
       "65  https://freedom.pl/oferta/mieszkanie-na-sprzed...             4       6   \n",
       "66  https://freedom.pl/oferta/mieszkanie-na-sprzed...             3       3   \n",
       "67  https://freedom.pl/oferta/mieszkanie-na-sprzed...             2       2   \n",
       "68  https://freedom.pl/oferta/mieszkanie-na-sprzed...             3       3   \n",
       "\n",
       "    Liczba pięter                                              Adres  \\\n",
       "0               7  Kołobrzeg, Zachodniopomorskie, ul. Tadeusza Ko...   \n",
       "1               4         Kołobrzeg, Zachodniopomorskie, ul. Rybacka   \n",
       "2               4  Kołobrzeg, Zachodniopomorskie, ul. Tadeusza Ko...   \n",
       "3               5                     Kołobrzeg, Zachodniopomorskie,   \n",
       "4               4  Kołobrzeg, Zachodniopomorskie, ul. Aleksandra ...   \n",
       "..            ...                                                ...   \n",
       "64              4         Kołobrzeg, Zachodniopomorskie, ul. Kaliska   \n",
       "65              7        Kołobrzeg, Zachodniopomorskie, ul. Kupiecka   \n",
       "66              4  Kołobrzeg, Zachodniopomorskie, ul. Stanisława ...   \n",
       "67              4   Kołobrzeg, Zachodniopomorskie, ul. Trzebiatowska   \n",
       "68              4       Kołobrzeg, Zachodniopomorskie, ul. Wiedeńska   \n",
       "\n",
       "                                                 opis   Rynek       Cena  \\\n",
       "0   NIŻSZA CENA!!! Apartament Diva, 200m od morza,...  Wtórny   420000.0   \n",
       "1   Nieruchomość nad morzem\\nPrezentujemy Państwu ...  Wtórny   490000.0   \n",
       "2   Apartament w hotelu Olimp I, od morza 200m\\nNa...  Wtórny   900000.0   \n",
       "3   Apartament 2 pokojowy w inwestycji Shellter\\nA...  Wtórny   730739.0   \n",
       "4   4 pokojowe rozkładowe mieszkanie w Kołobrzegu\\...  Wtórny  1270000.0   \n",
       "..                                                ...     ...        ...   \n",
       "64  3 pokojowe mieszkanie w Kołobrzegu\\nTrzypokojo...  Wtórny   370000.0   \n",
       "65  Atrakcyjne 4-pokojowe, 2 balkony, gabinet, gar...  Wtórny   980000.0   \n",
       "66  Stylowe 3 pokoje na Starówce. 3 balkony, garaż...  Wtórny   830000.0   \n",
       "67  Mieszkanie 2 pokojowe z balkonem w budynku z w...  Wtórny   550000.0   \n",
       "68  3 pokojowe mieszkanie  w Kołobrzegu\\nŚliczne, ...  Wtórny   580000.0   \n",
       "\n",
       "    Powierzchnia  Cena za m2  ...  Typ_mieszkania_Rozkładowe  \\\n",
       "0          26.80     15672.0  ...                      False   \n",
       "1          36.98     13250.0  ...                      False   \n",
       "2          48.47     18568.0  ...                      False   \n",
       "3          31.91     22900.0  ...                      False   \n",
       "4          97.34     13047.0  ...                      False   \n",
       "..           ...         ...  ...                        ...   \n",
       "64         45.30      8168.0  ...                       True   \n",
       "65        103.38      9480.0  ...                       True   \n",
       "66         67.70     12260.0  ...                       True   \n",
       "67         46.82     11747.0  ...                      False   \n",
       "68         54.76     10592.0  ...                       True   \n",
       "\n",
       "   Typ_mieszkania_inne Typ_mieszkania_Z_antresolą Balkon Alarm Monitoring  \\\n",
       "0                False                      False    Nie   Nie        Tak   \n",
       "1                False                      False    Tak   Nie        Tak   \n",
       "2                False                      False    Tak   Nie        Tak   \n",
       "3                False                      False    Tak   Nie        Tak   \n",
       "4                False                      False    Tak   Nie        Tak   \n",
       "..                 ...                        ...    ...   ...        ...   \n",
       "64               False                      False    Tak   Nie        Tak   \n",
       "65               False                      False    Tak   Nie        Nie   \n",
       "66               False                      False    Tak   Nie        Tak   \n",
       "67               False                      False    Tak   Nie        Nie   \n",
       "68               False                      False    Tak   Nie        Tak   \n",
       "\n",
       "    Ochrona Recepcja Teren ogrodzony Liczba oddzielnych toalet  \n",
       "0       Tak      Tak             Tak                       0.0  \n",
       "1       Nie      Nie             Tak                       0.0  \n",
       "2       Nie      Tak             Tak                       0.0  \n",
       "3       Tak      Tak             Tak                       0.0  \n",
       "4       Nie      Nie             Nie                       0.0  \n",
       "..      ...      ...             ...                       ...  \n",
       "64      Nie      Nie             Nie                       0.0  \n",
       "65      Nie      Nie             Nie                       0.0  \n",
       "66      Nie      Nie             Tak                       0.0  \n",
       "67      Nie      Nie             Tak                       0.0  \n",
       "68      Nie      Nie             Tak                       0.0  \n",
       "\n",
       "[69 rows x 81 columns]"
      ]
     },
     "execution_count": 122,
     "metadata": {},
     "output_type": "execute_result"
    }
   ],
   "source": [
    "df1"
   ]
  },
  {
   "cell_type": "code",
   "execution_count": 123,
   "metadata": {},
   "outputs": [],
   "source": [
    "# df1.to_csv('./data/flats_clean.csv', index=False)"
   ]
  },
  {
   "cell_type": "code",
   "execution_count": 124,
   "metadata": {},
   "outputs": [],
   "source": [
    "df1.to_pickle('./data/flats_clean.pkl')"
   ]
  },
  {
   "cell_type": "code",
   "execution_count": null,
   "metadata": {},
   "outputs": [],
   "source": []
  }
 ],
 "metadata": {
  "kernelspec": {
   "display_name": "freedom-webscrap",
   "language": "python",
   "name": "python3"
  },
  "language_info": {
   "codemirror_mode": {
    "name": "ipython",
    "version": 3
   },
   "file_extension": ".py",
   "mimetype": "text/x-python",
   "name": "python",
   "nbconvert_exporter": "python",
   "pygments_lexer": "ipython3",
   "version": "3.12.3"
  }
 },
 "nbformat": 4,
 "nbformat_minor": 2
}
