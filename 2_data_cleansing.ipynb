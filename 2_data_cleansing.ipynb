{
 "cells": [
  {
   "cell_type": "code",
   "execution_count": 1,
   "metadata": {},
   "outputs": [
    {
     "data": {
      "text/html": [
       "<div>\n",
       "<style scoped>\n",
       "    .dataframe tbody tr th:only-of-type {\n",
       "        vertical-align: middle;\n",
       "    }\n",
       "\n",
       "    .dataframe tbody tr th {\n",
       "        vertical-align: top;\n",
       "    }\n",
       "\n",
       "    .dataframe thead th {\n",
       "        text-align: right;\n",
       "    }\n",
       "</style>\n",
       "<table border=\"1\" class=\"dataframe\">\n",
       "  <thead>\n",
       "    <tr style=\"text-align: right;\">\n",
       "      <th></th>\n",
       "      <th>url</th>\n",
       "      <th>Rynek</th>\n",
       "      <th>Cena</th>\n",
       "      <th>Powierzchnia</th>\n",
       "      <th>Cena za m2</th>\n",
       "      <th>Liczba pokoi</th>\n",
       "      <th>Piętro</th>\n",
       "      <th>Liczba pięter</th>\n",
       "      <th>Czynsz administracyjny</th>\n",
       "      <th>Typ mieszkania</th>\n",
       "      <th>...</th>\n",
       "      <th>Powierzchnia przedpokoju</th>\n",
       "      <th>Powierzchnia kuchni</th>\n",
       "      <th>Wysokość pomieszczeń (cm)</th>\n",
       "      <th>Liczba oddzielnych toalet</th>\n",
       "      <th>Stan mieszkania</th>\n",
       "      <th>Ciepła woda</th>\n",
       "      <th>Rodzaj ogrzewania</th>\n",
       "      <th>Typ okien</th>\n",
       "      <th>Alarm</th>\n",
       "      <th>Klimatyzacja</th>\n",
       "    </tr>\n",
       "  </thead>\n",
       "  <tbody>\n",
       "    <tr>\n",
       "      <th>0</th>\n",
       "      <td>https://freedom.pl/oferta/mieszkanie-na-sprzed...</td>\n",
       "      <td>Wtórny</td>\n",
       "      <td>756 000 zł</td>\n",
       "      <td>47.88 m2</td>\n",
       "      <td>15 789 zł</td>\n",
       "      <td>2</td>\n",
       "      <td>2</td>\n",
       "      <td>4</td>\n",
       "      <td>930</td>\n",
       "      <td>Apartament</td>\n",
       "      <td>...</td>\n",
       "      <td>NaN</td>\n",
       "      <td>NaN</td>\n",
       "      <td>NaN</td>\n",
       "      <td>NaN</td>\n",
       "      <td>NaN</td>\n",
       "      <td>NaN</td>\n",
       "      <td>NaN</td>\n",
       "      <td>NaN</td>\n",
       "      <td>NaN</td>\n",
       "      <td>NaN</td>\n",
       "    </tr>\n",
       "    <tr>\n",
       "      <th>1</th>\n",
       "      <td>https://freedom.pl/oferta/mieszkanie-na-sprzed...</td>\n",
       "      <td>Wtórny</td>\n",
       "      <td>400 000 zł</td>\n",
       "      <td>43.2 m2</td>\n",
       "      <td>9 259 zł</td>\n",
       "      <td>2</td>\n",
       "      <td>4</td>\n",
       "      <td>4</td>\n",
       "      <td>710</td>\n",
       "      <td>Rozkładowe</td>\n",
       "      <td>...</td>\n",
       "      <td>3.4</td>\n",
       "      <td>3,8 m2</td>\n",
       "      <td>NaN</td>\n",
       "      <td>NaN</td>\n",
       "      <td>NaN</td>\n",
       "      <td>NaN</td>\n",
       "      <td>NaN</td>\n",
       "      <td>NaN</td>\n",
       "      <td>NaN</td>\n",
       "      <td>NaN</td>\n",
       "    </tr>\n",
       "    <tr>\n",
       "      <th>2</th>\n",
       "      <td>https://freedom.pl/oferta/mieszkanie-na-sprzed...</td>\n",
       "      <td>Wtórny</td>\n",
       "      <td>475 000 zł</td>\n",
       "      <td>32.75 m2</td>\n",
       "      <td>14 504 zł</td>\n",
       "      <td>2</td>\n",
       "      <td>4</td>\n",
       "      <td>6</td>\n",
       "      <td>290</td>\n",
       "      <td>Apartament</td>\n",
       "      <td>...</td>\n",
       "      <td>NaN</td>\n",
       "      <td>NaN</td>\n",
       "      <td>NaN</td>\n",
       "      <td>NaN</td>\n",
       "      <td>NaN</td>\n",
       "      <td>NaN</td>\n",
       "      <td>NaN</td>\n",
       "      <td>NaN</td>\n",
       "      <td>NaN</td>\n",
       "      <td>NaN</td>\n",
       "    </tr>\n",
       "    <tr>\n",
       "      <th>3</th>\n",
       "      <td>https://freedom.pl/oferta/mieszkanie-na-sprzed...</td>\n",
       "      <td>Wtórny</td>\n",
       "      <td>475 000 zł</td>\n",
       "      <td>68.5 m2</td>\n",
       "      <td>6 934 zł</td>\n",
       "      <td>3</td>\n",
       "      <td>4</td>\n",
       "      <td>4</td>\n",
       "      <td>770</td>\n",
       "      <td>Rozkładowe</td>\n",
       "      <td>...</td>\n",
       "      <td>NaN</td>\n",
       "      <td>7 m2</td>\n",
       "      <td>260</td>\n",
       "      <td>1</td>\n",
       "      <td>NaN</td>\n",
       "      <td>NaN</td>\n",
       "      <td>NaN</td>\n",
       "      <td>NaN</td>\n",
       "      <td>NaN</td>\n",
       "      <td>NaN</td>\n",
       "    </tr>\n",
       "    <tr>\n",
       "      <th>4</th>\n",
       "      <td>https://freedom.pl/oferta/mieszkanie-na-sprzed...</td>\n",
       "      <td>Wtórny</td>\n",
       "      <td>550 000 zł</td>\n",
       "      <td>41.81 m2</td>\n",
       "      <td>13 155 zł</td>\n",
       "      <td>2</td>\n",
       "      <td>1</td>\n",
       "      <td>4</td>\n",
       "      <td>544.25</td>\n",
       "      <td>Jednopoziomowe</td>\n",
       "      <td>...</td>\n",
       "      <td>NaN</td>\n",
       "      <td>NaN</td>\n",
       "      <td>260</td>\n",
       "      <td>NaN</td>\n",
       "      <td>Bardzo dobry</td>\n",
       "      <td>Wodociąg miejski</td>\n",
       "      <td>CO miejskie</td>\n",
       "      <td>PCV</td>\n",
       "      <td>NaN</td>\n",
       "      <td>NaN</td>\n",
       "    </tr>\n",
       "    <tr>\n",
       "      <th>...</th>\n",
       "      <td>...</td>\n",
       "      <td>...</td>\n",
       "      <td>...</td>\n",
       "      <td>...</td>\n",
       "      <td>...</td>\n",
       "      <td>...</td>\n",
       "      <td>...</td>\n",
       "      <td>...</td>\n",
       "      <td>...</td>\n",
       "      <td>...</td>\n",
       "      <td>...</td>\n",
       "      <td>...</td>\n",
       "      <td>...</td>\n",
       "      <td>...</td>\n",
       "      <td>...</td>\n",
       "      <td>...</td>\n",
       "      <td>...</td>\n",
       "      <td>...</td>\n",
       "      <td>...</td>\n",
       "      <td>...</td>\n",
       "      <td>...</td>\n",
       "    </tr>\n",
       "    <tr>\n",
       "      <th>88</th>\n",
       "      <td>https://freedom.pl/oferta/mieszkanie-na-sprzed...</td>\n",
       "      <td>Wtórny</td>\n",
       "      <td>950 000 zł</td>\n",
       "      <td>103.38 m2</td>\n",
       "      <td>9 189 zł</td>\n",
       "      <td>4</td>\n",
       "      <td>6</td>\n",
       "      <td>7</td>\n",
       "      <td>1342</td>\n",
       "      <td>Rozkładowe</td>\n",
       "      <td>...</td>\n",
       "      <td>NaN</td>\n",
       "      <td>NaN</td>\n",
       "      <td>NaN</td>\n",
       "      <td>NaN</td>\n",
       "      <td>NaN</td>\n",
       "      <td>NaN</td>\n",
       "      <td>NaN</td>\n",
       "      <td>NaN</td>\n",
       "      <td>NaN</td>\n",
       "      <td>NaN</td>\n",
       "    </tr>\n",
       "    <tr>\n",
       "      <th>89</th>\n",
       "      <td>https://freedom.pl/oferta/mieszkanie-na-sprzed...</td>\n",
       "      <td>Wtórny</td>\n",
       "      <td>352 440 zł</td>\n",
       "      <td>32.04 m2</td>\n",
       "      <td>11 000 zł</td>\n",
       "      <td>1</td>\n",
       "      <td>0</td>\n",
       "      <td>4</td>\n",
       "      <td>504.99</td>\n",
       "      <td>Apartament ,Jednopoziomowe</td>\n",
       "      <td>...</td>\n",
       "      <td>NaN</td>\n",
       "      <td>NaN</td>\n",
       "      <td>255</td>\n",
       "      <td>NaN</td>\n",
       "      <td>NaN</td>\n",
       "      <td>NaN</td>\n",
       "      <td>NaN</td>\n",
       "      <td>NaN</td>\n",
       "      <td>NaN</td>\n",
       "      <td>NaN</td>\n",
       "    </tr>\n",
       "    <tr>\n",
       "      <th>90</th>\n",
       "      <td>https://freedom.pl/oferta/mieszkanie-na-sprzed...</td>\n",
       "      <td>Wtórny</td>\n",
       "      <td>1 090 000 zł</td>\n",
       "      <td>52 m2</td>\n",
       "      <td>20 962 zł</td>\n",
       "      <td>2</td>\n",
       "      <td>1</td>\n",
       "      <td>5</td>\n",
       "      <td>NaN</td>\n",
       "      <td>Apartament</td>\n",
       "      <td>...</td>\n",
       "      <td>NaN</td>\n",
       "      <td>NaN</td>\n",
       "      <td>NaN</td>\n",
       "      <td>NaN</td>\n",
       "      <td>Wysoki standard</td>\n",
       "      <td>Wodociąg miejski</td>\n",
       "      <td>CO miejskie</td>\n",
       "      <td>Aluminiowe</td>\n",
       "      <td>Tak</td>\n",
       "      <td>Tak</td>\n",
       "    </tr>\n",
       "    <tr>\n",
       "      <th>91</th>\n",
       "      <td>https://freedom.pl/oferta/mieszkanie-na-sprzed...</td>\n",
       "      <td>Wtórny</td>\n",
       "      <td>620 000 zł</td>\n",
       "      <td>36.82 m2</td>\n",
       "      <td>16 839 zł</td>\n",
       "      <td>2</td>\n",
       "      <td>5</td>\n",
       "      <td>6</td>\n",
       "      <td>250</td>\n",
       "      <td>Jednopoziomowe</td>\n",
       "      <td>...</td>\n",
       "      <td>NaN</td>\n",
       "      <td>NaN</td>\n",
       "      <td>270</td>\n",
       "      <td>NaN</td>\n",
       "      <td>NaN</td>\n",
       "      <td>NaN</td>\n",
       "      <td>NaN</td>\n",
       "      <td>NaN</td>\n",
       "      <td>NaN</td>\n",
       "      <td>NaN</td>\n",
       "    </tr>\n",
       "    <tr>\n",
       "      <th>92</th>\n",
       "      <td>https://freedom.pl/oferta/mieszkanie-na-sprzed...</td>\n",
       "      <td>Wtórny</td>\n",
       "      <td>930 000 zł</td>\n",
       "      <td>131.88 m2</td>\n",
       "      <td>7 052 zł</td>\n",
       "      <td>4</td>\n",
       "      <td>2</td>\n",
       "      <td>3</td>\n",
       "      <td>959.03</td>\n",
       "      <td>NaN</td>\n",
       "      <td>...</td>\n",
       "      <td>NaN</td>\n",
       "      <td>NaN</td>\n",
       "      <td>330</td>\n",
       "      <td>NaN</td>\n",
       "      <td>Dobry</td>\n",
       "      <td>Piec gazowy</td>\n",
       "      <td>CO własne</td>\n",
       "      <td>PCV</td>\n",
       "      <td>NaN</td>\n",
       "      <td>NaN</td>\n",
       "    </tr>\n",
       "  </tbody>\n",
       "</table>\n",
       "<p>93 rows × 48 columns</p>\n",
       "</div>"
      ],
      "text/plain": [
       "                                                  url   Rynek          Cena  \\\n",
       "0   https://freedom.pl/oferta/mieszkanie-na-sprzed...  Wtórny    756 000 zł   \n",
       "1   https://freedom.pl/oferta/mieszkanie-na-sprzed...  Wtórny    400 000 zł   \n",
       "2   https://freedom.pl/oferta/mieszkanie-na-sprzed...  Wtórny    475 000 zł   \n",
       "3   https://freedom.pl/oferta/mieszkanie-na-sprzed...  Wtórny    475 000 zł   \n",
       "4   https://freedom.pl/oferta/mieszkanie-na-sprzed...  Wtórny    550 000 zł   \n",
       "..                                                ...     ...           ...   \n",
       "88  https://freedom.pl/oferta/mieszkanie-na-sprzed...  Wtórny    950 000 zł   \n",
       "89  https://freedom.pl/oferta/mieszkanie-na-sprzed...  Wtórny    352 440 zł   \n",
       "90  https://freedom.pl/oferta/mieszkanie-na-sprzed...  Wtórny  1 090 000 zł   \n",
       "91  https://freedom.pl/oferta/mieszkanie-na-sprzed...  Wtórny    620 000 zł   \n",
       "92  https://freedom.pl/oferta/mieszkanie-na-sprzed...  Wtórny    930 000 zł   \n",
       "\n",
       "   Powierzchnia Cena za m2 Liczba pokoi Piętro Liczba pięter  \\\n",
       "0      47.88 m2  15 789 zł            2      2             4   \n",
       "1       43.2 m2   9 259 zł            2      4             4   \n",
       "2      32.75 m2  14 504 zł            2      4             6   \n",
       "3       68.5 m2   6 934 zł            3      4             4   \n",
       "4      41.81 m2  13 155 zł            2      1             4   \n",
       "..          ...        ...          ...    ...           ...   \n",
       "88    103.38 m2   9 189 zł            4      6             7   \n",
       "89     32.04 m2  11 000 zł            1      0             4   \n",
       "90        52 m2  20 962 zł            2      1             5   \n",
       "91     36.82 m2  16 839 zł            2      5             6   \n",
       "92    131.88 m2   7 052 zł            4      2             3   \n",
       "\n",
       "   Czynsz administracyjny              Typ mieszkania  ...  \\\n",
       "0                     930                  Apartament  ...   \n",
       "1                     710                  Rozkładowe  ...   \n",
       "2                     290                  Apartament  ...   \n",
       "3                     770                  Rozkładowe  ...   \n",
       "4                  544.25              Jednopoziomowe  ...   \n",
       "..                    ...                         ...  ...   \n",
       "88                   1342                  Rozkładowe  ...   \n",
       "89                 504.99  Apartament ,Jednopoziomowe  ...   \n",
       "90                    NaN                  Apartament  ...   \n",
       "91                    250              Jednopoziomowe  ...   \n",
       "92                 959.03                         NaN  ...   \n",
       "\n",
       "   Powierzchnia przedpokoju Powierzchnia kuchni Wysokość pomieszczeń (cm)  \\\n",
       "0                       NaN                 NaN                       NaN   \n",
       "1                       3.4              3,8 m2                       NaN   \n",
       "2                       NaN                 NaN                       NaN   \n",
       "3                       NaN                7 m2                       260   \n",
       "4                       NaN                 NaN                       260   \n",
       "..                      ...                 ...                       ...   \n",
       "88                      NaN                 NaN                       NaN   \n",
       "89                      NaN                 NaN                       255   \n",
       "90                      NaN                 NaN                       NaN   \n",
       "91                      NaN                 NaN                       270   \n",
       "92                      NaN                 NaN                       330   \n",
       "\n",
       "   Liczba oddzielnych toalet  Stan mieszkania       Ciepła woda  \\\n",
       "0                        NaN              NaN               NaN   \n",
       "1                        NaN              NaN               NaN   \n",
       "2                        NaN              NaN               NaN   \n",
       "3                          1              NaN               NaN   \n",
       "4                        NaN     Bardzo dobry  Wodociąg miejski   \n",
       "..                       ...              ...               ...   \n",
       "88                       NaN              NaN               NaN   \n",
       "89                       NaN              NaN               NaN   \n",
       "90                       NaN  Wysoki standard  Wodociąg miejski   \n",
       "91                       NaN              NaN               NaN   \n",
       "92                       NaN            Dobry       Piec gazowy   \n",
       "\n",
       "   Rodzaj ogrzewania   Typ okien Alarm Klimatyzacja  \n",
       "0                NaN         NaN   NaN          NaN  \n",
       "1                NaN         NaN   NaN          NaN  \n",
       "2                NaN         NaN   NaN          NaN  \n",
       "3                NaN         NaN   NaN          NaN  \n",
       "4        CO miejskie         PCV   NaN          NaN  \n",
       "..               ...         ...   ...          ...  \n",
       "88               NaN         NaN   NaN          NaN  \n",
       "89               NaN         NaN   NaN          NaN  \n",
       "90       CO miejskie  Aluminiowe   Tak          Tak  \n",
       "91               NaN         NaN   NaN          NaN  \n",
       "92         CO własne         PCV   NaN          NaN  \n",
       "\n",
       "[93 rows x 48 columns]"
      ]
     },
     "execution_count": 1,
     "metadata": {},
     "output_type": "execute_result"
    }
   ],
   "source": [
    "import pandas as pd\n",
    "\n",
    "df = pd.read_pickle('./data/flats_dirty.pkl')\n",
    "df"
   ]
  },
  {
   "cell_type": "code",
   "execution_count": 2,
   "metadata": {},
   "outputs": [
    {
     "data": {
      "text/plain": [
       "Index(['url', 'Rynek', 'Cena', 'Powierzchnia', 'Cena za m2', 'Liczba pokoi',\n",
       "       'Piętro', 'Liczba pięter', 'Czynsz administracyjny', 'Typ mieszkania',\n",
       "       'Rodzaj nieruchomości', 'Stan nieruchomości', 'Umeblowanie',\n",
       "       'Dostępne od', 'Numer oferty', 'Zobacz spacer 360°', 'Rodzaj budynku',\n",
       "       'Rok budowy', 'Balkon', 'Winda', 'Domofon', 'Monitoring', 'Ochrona',\n",
       "       'Recepcja', 'Teren ogrodzony', 'Podłogi w pomieszczeniach',\n",
       "       'Typ kuchni', 'Liczba łazienek', 'Garaż/Miejsca parkingowe',\n",
       "       'Informacje o Garażu/Miejscach parkingowych',\n",
       "       'Liczba miejsc parkingowych', 'Cena za garaż/Miejsce parkingowe',\n",
       "       'Adres', 'Komunikacja', 'W pobliżu', 'opis', 'Materiał',\n",
       "       'Powierzchnie pokoi', 'Powierzchnia przedpokoju', 'Powierzchnia kuchni',\n",
       "       'Wysokość pomieszczeń (cm)', 'Liczba oddzielnych toalet',\n",
       "       'Stan mieszkania', 'Ciepła woda', 'Rodzaj ogrzewania', 'Typ okien',\n",
       "       'Alarm', 'Klimatyzacja'],\n",
       "      dtype='object')"
      ]
     },
     "execution_count": 2,
     "metadata": {},
     "output_type": "execute_result"
    }
   ],
   "source": [
    "df1 = pd.DataFrame()\n",
    "\n",
    "df.columns"
   ]
  },
  {
   "cell_type": "markdown",
   "metadata": {},
   "source": [
    "## Data analysis"
   ]
  },
  {
   "cell_type": "code",
   "execution_count": 3,
   "metadata": {},
   "outputs": [],
   "source": [
    "df1['url'] = df['url']\n",
    "df1['Liczba pokoi'] = df['Liczba pokoi']\n",
    "df1['Piętro'] = df['Piętro']\n",
    "df1['Liczba pięter'] = df['Liczba pięter']\n",
    "df1['Adres'] = df['Adres']\n",
    "df1['opis'] = df['opis']"
   ]
  },
  {
   "cell_type": "markdown",
   "metadata": {},
   "source": [
    "### Rynek"
   ]
  },
  {
   "cell_type": "code",
   "execution_count": 4,
   "metadata": {},
   "outputs": [
    {
     "data": {
      "text/plain": [
       "Rynek\n",
       "Wtórny       91\n",
       "Pierwotny     2\n",
       "Name: count, dtype: int64"
      ]
     },
     "execution_count": 4,
     "metadata": {},
     "output_type": "execute_result"
    }
   ],
   "source": [
    "df1['Rynek'] = df['Rynek'].astype('category')\n",
    "df1['Rynek'].value_counts()"
   ]
  },
  {
   "cell_type": "markdown",
   "metadata": {},
   "source": [
    "### Cena całkowita"
   ]
  },
  {
   "cell_type": "code",
   "execution_count": 5,
   "metadata": {},
   "outputs": [
    {
     "data": {
      "text/plain": [
       "count    9.300000e+01\n",
       "mean     6.390156e+05\n",
       "std      2.639069e+05\n",
       "min      1.200000e+05\n",
       "25%      4.700000e+05\n",
       "50%      5.970000e+05\n",
       "75%      7.980000e+05\n",
       "max      1.499000e+06\n",
       "Name: Cena, dtype: float64"
      ]
     },
     "execution_count": 5,
     "metadata": {},
     "output_type": "execute_result"
    }
   ],
   "source": [
    "df1[\"Cena\"] = df[\"Cena\"].str.replace(\" zł\", \"\").str.replace(\" \", \"\").astype(float)\n",
    "df1[\"Cena\"].describe()"
   ]
  },
  {
   "cell_type": "markdown",
   "metadata": {},
   "source": [
    "### Powierzchnia"
   ]
  },
  {
   "cell_type": "code",
   "execution_count": 6,
   "metadata": {},
   "outputs": [
    {
     "data": {
      "text/plain": [
       "Text(0.5, 0, 'Powierzchnia [m2]')"
      ]
     },
     "execution_count": 6,
     "metadata": {},
     "output_type": "execute_result"
    },
    {
     "data": {
      "image/png": "[encoded data removed]",
      "text/plain": [
       "<Figure size 640x480 with 1 Axes>"
      ]
     },
     "metadata": {},
     "output_type": "display_data"
    }
   ],
   "source": [
    "df1[\"Powierzchnia\"] = df[\"Powierzchnia\"].str.replace(\" m2\", \"\").str.replace(\",\", \".\").astype(float)\n",
    "df1[\"Powierzchnia\"].hist(bins=30).set_xlabel(\"Powierzchnia [m2]\")"
   ]
  },
  {
   "cell_type": "markdown",
   "metadata": {},
   "source": [
    "### Cena za m2"
   ]
  },
  {
   "cell_type": "code",
   "execution_count": 7,
   "metadata": {},
   "outputs": [
    {
     "data": {
      "text/plain": [
       "Text(0.5, 0, 'Cena za metr [zł/m2]')"
      ]
     },
     "execution_count": 7,
     "metadata": {},
     "output_type": "execute_result"
    },
    {
     "data": {
      "image/png": "[encoded data removed]",
      "text/plain": [
       "<Figure size 640x480 with 1 Axes>"
      ]
     },
     "metadata": {},
     "output_type": "display_data"
    }
   ],
   "source": [
    "df1[\"Cena za m2\"] = df[\"Cena za m2\"].str.replace(\" zł\", \"\").str.replace(\" \", \"\").astype(float)\n",
    "df1[\"Cena za m2\"].hist(bins=30).set_xlabel(\"Cena za metr [zł/m2]\")"
   ]
  },
  {
   "cell_type": "markdown",
   "metadata": {},
   "source": [
    "### Czynsz administracyjny"
   ]
  },
  {
   "cell_type": "code",
   "execution_count": 8,
   "metadata": {},
   "outputs": [
    {
     "name": "stdout",
     "output_type": "stream",
     "text": [
      "25806/3685/OMS \n",
      "29044/3685/OMS \n",
      "31096/3685/OMS \n",
      "26877/3685/OMS \n",
      "29243/3685/OMS Apartament jest obsługiwany i wynajmowany przez hotel ze stałym czynszem najmu w wysokości 25480  zł.\n",
      "31400/3685/OMS \n",
      "24123/3685/OMS \n",
      "21279/3685/OMS Apartament jest obsługiwany i wynajmowany przez hotel ze stałym czynszem najmu w wysokości 39 tys. zł\n",
      "29015/3685/OMS \n"
     ]
    }
   ],
   "source": [
    "for (idx, row) in df[df[\"Czynsz administracyjny\"].isna()][[\"Numer oferty\", \"opis\"]].iterrows():\n",
    "    numer_oferty = row.iloc[0]\n",
    "    opis = row.iloc[1]\n",
    "    x = row['opis'].find(\"czynsz\")\n",
    "    print(numer_oferty, opis[x-64:x+37])"
   ]
  },
  {
   "cell_type": "code",
   "execution_count": 9,
   "metadata": {},
   "outputs": [],
   "source": [
    "df.loc[df[\"Numer oferty\"]==\"21279/3685/OMS\", \"Czynsz administracyjny\"] = 39000 / 12\n",
    "df.loc[df[\"Numer oferty\"]==\"29243/3685/OMS\", \"Czynsz administracyjny\"] = 25480 / 12"
   ]
  },
  {
   "cell_type": "code",
   "execution_count": 10,
   "metadata": {},
   "outputs": [
    {
     "data": {
      "text/plain": [
       "Text(0.5, 0, 'Czynsz administracyjny [zł]')"
      ]
     },
     "execution_count": 10,
     "metadata": {},
     "output_type": "execute_result"
    },
    {
     "data": {
      "image/png": "[encoded data removed]",
      "text/plain": [
       "<Figure size 640x480 with 1 Axes>"
      ]
     },
     "metadata": {},
     "output_type": "display_data"
    }
   ],
   "source": [
    "df1[\"Czynsz administracyjny\"] = df[\"Czynsz administracyjny\"].astype(float)\n",
    "df1[\"Czynsz administracyjny\"].hist(bins=30).set_xlabel(\"Czynsz administracyjny [zł]\")"
   ]
  },
  {
   "cell_type": "markdown",
   "metadata": {},
   "source": [
    "### Rodzaj nieruchomości"
   ]
  },
  {
   "cell_type": "code",
   "execution_count": 11,
   "metadata": {},
   "outputs": [
    {
     "data": {
      "text/plain": [
       "['Mieszkanie']\n",
       "Categories (1, object): ['Mieszkanie']"
      ]
     },
     "execution_count": 11,
     "metadata": {},
     "output_type": "execute_result"
    }
   ],
   "source": [
    "df[\"Rodzaj nieruchomości\"].astype('category').unique()"
   ]
  },
  {
   "cell_type": "markdown",
   "metadata": {},
   "source": [
    "### Stan nieruchomości"
   ]
  },
  {
   "cell_type": "code",
   "execution_count": 12,
   "metadata": {},
   "outputs": [
    {
     "data": {
      "text/plain": [
       "Index(['Bardzo dobry', 'Do adaptacji', 'Do drobnego remontu',\n",
       "       'Do kapitalnego remontu', 'Do odnowienia', 'Do odświeżenia',\n",
       "       'Do remontu', 'Do wykończenia', 'Dobry', 'Idealny', 'Po remoncie',\n",
       "       'Stan deweloperski', 'Wysoki standard'],\n",
       "      dtype='object')"
      ]
     },
     "execution_count": 12,
     "metadata": {},
     "output_type": "execute_result"
    }
   ],
   "source": [
    "df1[\"Stan nieruchomości\"] = df[\"Stan nieruchomości\"].astype('category')\n",
    "df1[\"Stan nieruchomości\"].cat.categories"
   ]
  },
  {
   "cell_type": "markdown",
   "metadata": {},
   "source": [
    "### Umeblowanie"
   ]
  },
  {
   "cell_type": "code",
   "execution_count": 13,
   "metadata": {},
   "outputs": [
    {
     "data": {
      "text/plain": [
       "Index(['Częściowo', 'Możliwe', 'Nie', 'Tak'], dtype='object')"
      ]
     },
     "execution_count": 13,
     "metadata": {},
     "output_type": "execute_result"
    }
   ],
   "source": [
    "df1[\"Umeblowanie\"] = df[\"Umeblowanie\"].astype('category')\n",
    "df1[\"Umeblowanie\"].cat.categories"
   ]
  },
  {
   "cell_type": "markdown",
   "metadata": {},
   "source": [
    "### Dostępne od"
   ]
  },
  {
   "cell_type": "code",
   "execution_count": 14,
   "metadata": {},
   "outputs": [
    {
     "data": {
      "text/plain": [
       "Text(0.5, 0, 'Dostępne od')"
      ]
     },
     "execution_count": 14,
     "metadata": {},
     "output_type": "execute_result"
    },
    {
     "data": {
      "image/png": "[encoded data removed]",
      "text/plain": [
       "<Figure size 640x480 with 1 Axes>"
      ]
     },
     "metadata": {},
     "output_type": "display_data"
    }
   ],
   "source": [
    "df1[\"Dostępne od\"] = df[\"Dostępne od\"].astype('datetime64[ns]')\n",
    "df1[\"Dostępne od\"].hist(bins=30).set_xlabel(\"Dostępne od\")"
   ]
  },
  {
   "cell_type": "markdown",
   "metadata": {},
   "source": [
    "### Numer oferty"
   ]
  },
  {
   "cell_type": "code",
   "execution_count": 15,
   "metadata": {},
   "outputs": [
    {
     "data": {
      "text/plain": [
       "0"
      ]
     },
     "execution_count": 15,
     "metadata": {},
     "output_type": "execute_result"
    }
   ],
   "source": [
    "df1[\"Numer oferty\"] = df[\"Numer oferty\"]\n",
    "df1[\"Numer oferty\"].isna().sum()"
   ]
  },
  {
   "cell_type": "markdown",
   "metadata": {},
   "source": [
    "### Rodzaj budynku"
   ]
  },
  {
   "cell_type": "code",
   "execution_count": 16,
   "metadata": {},
   "outputs": [
    {
     "data": {
      "text/plain": [
       "Index(['Apartamentowo-handlowy', 'Biurowo-handlowy', 'Budynek apartamentowy',\n",
       "       'Część domu', 'Dom', 'Hotel', 'Kamienica', 'Mieszkalno-biurowy',\n",
       "       'Niski blok', 'Segment'],\n",
       "      dtype='object')"
      ]
     },
     "execution_count": 16,
     "metadata": {},
     "output_type": "execute_result"
    }
   ],
   "source": [
    "df1[\"Rodzaj budynku\"] = df[\"Rodzaj budynku\"].astype('category')\n",
    "df1[\"Rodzaj budynku\"].cat.categories"
   ]
  },
  {
   "cell_type": "markdown",
   "metadata": {},
   "source": [
    "### Rok budowy"
   ]
  },
  {
   "cell_type": "code",
   "execution_count": 17,
   "metadata": {},
   "outputs": [
    {
     "data": {
      "text/plain": [
       "Text(0.5, 0, 'Rok budowy')"
      ]
     },
     "execution_count": 17,
     "metadata": {},
     "output_type": "execute_result"
    },
    {
     "data": {
      "image/png": "[encoded data removed]",
      "text/plain": [
       "<Figure size 640x480 with 1 Axes>"
      ]
     },
     "metadata": {},
     "output_type": "display_data"
    }
   ],
   "source": [
    "df1[\"Rok budowy\"] = df[\"Rok budowy\"].astype(float)\n",
    "df1[\"Rok budowy\"].hist(bins=50).set_xlabel(\"Rok budowy\")"
   ]
  },
  {
   "cell_type": "markdown",
   "metadata": {},
   "source": [
    "### Materiał"
   ]
  },
  {
   "cell_type": "code",
   "execution_count": 18,
   "metadata": {},
   "outputs": [
    {
     "data": {
      "text/plain": [
       "Materiał\n",
       "Cegła           22\n",
       "Silikat         22\n",
       "Ceramika        19\n",
       "Mieszany         9\n",
       "Bloczki          7\n",
       "Inne             7\n",
       "Wielka Płyta     3\n",
       "Pustak           2\n",
       "Drewno           1\n",
       "Ytong            1\n",
       "Name: count, dtype: int64"
      ]
     },
     "execution_count": 18,
     "metadata": {},
     "output_type": "execute_result"
    }
   ],
   "source": [
    "df1[\"Materiał\"] = df[\"Materiał\"].fillna(\"Inne\").astype('category')\n",
    "df1[\"Materiał\"].value_counts()"
   ]
  },
  {
   "cell_type": "markdown",
   "metadata": {},
   "source": [
    "### Winda"
   ]
  },
  {
   "cell_type": "code",
   "execution_count": 19,
   "metadata": {},
   "outputs": [
    {
     "data": {
      "text/plain": [
       "Winda\n",
       "Tak    58\n",
       "Nie    35\n",
       "Name: count, dtype: int64"
      ]
     },
     "execution_count": 19,
     "metadata": {},
     "output_type": "execute_result"
    }
   ],
   "source": [
    "df1[\"Winda\"] = df[\"Winda\"].fillna(\"Nie\").astype('category')\n",
    "df1[\"Winda\"].value_counts()"
   ]
  },
  {
   "cell_type": "markdown",
   "metadata": {},
   "source": [
    "### Domofon"
   ]
  },
  {
   "cell_type": "code",
   "execution_count": 20,
   "metadata": {},
   "outputs": [
    {
     "data": {
      "text/plain": [
       "Domofon\n",
       "Tak    80\n",
       "Nie    13\n",
       "Name: count, dtype: int64"
      ]
     },
     "execution_count": 20,
     "metadata": {},
     "output_type": "execute_result"
    }
   ],
   "source": [
    "df1[\"Domofon\"] = df[\"Domofon\"].fillna(\"Nie\").astype('category')\n",
    "df1[\"Domofon\"].value_counts()"
   ]
  },
  {
   "cell_type": "markdown",
   "metadata": {},
   "source": [
    "### Wysokość pomieszczeń (cm)"
   ]
  },
  {
   "cell_type": "code",
   "execution_count": 21,
   "metadata": {},
   "outputs": [
    {
     "data": {
      "text/plain": [
       "Wysokość pomieszczeń (cm)\n",
       "260.0    54\n",
       "250.0    17\n",
       "255.0     6\n",
       "270.0     6\n",
       "265.0     5\n",
       "330.0     2\n",
       "316.0     1\n",
       "257.0     1\n",
       "340.0     1\n",
       "Name: count, dtype: int64"
      ]
     },
     "execution_count": 21,
     "metadata": {},
     "output_type": "execute_result"
    }
   ],
   "source": [
    "df1[\"Wysokość pomieszczeń (cm)\"] = df[\"Wysokość pomieszczeń (cm)\"].astype(float).apply(lambda x: x if x > 200 else x * 100)\n",
    "df1[\"Wysokość pomieszczeń (cm)\"] = df1[\"Wysokość pomieszczeń (cm)\"].fillna(260)\n",
    "df1[\"Wysokość pomieszczeń (cm)\"].value_counts()"
   ]
  },
  {
   "cell_type": "markdown",
   "metadata": {},
   "source": [
    "### Podłogi w pomieszczeniach"
   ]
  },
  {
   "cell_type": "code",
   "execution_count": 22,
   "metadata": {},
   "outputs": [
    {
     "name": "stderr",
     "output_type": "stream",
     "text": [
      "/var/folders/_s/r6q44yzn7gd7hjnfjjlpb4hm0000gn/T/ipykernel_6556/997208011.py:4: FutureWarning: Downcasting object dtype arrays on .fillna, .ffill, .bfill is deprecated and will change in a future version. Call result.infer_objects(copy=False) instead. To opt-in to the future behavior, set `pd.set_option('future.no_silent_downcasting', True)`\n",
      "  df1[\"Podłoga_Panele\"] = df1[\"Podłoga_Panele\"].fillna(False)\n",
      "/var/folders/_s/r6q44yzn7gd7hjnfjjlpb4hm0000gn/T/ipykernel_6556/997208011.py:7: FutureWarning: Downcasting object dtype arrays on .fillna, .ffill, .bfill is deprecated and will change in a future version. Call result.infer_objects(copy=False) instead. To opt-in to the future behavior, set `pd.set_option('future.no_silent_downcasting', True)`\n",
      "  df1[\"Podłoga_Terakota\"] = df1[\"Podłoga_Terakota\"].fillna(False)\n",
      "/var/folders/_s/r6q44yzn7gd7hjnfjjlpb4hm0000gn/T/ipykernel_6556/997208011.py:10: FutureWarning: Downcasting object dtype arrays on .fillna, .ffill, .bfill is deprecated and will change in a future version. Call result.infer_objects(copy=False) instead. To opt-in to the future behavior, set `pd.set_option('future.no_silent_downcasting', True)`\n",
      "  df1[\"Podłoga_Wykładzina\"] = df1[\"Podłoga_Wykładzina\"].fillna(False)\n",
      "/var/folders/_s/r6q44yzn7gd7hjnfjjlpb4hm0000gn/T/ipykernel_6556/997208011.py:13: FutureWarning: Downcasting object dtype arrays on .fillna, .ffill, .bfill is deprecated and will change in a future version. Call result.infer_objects(copy=False) instead. To opt-in to the future behavior, set `pd.set_option('future.no_silent_downcasting', True)`\n",
      "  df1[\"Podłoga_Płytki\"] = df1[\"Podłoga_Płytki\"].fillna(False)\n",
      "/var/folders/_s/r6q44yzn7gd7hjnfjjlpb4hm0000gn/T/ipykernel_6556/997208011.py:16: FutureWarning: Downcasting object dtype arrays on .fillna, .ffill, .bfill is deprecated and will change in a future version. Call result.infer_objects(copy=False) instead. To opt-in to the future behavior, set `pd.set_option('future.no_silent_downcasting', True)`\n",
      "  df1[\"Podłoga_Deska\"] = df1[\"Podłoga_Deska\"].fillna(False)\n",
      "/var/folders/_s/r6q44yzn7gd7hjnfjjlpb4hm0000gn/T/ipykernel_6556/997208011.py:19: FutureWarning: Downcasting object dtype arrays on .fillna, .ffill, .bfill is deprecated and will change in a future version. Call result.infer_objects(copy=False) instead. To opt-in to the future behavior, set `pd.set_option('future.no_silent_downcasting', True)`\n",
      "  df1[\"Podłoga_Wylewka\"] = df1[\"Podłoga_Wylewka\"].fillna(False)\n",
      "/var/folders/_s/r6q44yzn7gd7hjnfjjlpb4hm0000gn/T/ipykernel_6556/997208011.py:22: FutureWarning: Downcasting object dtype arrays on .fillna, .ffill, .bfill is deprecated and will change in a future version. Call result.infer_objects(copy=False) instead. To opt-in to the future behavior, set `pd.set_option('future.no_silent_downcasting', True)`\n",
      "  df1[\"Podłoga_Inna\"] = df1[\"Podłoga_Inna\"].fillna(False)\n"
     ]
    }
   ],
   "source": [
    "df1[\"Podłogi w pomieszczeniach\"] = df[\"Podłogi w pomieszczeniach\"].fillna('inne')\n",
    "\n",
    "df1.loc[df1[\"Podłogi w pomieszczeniach\"].str.contains(\"Panele\"), \"Podłoga_Panele\"] = True\n",
    "df1[\"Podłoga_Panele\"] = df1[\"Podłoga_Panele\"].fillna(False)\n",
    "\n",
    "df1.loc[df1[\"Podłogi w pomieszczeniach\"].str.contains(\"Terakota\"), \"Podłoga_Terakota\"] = True\n",
    "df1[\"Podłoga_Terakota\"] = df1[\"Podłoga_Terakota\"].fillna(False)\n",
    "\n",
    "df1.loc[df1[\"Podłogi w pomieszczeniach\"].str.contains(\"Wykładzina\"), \"Podłoga_Wykładzina\"] = True\n",
    "df1[\"Podłoga_Wykładzina\"] = df1[\"Podłoga_Wykładzina\"].fillna(False)\n",
    "\n",
    "df1.loc[df1[\"Podłogi w pomieszczeniach\"].str.contains(\"Płytki\"), \"Podłoga_Płytki\"] = True\n",
    "df1[\"Podłoga_Płytki\"] = df1[\"Podłoga_Płytki\"].fillna(False)\n",
    "\n",
    "df1.loc[df1[\"Podłogi w pomieszczeniach\"].str.contains(\"Deska podłogowa\"), \"Podłoga_Deska\"] = True\n",
    "df1[\"Podłoga_Deska\"] = df1[\"Podłoga_Deska\"].fillna(False)\n",
    "\n",
    "df1.loc[df1[\"Podłogi w pomieszczeniach\"].str.contains(\"Wylewka betonowa\"), \"Podłoga_Wylewka\"] = True\n",
    "df1[\"Podłoga_Wylewka\"] = df1[\"Podłoga_Wylewka\"].fillna(False)\n",
    "\n",
    "df1.loc[(df1[\"Podłoga_Panele\"] == False) & (df1[\"Podłoga_Terakota\"] == False) & (df1[\"Podłoga_Wykładzina\"] == False) & (df1[\"Podłoga_Płytki\"] == False) & (df1[\"Podłoga_Deska\"] == False) & (df1[\"Podłoga_Wylewka\"] == False), \"Podłoga_Inna\"] = True\n",
    "df1[\"Podłoga_Inna\"] = df1[\"Podłoga_Inna\"].fillna(False)\n",
    "\n",
    "df1 = df1.drop([\"Podłogi w pomieszczeniach\"], axis=1)"
   ]
  },
  {
   "cell_type": "markdown",
   "metadata": {},
   "source": [
    "### Typ kuchni"
   ]
  },
  {
   "cell_type": "code",
   "execution_count": 23,
   "metadata": {},
   "outputs": [
    {
     "data": {
      "text/plain": [
       "Typ kuchni\n",
       "Aneks        53\n",
       "Widna        16\n",
       "Oddzielna    10\n",
       "Otwarta       8\n",
       "Brak          5\n",
       "Ciemna        1\n",
       "Name: count, dtype: int64"
      ]
     },
     "execution_count": 23,
     "metadata": {},
     "output_type": "execute_result"
    }
   ],
   "source": [
    "df1[\"Typ kuchni\"] = df[\"Typ kuchni\"].fillna(\"Brak\").astype('category')\n",
    "df1[\"Typ kuchni\"].value_counts()"
   ]
  },
  {
   "cell_type": "markdown",
   "metadata": {},
   "source": [
    "### Liczba łazienek"
   ]
  },
  {
   "cell_type": "code",
   "execution_count": 24,
   "metadata": {},
   "outputs": [
    {
     "data": {
      "text/plain": [
       "Liczba łazienek\n",
       "1    83\n",
       "0     5\n",
       "2     5\n",
       "Name: count, dtype: int64"
      ]
     },
     "execution_count": 24,
     "metadata": {},
     "output_type": "execute_result"
    }
   ],
   "source": [
    "df1[\"Liczba łazienek\"] = df[\"Liczba łazienek\"].fillna(0)\n",
    "df1[\"Liczba łazienek\"].value_counts()"
   ]
  },
  {
   "cell_type": "markdown",
   "metadata": {},
   "source": [
    "### Miejsce parkingowe"
   ]
  },
  {
   "cell_type": "code",
   "execution_count": 25,
   "metadata": {},
   "outputs": [
    {
     "data": {
      "text/plain": [
       "Informacje o Garażu/Miejscach parkingowych\n",
       "Na ulicy                                                                                 22\n",
       "Miejsce parkingowe                                                                       14\n",
       "Garaż                                                                                     4\n",
       "Parking strzeżony                                                                         4\n",
       "Parking niestrzeżony                                                                      4\n",
       "Parking podziemny                                                                         3\n",
       "Płatny dodatkowo                                                                          2\n",
       "Na ulicy, Parking strzeżony                                                               2\n",
       "Parking strzeżony, Na ulicy                                                               2\n",
       "Parking podziemny, Płatny dodatkowo                                                       1\n",
       "Parking podziemny, Garaż, Parking strzeżony                                               1\n",
       "W budynku                                                                                 1\n",
       "Płatny dodatkowo, Na ulicy                                                                1\n",
       "Na ulicy, Parking strzeżony, Płatny dodatkowo                                             1\n",
       "Możliwość wynajęcia                                                                       1\n",
       "Miejsce parkingowe, Płatny dodatkowo                                                      1\n",
       "Na ulicy, Parking podziemny, Płatny dodatkowo, Parking strzeżony, Możliwość wynajęcia     1\n",
       "Garaż, Jednostanowiskowy                                                                  1\n",
       "Miejsce parkingowe, Na ulicy                                                              1\n",
       "Miejsce parkingowe, Płatny dodatkowo, W budynku                                           1\n",
       "Garaż, Jednostanowiskowy, Parking podziemny, Obowiązkowy, W budynku                       1\n",
       "Parking podziemny, Miejsce parkingowe                                                     1\n",
       "Płatny dodatkowo, Parking podziemny                                                       1\n",
       "Parking niestrzeżony, Miejsce parkingowe                                                  1\n",
       "Garaż, Płatny dodatkowo                                                                   1\n",
       "Miejsce parkingowe, Garaż                                                                 1\n",
       "Garaż, Parking strzeżony, Płatny dodatkowo, Parking podziemny                             1\n",
       "Jednostanowiskowy                                                                         1\n",
       "Na ulicy, Płatny dodatkowo                                                                1\n",
       "Name: count, dtype: int64"
      ]
     },
     "execution_count": 25,
     "metadata": {},
     "output_type": "execute_result"
    }
   ],
   "source": [
    "df[\"Informacje o Garażu/Miejscach parkingowych\"].value_counts()"
   ]
  },
  {
   "cell_type": "code",
   "execution_count": 26,
   "metadata": {},
   "outputs": [
    {
     "name": "stderr",
     "output_type": "stream",
     "text": [
      "/var/folders/_s/r6q44yzn7gd7hjnfjjlpb4hm0000gn/T/ipykernel_6556/3245654452.py:11: FutureWarning: Downcasting object dtype arrays on .fillna, .ffill, .bfill is deprecated and will change in a future version. Call result.infer_objects(copy=False) instead. To opt-in to the future behavior, set `pd.set_option('future.no_silent_downcasting', True)`\n",
      "  df1[[\"Parking_Na_Ulicy\", \"Parking_Miejsce\", \"Parking_Garaż\", \"Parking_Inny\"]] = df1[[\"Parking_Na_Ulicy\", \"Parking_Miejsce\", \"Parking_Garaż\", \"Parking_Inny\"]].fillna(False)\n"
     ]
    },
    {
     "data": {
      "text/plain": [
       "Parking_Na_Ulicy  Parking_Miejsce  Parking_Garaż  Parking_Inny\n",
       "True              False            False          False           29\n",
       "False             False            False          True            28\n",
       "                  True             False          False           17\n",
       "                  False            True           False           15\n",
       "                  True             True           False            2\n",
       "True              False            True           False            1\n",
       "                  True             False          False            1\n",
       "Name: count, dtype: int64"
      ]
     },
     "execution_count": 26,
     "metadata": {},
     "output_type": "execute_result"
    }
   ],
   "source": [
    "df1[\"Parking_Na_Ulicy\"] = df[\"Informacje o Garażu/Miejscach parkingowych\"].str.contains(\"Na ulicy\")\n",
    "\n",
    "df1[\"Parking_Miejsce\"] = df[\"Informacje o Garażu/Miejscach parkingowych\"].str.contains(\"Miejsce parkingowe\")\n",
    "\n",
    "df1[\"Parking_Garaż\"] = df[\"Informacje o Garażu/Miejscach parkingowych\"].str.contains(\"Garaż\")\n",
    "df1[\"Parking_Garaż\"] |= df[\"Informacje o Garażu/Miejscach parkingowych\"].str.contains(\"Jednostanowiskowy\")\n",
    "df1[\"Parking_Garaż\"] |= df[\"Informacje o Garażu/Miejscach parkingowych\"].str.contains(\"podziemny\")\n",
    "\n",
    "df1[\"Parking_Inny\"] = ~(df1[\"Parking_Na_Ulicy\"] | df1[\"Parking_Miejsce\"] | df1[\"Parking_Garaż\"])\n",
    "\n",
    "df1[[\"Parking_Na_Ulicy\", \"Parking_Miejsce\", \"Parking_Garaż\", \"Parking_Inny\"]] = df1[[\"Parking_Na_Ulicy\", \"Parking_Miejsce\", \"Parking_Garaż\", \"Parking_Inny\"]].fillna(False)\n",
    "df1[[\"Parking_Na_Ulicy\", \"Parking_Miejsce\", \"Parking_Garaż\", \"Parking_Inny\"]].value_counts()"
   ]
  },
  {
   "cell_type": "markdown",
   "metadata": {},
   "source": [
    "### Komunikacja"
   ]
  },
  {
   "cell_type": "code",
   "execution_count": 27,
   "metadata": {},
   "outputs": [
    {
     "name": "stderr",
     "output_type": "stream",
     "text": [
      "/var/folders/_s/r6q44yzn7gd7hjnfjjlpb4hm0000gn/T/ipykernel_6556/3926830141.py:1: FutureWarning: Downcasting object dtype arrays on .fillna, .ffill, .bfill is deprecated and will change in a future version. Call result.infer_objects(copy=False) instead. To opt-in to the future behavior, set `pd.set_option('future.no_silent_downcasting', True)`\n",
      "  df1[\"Komunikacja_Autobus\"] = df[\"Komunikacja\"].str.contains(\"Autobus\").fillna(False)\n",
      "/var/folders/_s/r6q44yzn7gd7hjnfjjlpb4hm0000gn/T/ipykernel_6556/3926830141.py:2: FutureWarning: Downcasting object dtype arrays on .fillna, .ffill, .bfill is deprecated and will change in a future version. Call result.infer_objects(copy=False) instead. To opt-in to the future behavior, set `pd.set_option('future.no_silent_downcasting', True)`\n",
      "  df1[\"Komunikacja_Kolej\"] = df[\"Komunikacja\"].str.contains(\"Kolej\").fillna(False)\n",
      "/var/folders/_s/r6q44yzn7gd7hjnfjjlpb4hm0000gn/T/ipykernel_6556/3926830141.py:4: FutureWarning: Downcasting object dtype arrays on .fillna, .ffill, .bfill is deprecated and will change in a future version. Call result.infer_objects(copy=False) instead. To opt-in to the future behavior, set `pd.set_option('future.no_silent_downcasting', True)`\n",
      "  df1[\"Komunikacja_PKS\"] = df[\"Komunikacja\"].str.contains(\"PKS\").fillna(False)\n",
      "/var/folders/_s/r6q44yzn7gd7hjnfjjlpb4hm0000gn/T/ipykernel_6556/3926830141.py:5: FutureWarning: Downcasting object dtype arrays on .fillna, .ffill, .bfill is deprecated and will change in a future version. Call result.infer_objects(copy=False) instead. To opt-in to the future behavior, set `pd.set_option('future.no_silent_downcasting', True)`\n",
      "  df1[\"Komunikacja_PKS\"] |= df[\"Komunikacja\"].str.contains(\"Bus\").fillna(False)\n"
     ]
    },
    {
     "data": {
      "text/plain": [
       "Komunikacja_Autobus  Komunikacja_Kolej  Komunikacja_PKS\n",
       "True                 False              False              63\n",
       "False                False              False              12\n",
       "True                 True               False               9\n",
       "                                        True                4\n",
       "False                True               False               2\n",
       "                     False              True                1\n",
       "                     True               True                1\n",
       "True                 False              True                1\n",
       "Name: count, dtype: int64"
      ]
     },
     "execution_count": 27,
     "metadata": {},
     "output_type": "execute_result"
    }
   ],
   "source": [
    "df1[\"Komunikacja_Autobus\"] = df[\"Komunikacja\"].str.contains(\"Autobus\").fillna(False)\n",
    "df1[\"Komunikacja_Kolej\"] = df[\"Komunikacja\"].str.contains(\"Kolej\").fillna(False)\n",
    "\n",
    "df1[\"Komunikacja_PKS\"] = df[\"Komunikacja\"].str.contains(\"PKS\").fillna(False)\n",
    "df1[\"Komunikacja_PKS\"] |= df[\"Komunikacja\"].str.contains(\"Bus\").fillna(False)\n",
    "\n",
    "df1[[\"Komunikacja_Autobus\",\"Komunikacja_Kolej\",\"Komunikacja_PKS\"]].value_counts()"
   ]
  },
  {
   "cell_type": "markdown",
   "metadata": {},
   "source": [
    "### W pobliżu"
   ]
  },
  {
   "cell_type": "code",
   "execution_count": 28,
   "metadata": {},
   "outputs": [
    {
     "data": {
      "text/plain": [
       "['Basen, Fitness, Park, Restauracja, Plac zabaw, Morze, Zabudowa niska, Kościół, Sklep, Apteka',\n",
       " 'Rzeka, Morze, Przystań, Hala sportowa, Restauracja, Szkoła, Szpital, Park, Fitness, Bank, Basen, Apteka, Sklep, Przychodnia lekarska',\n",
       " 'Morze, Szkoła, Szpital, Apteka, Kościół, Park, Hala sportowa, Przychodnia lekarska, Centrum handlowe, Fitness, Rzeka, Sklep, Przystań, Basen, Bank, Restauracja, Bar',\n",
       " 'Park, Zabudowa niska, Kościół, Żłobek, Plac zabaw, Przedszkole, Sklep, Apteka, Szkoła',\n",
       " 'Bazarek, Apteka, Sklep, Żłobek, Morze, Park, Zabudowa niska, Plac zabaw, Szkoła, Przedszkole, Centrum handlowe',\n",
       " 'Sklep, Apteka, Zabudowa niska, Morze',\n",
       " 'Plac zabaw, Morze, Park, Kort tenisowy, Restauracja, Basen',\n",
       " 'Centrum handlowe, Plac zabaw, Kościół, Zabudowa niska, Sklep, Szkoła, Przedszkole, Morze, Park',\n",
       " 'Rzeka, Morze, Szkoła, Park, Basen, Restauracja, Fitness, Sklep, Przystań, Zabudowa niska, Plac zabaw, Kościół',\n",
       " 'Park, Las, Morze, Plac zabaw, Przychodnia lekarska, Szkoła, Przedszkole',\n",
       " 'Kościół, Morze, Sklep, Restauracja, Basen, Fitness, Park, Plac zabaw, Las, Bar',\n",
       " 'Sklep, Zabudowa niska, Rzeka',\n",
       " 'Fitness, Morze, Plac zabaw, Restauracja, Basen',\n",
       " 'Las, Basen, Restauracja, Morze, Plac zabaw, Zabudowa niska',\n",
       " 'Przedszkole, Morze, Zabudowa niska, Plac zabaw, Fitness, Gimnazjum, Sklep, Komenda policji, Basen, Bank, Szkoła, Bar, Kościół, Apteka, Przychodnia lekarska, Szpital, Park, Hala sportowa, Rzeka, Restauracja',\n",
       " 'Plac zabaw, Apteka, Sklep, Szkoła, Przedszkole, Zabudowa niska, Przychodnia lekarska, Park',\n",
       " 'Sklep, Zabudowa niska, Plac zabaw, Morze, Fitness, Park, Restauracja, Kort tenisowy, Basen',\n",
       " 'Sklep, Bank, Jezioro, Centrum handlowe, Rzeka, Restauracja, Plac zabaw, Apteka, Fitness',\n",
       " 'Sklep, Przychodnia lekarska, Morze, Plac zabaw, Szkoła, Centrum handlowe, Restauracja, Przedszkole',\n",
       " 'Zabudowa niska, Morze, Plac zabaw, Las, Park',\n",
       " 'Restauracja, Park, Fitness, Basen, Plac zabaw, Morze',\n",
       " 'Plac zabaw, Kościół, Restauracja, Morze, Zabudowa niska, Basen, Las, Sklep, Bar, Szkoła, Przedszkole, Park',\n",
       " 'Morze, Park, Plac zabaw, Apteka, Fitness, Basen, Szkoła, Las, Zabudowa niska, Sklep, Przychodnia lekarska, Kościół',\n",
       " 'Hala sportowa, Kościół, Przystań, Zabudowa niska, Sklep, Bank, Basen, Restauracja, Szkoła, Szpital, Park, Rzeka, Morze, Fitness',\n",
       " 'Plac zabaw, Morze, Szkoła, Szpital, Restauracja, Basen, Zabudowa niska, Przedszkole, Sklep, Hala sportowa, Rzeka',\n",
       " 'Zabudowa niska, Morze, Sklep, Park, Plac zabaw, Restauracja, Fitness, Basen',\n",
       " 'Komenda policji, Bar, Restauracja, Sklep, Basen, Park, Przychodnia lekarska, Apteka, Rzeka, Kościół, Morze, Hala sportowa, Plac zabaw, Centrum handlowe, Bank, Fitness',\n",
       " 'Kościół, Zabudowa niska, Fitness, Basen, Restauracja, Park, Morze',\n",
       " 'Fitness, Plac zabaw, Bar, Przedszkole, Kościół, Sklep, Morze, Park, Zabudowa niska, Bank, Szkoła, Restauracja, Przychodnia lekarska, Apteka',\n",
       " 'Park, Plac zabaw, Sklep, Morze, Fitness, Basen, Zabudowa niska',\n",
       " 'Sklep, Hala sportowa, Restauracja, Basen, Bar, Kort tenisowy, Park, Plac zabaw, Morze',\n",
       " nan,\n",
       " nan,\n",
       " 'Restauracja, Plac zabaw, Jezioro, Bank, Centrum handlowe, Sklep, Fitness, Apteka, Rzeka',\n",
       " 'Morze, Restauracja, Las, Park',\n",
       " 'Centrum handlowe, Restauracja, Plac zabaw, Morze, Park, Szkoła, Sklep, Zabudowa niska',\n",
       " 'Basen, Plac zabaw, Fitness, Zabudowa niska, Morze',\n",
       " 'Plac zabaw, Fitness, Hala sportowa, Morze, Przystań, Szkoła, Rzeka, Zabudowa niska, Sklep, Basen, Kościół, Bocznica kolejowa, Park',\n",
       " 'Park, Plac zabaw, Morze',\n",
       " 'Sklep, Kościół, Rzeka, Bank, Centrum handlowe, Park',\n",
       " 'Kort tenisowy, Restauracja, Fitness, Basen, Hala sportowa, Sklep, Rzeka, Plac zabaw, Park, Morze',\n",
       " 'Restauracja, Bar, Zabudowa niska, Sklep, Bank, Morze',\n",
       " 'Plac zabaw, Fitness, Basen, Morze, Restauracja',\n",
       " 'Kort tenisowy, Basen, Apteka, Zabudowa niska, Przychodnia lekarska, Sklep, Szkoła, Centrum handlowe, Park, Szpital, Plac zabaw, Morze, Kościół, Hala sportowa',\n",
       " 'Sklep, Zabudowa niska, Przedszkole, Szkoła, Morze, Park, Kościół, Plac zabaw',\n",
       " 'Kościół, Plac zabaw, Szkoła, Przychodnia lekarska, Sklep, Bazarek, Apteka, Zabudowa niska',\n",
       " 'Morze, Plac zabaw, Restauracja, Basen, Fitness',\n",
       " 'Basen, Restauracja, Rzeka, Morze, Park',\n",
       " 'Hala sportowa, Las, Komenda policji, Przychodnia lekarska, Centrum handlowe, Szkoła, Przedszkole, Apteka, Restauracja, Sklep, Park, Szpital, Bar, Basen, Morze, Fitness, Bank, Plac zabaw, Kort tenisowy, Kościół',\n",
       " 'Sklep, Plac zabaw',\n",
       " 'Szkoła, Restauracja, Morze, Przedszkole, Las, Plac zabaw, Park',\n",
       " 'Hala sportowa, Szkoła, Kościół, Basen, Zabudowa niska, Fitness, Sklep',\n",
       " 'Przystań, Restauracja, Zabudowa niska, Sklep, Basen, Apteka, Szkoła, Gimnazjum, Bank, Przedszkole, Park, Bazarek, Bar, Morze, Hala sportowa, Szpital, Kościół, Komenda policji, Kort tenisowy, Fitness, Przychodnia lekarska, Plac zabaw',\n",
       " 'Park, Przedszkole, Sklep, Restauracja, Fitness, Centrum handlowe, Apteka, Przychodnia lekarska, Morze, Szkoła, Plac zabaw, Bank',\n",
       " 'Przedszkole, Szkoła, Fitness, Basen, Zabudowa niska, Plac zabaw, Morze, Park, Restauracja, Sklep, Apteka',\n",
       " 'Morze, Las, Zabudowa niska',\n",
       " 'Sklep, Zabudowa niska, Przychodnia lekarska, Apteka, Morze, Park',\n",
       " 'Przychodnia lekarska, Żłobek, Apteka, Plac zabaw, Morze, Park, Przedszkole, Szkoła',\n",
       " 'Restauracja, Szkoła, Przedszkole, Jezioro, Morze, Plac zabaw, Bar, Przystań',\n",
       " 'Szkoła, Bazarek, Apteka, Zabudowa niska, Plac zabaw, Morze, Rzeka, Park, Przedszkole, Sklep, Żłobek',\n",
       " 'Sklep, Apteka, Przychodnia lekarska, Morze, Przedszkole, Kościół, Plac zabaw, Centrum handlowe',\n",
       " 'Park, Plac zabaw, Morze, Sklep, Zabudowa niska',\n",
       " 'Szkoła, Przedszkole, Żłobek, Sklep, Plac zabaw, Morze, Park',\n",
       " 'Fitness, Apteka, Szpital, Blacharnia, Bar, Basen, Sklep, Zabudowa niska, Kościół, Szkoła, Park, Plac zabaw, Bank, Przychodnia lekarska, Przedszkole, Morze, Restauracja',\n",
       " 'Basen, Morze, Restauracja, Plac zabaw, Sklep, Bar',\n",
       " 'Apteka, Basen, Szkoła, Restauracja, Morze, Park, Kościół, Plac zabaw, Sklep, Zabudowa niska',\n",
       " 'Sklep, Kościół, Park',\n",
       " 'Park, Morze, Restauracja, Las',\n",
       " 'Fitness, Kort tenisowy, Basen, Las, Restauracja, Morze, Park, Sklep, Plac zabaw',\n",
       " 'Rzeka, Basen, Restauracja, Park, Morze',\n",
       " 'Bar, Plac zabaw, Sklep',\n",
       " 'Fitness, Bank, Basen, Restauracja, Szkoła, Szpital, Park, Morze, Hala sportowa, Kościół, Przystań, Zabudowa niska, Apteka, Sklep, Przychodnia lekarska',\n",
       " 'Fitness, Morze, Plac zabaw, Restauracja, Zabudowa niska, Basen',\n",
       " 'Basen, Park, Kort tenisowy, Restauracja, Morze, Fitness',\n",
       " 'Przychodnia lekarska, Sklep, Apteka, Bar, Kościół, Plac zabaw, Park, Przedszkole, Szkoła, Centrum handlowe, Restauracja, Bank',\n",
       " 'Sklep, Zabudowa niska, Plac zabaw, Morze, Park, Las',\n",
       " 'Przychodnia lekarska, Plac zabaw, Las, Morze, Kort tenisowy, Fitness, Sklep',\n",
       " 'Morze, Plac zabaw, Basen, Restauracja, Park',\n",
       " 'Apteka, Przystań, Sklep, Restauracja, Jezioro, Szkoła, Plac zabaw, Morze, Bar, Kościół',\n",
       " 'Centrum handlowe, Przedszkole, Szkoła, Rzeka, Park, Plac zabaw, Morze, Apteka, Zabudowa niska, Żłobek, Bazarek, Sklep',\n",
       " 'Jezioro, Morze, Restauracja, Las, Basen, Fitness',\n",
       " 'Fitness, Park, Restauracja, Kort tenisowy, Basen, Plac zabaw, Morze',\n",
       " 'Park, Rzeka, Morze',\n",
       " 'Plac zabaw, Sklep, Fitness, Las, Morze, Szkoła, Zabudowa niska, Kościół, Basen, Park',\n",
       " 'Apteka, Przedszkole, Basen, Plac zabaw, Przychodnia lekarska, Sklep, Bar, Morze, Park, Kościół, Bank, Fitness, Szkoła, Restauracja, Kort tenisowy, Zabudowa niska',\n",
       " 'Zabudowa niska, Morze, Park, Kościół, Kort tenisowy',\n",
       " 'Centrum handlowe, Zabudowa niska, Sklep',\n",
       " 'Rzeka, Zabudowa niska, Sklep',\n",
       " 'Plac zabaw, Apteka, Park, Morze, Sklep, Przychodnia lekarska, Szkoła, Centrum handlowe, Restauracja, Przedszkole, Fitness, Bank',\n",
       " 'Kort tenisowy, Morze, Kościół, Zabudowa niska, Park',\n",
       " 'Restauracja, Basen, Morze, Sklep, Fitness',\n",
       " 'Rzeka, Sklep, Bank, Apteka',\n",
       " 'Morze, Park, Przychodnia lekarska, Przedszkole, Centrum handlowe, Kościół']"
      ]
     },
     "execution_count": 28,
     "metadata": {},
     "output_type": "execute_result"
    }
   ],
   "source": [
    "df[\"W pobliżu\"].to_list()"
   ]
  },
  {
   "cell_type": "code",
   "execution_count": 29,
   "metadata": {},
   "outputs": [
    {
     "name": "stderr",
     "output_type": "stream",
     "text": [
      "/var/folders/_s/r6q44yzn7gd7hjnfjjlpb4hm0000gn/T/ipykernel_6556/153758542.py:8: FutureWarning: Downcasting object dtype arrays on .fillna, .ffill, .bfill is deprecated and will change in a future version. Call result.infer_objects(copy=False) instead. To opt-in to the future behavior, set `pd.set_option('future.no_silent_downcasting', True)`\n",
      "  df1[f\"W_pobliżu_{item}\"] = df[\"W pobliżu\"].str.contains(item).fillna(False)\n",
      "/var/folders/_s/r6q44yzn7gd7hjnfjjlpb4hm0000gn/T/ipykernel_6556/153758542.py:8: FutureWarning: Downcasting object dtype arrays on .fillna, .ffill, .bfill is deprecated and will change in a future version. Call result.infer_objects(copy=False) instead. To opt-in to the future behavior, set `pd.set_option('future.no_silent_downcasting', True)`\n",
      "  df1[f\"W_pobliżu_{item}\"] = df[\"W pobliżu\"].str.contains(item).fillna(False)\n",
      "/var/folders/_s/r6q44yzn7gd7hjnfjjlpb4hm0000gn/T/ipykernel_6556/153758542.py:8: FutureWarning: Downcasting object dtype arrays on .fillna, .ffill, .bfill is deprecated and will change in a future version. Call result.infer_objects(copy=False) instead. To opt-in to the future behavior, set `pd.set_option('future.no_silent_downcasting', True)`\n",
      "  df1[f\"W_pobliżu_{item}\"] = df[\"W pobliżu\"].str.contains(item).fillna(False)\n",
      "/var/folders/_s/r6q44yzn7gd7hjnfjjlpb4hm0000gn/T/ipykernel_6556/153758542.py:8: FutureWarning: Downcasting object dtype arrays on .fillna, .ffill, .bfill is deprecated and will change in a future version. Call result.infer_objects(copy=False) instead. To opt-in to the future behavior, set `pd.set_option('future.no_silent_downcasting', True)`\n",
      "  df1[f\"W_pobliżu_{item}\"] = df[\"W pobliżu\"].str.contains(item).fillna(False)\n",
      "/var/folders/_s/r6q44yzn7gd7hjnfjjlpb4hm0000gn/T/ipykernel_6556/153758542.py:8: FutureWarning: Downcasting object dtype arrays on .fillna, .ffill, .bfill is deprecated and will change in a future version. Call result.infer_objects(copy=False) instead. To opt-in to the future behavior, set `pd.set_option('future.no_silent_downcasting', True)`\n",
      "  df1[f\"W_pobliżu_{item}\"] = df[\"W pobliżu\"].str.contains(item).fillna(False)\n",
      "/var/folders/_s/r6q44yzn7gd7hjnfjjlpb4hm0000gn/T/ipykernel_6556/153758542.py:8: FutureWarning: Downcasting object dtype arrays on .fillna, .ffill, .bfill is deprecated and will change in a future version. Call result.infer_objects(copy=False) instead. To opt-in to the future behavior, set `pd.set_option('future.no_silent_downcasting', True)`\n",
      "  df1[f\"W_pobliżu_{item}\"] = df[\"W pobliżu\"].str.contains(item).fillna(False)\n",
      "/var/folders/_s/r6q44yzn7gd7hjnfjjlpb4hm0000gn/T/ipykernel_6556/153758542.py:8: FutureWarning: Downcasting object dtype arrays on .fillna, .ffill, .bfill is deprecated and will change in a future version. Call result.infer_objects(copy=False) instead. To opt-in to the future behavior, set `pd.set_option('future.no_silent_downcasting', True)`\n",
      "  df1[f\"W_pobliżu_{item}\"] = df[\"W pobliżu\"].str.contains(item).fillna(False)\n",
      "/var/folders/_s/r6q44yzn7gd7hjnfjjlpb4hm0000gn/T/ipykernel_6556/153758542.py:8: FutureWarning: Downcasting object dtype arrays on .fillna, .ffill, .bfill is deprecated and will change in a future version. Call result.infer_objects(copy=False) instead. To opt-in to the future behavior, set `pd.set_option('future.no_silent_downcasting', True)`\n",
      "  df1[f\"W_pobliżu_{item}\"] = df[\"W pobliżu\"].str.contains(item).fillna(False)\n",
      "/var/folders/_s/r6q44yzn7gd7hjnfjjlpb4hm0000gn/T/ipykernel_6556/153758542.py:8: FutureWarning: Downcasting object dtype arrays on .fillna, .ffill, .bfill is deprecated and will change in a future version. Call result.infer_objects(copy=False) instead. To opt-in to the future behavior, set `pd.set_option('future.no_silent_downcasting', True)`\n",
      "  df1[f\"W_pobliżu_{item}\"] = df[\"W pobliżu\"].str.contains(item).fillna(False)\n",
      "/var/folders/_s/r6q44yzn7gd7hjnfjjlpb4hm0000gn/T/ipykernel_6556/153758542.py:8: FutureWarning: Downcasting object dtype arrays on .fillna, .ffill, .bfill is deprecated and will change in a future version. Call result.infer_objects(copy=False) instead. To opt-in to the future behavior, set `pd.set_option('future.no_silent_downcasting', True)`\n",
      "  df1[f\"W_pobliżu_{item}\"] = df[\"W pobliżu\"].str.contains(item).fillna(False)\n",
      "/var/folders/_s/r6q44yzn7gd7hjnfjjlpb4hm0000gn/T/ipykernel_6556/153758542.py:8: FutureWarning: Downcasting object dtype arrays on .fillna, .ffill, .bfill is deprecated and will change in a future version. Call result.infer_objects(copy=False) instead. To opt-in to the future behavior, set `pd.set_option('future.no_silent_downcasting', True)`\n",
      "  df1[f\"W_pobliżu_{item}\"] = df[\"W pobliżu\"].str.contains(item).fillna(False)\n",
      "/var/folders/_s/r6q44yzn7gd7hjnfjjlpb4hm0000gn/T/ipykernel_6556/153758542.py:8: FutureWarning: Downcasting object dtype arrays on .fillna, .ffill, .bfill is deprecated and will change in a future version. Call result.infer_objects(copy=False) instead. To opt-in to the future behavior, set `pd.set_option('future.no_silent_downcasting', True)`\n",
      "  df1[f\"W_pobliżu_{item}\"] = df[\"W pobliżu\"].str.contains(item).fillna(False)\n",
      "/var/folders/_s/r6q44yzn7gd7hjnfjjlpb4hm0000gn/T/ipykernel_6556/153758542.py:8: FutureWarning: Downcasting object dtype arrays on .fillna, .ffill, .bfill is deprecated and will change in a future version. Call result.infer_objects(copy=False) instead. To opt-in to the future behavior, set `pd.set_option('future.no_silent_downcasting', True)`\n",
      "  df1[f\"W_pobliżu_{item}\"] = df[\"W pobliżu\"].str.contains(item).fillna(False)\n",
      "/var/folders/_s/r6q44yzn7gd7hjnfjjlpb4hm0000gn/T/ipykernel_6556/153758542.py:8: FutureWarning: Downcasting object dtype arrays on .fillna, .ffill, .bfill is deprecated and will change in a future version. Call result.infer_objects(copy=False) instead. To opt-in to the future behavior, set `pd.set_option('future.no_silent_downcasting', True)`\n",
      "  df1[f\"W_pobliżu_{item}\"] = df[\"W pobliżu\"].str.contains(item).fillna(False)\n",
      "/var/folders/_s/r6q44yzn7gd7hjnfjjlpb4hm0000gn/T/ipykernel_6556/153758542.py:8: FutureWarning: Downcasting object dtype arrays on .fillna, .ffill, .bfill is deprecated and will change in a future version. Call result.infer_objects(copy=False) instead. To opt-in to the future behavior, set `pd.set_option('future.no_silent_downcasting', True)`\n",
      "  df1[f\"W_pobliżu_{item}\"] = df[\"W pobliżu\"].str.contains(item).fillna(False)\n",
      "/var/folders/_s/r6q44yzn7gd7hjnfjjlpb4hm0000gn/T/ipykernel_6556/153758542.py:8: FutureWarning: Downcasting object dtype arrays on .fillna, .ffill, .bfill is deprecated and will change in a future version. Call result.infer_objects(copy=False) instead. To opt-in to the future behavior, set `pd.set_option('future.no_silent_downcasting', True)`\n",
      "  df1[f\"W_pobliżu_{item}\"] = df[\"W pobliżu\"].str.contains(item).fillna(False)\n",
      "/var/folders/_s/r6q44yzn7gd7hjnfjjlpb4hm0000gn/T/ipykernel_6556/153758542.py:8: FutureWarning: Downcasting object dtype arrays on .fillna, .ffill, .bfill is deprecated and will change in a future version. Call result.infer_objects(copy=False) instead. To opt-in to the future behavior, set `pd.set_option('future.no_silent_downcasting', True)`\n",
      "  df1[f\"W_pobliżu_{item}\"] = df[\"W pobliżu\"].str.contains(item).fillna(False)\n",
      "/var/folders/_s/r6q44yzn7gd7hjnfjjlpb4hm0000gn/T/ipykernel_6556/153758542.py:8: FutureWarning: Downcasting object dtype arrays on .fillna, .ffill, .bfill is deprecated and will change in a future version. Call result.infer_objects(copy=False) instead. To opt-in to the future behavior, set `pd.set_option('future.no_silent_downcasting', True)`\n",
      "  df1[f\"W_pobliżu_{item}\"] = df[\"W pobliżu\"].str.contains(item).fillna(False)\n",
      "/var/folders/_s/r6q44yzn7gd7hjnfjjlpb4hm0000gn/T/ipykernel_6556/153758542.py:8: FutureWarning: Downcasting object dtype arrays on .fillna, .ffill, .bfill is deprecated and will change in a future version. Call result.infer_objects(copy=False) instead. To opt-in to the future behavior, set `pd.set_option('future.no_silent_downcasting', True)`\n",
      "  df1[f\"W_pobliżu_{item}\"] = df[\"W pobliżu\"].str.contains(item).fillna(False)\n",
      "/var/folders/_s/r6q44yzn7gd7hjnfjjlpb4hm0000gn/T/ipykernel_6556/153758542.py:8: FutureWarning: Downcasting object dtype arrays on .fillna, .ffill, .bfill is deprecated and will change in a future version. Call result.infer_objects(copy=False) instead. To opt-in to the future behavior, set `pd.set_option('future.no_silent_downcasting', True)`\n",
      "  df1[f\"W_pobliżu_{item}\"] = df[\"W pobliżu\"].str.contains(item).fillna(False)\n",
      "/var/folders/_s/r6q44yzn7gd7hjnfjjlpb4hm0000gn/T/ipykernel_6556/153758542.py:8: FutureWarning: Downcasting object dtype arrays on .fillna, .ffill, .bfill is deprecated and will change in a future version. Call result.infer_objects(copy=False) instead. To opt-in to the future behavior, set `pd.set_option('future.no_silent_downcasting', True)`\n",
      "  df1[f\"W_pobliżu_{item}\"] = df[\"W pobliżu\"].str.contains(item).fillna(False)\n",
      "/var/folders/_s/r6q44yzn7gd7hjnfjjlpb4hm0000gn/T/ipykernel_6556/153758542.py:8: FutureWarning: Downcasting object dtype arrays on .fillna, .ffill, .bfill is deprecated and will change in a future version. Call result.infer_objects(copy=False) instead. To opt-in to the future behavior, set `pd.set_option('future.no_silent_downcasting', True)`\n",
      "  df1[f\"W_pobliżu_{item}\"] = df[\"W pobliżu\"].str.contains(item).fillna(False)\n",
      "/var/folders/_s/r6q44yzn7gd7hjnfjjlpb4hm0000gn/T/ipykernel_6556/153758542.py:8: FutureWarning: Downcasting object dtype arrays on .fillna, .ffill, .bfill is deprecated and will change in a future version. Call result.infer_objects(copy=False) instead. To opt-in to the future behavior, set `pd.set_option('future.no_silent_downcasting', True)`\n",
      "  df1[f\"W_pobliżu_{item}\"] = df[\"W pobliżu\"].str.contains(item).fillna(False)\n",
      "/var/folders/_s/r6q44yzn7gd7hjnfjjlpb4hm0000gn/T/ipykernel_6556/153758542.py:8: FutureWarning: Downcasting object dtype arrays on .fillna, .ffill, .bfill is deprecated and will change in a future version. Call result.infer_objects(copy=False) instead. To opt-in to the future behavior, set `pd.set_option('future.no_silent_downcasting', True)`\n",
      "  df1[f\"W_pobliżu_{item}\"] = df[\"W pobliżu\"].str.contains(item).fillna(False)\n",
      "/var/folders/_s/r6q44yzn7gd7hjnfjjlpb4hm0000gn/T/ipykernel_6556/153758542.py:8: FutureWarning: Downcasting object dtype arrays on .fillna, .ffill, .bfill is deprecated and will change in a future version. Call result.infer_objects(copy=False) instead. To opt-in to the future behavior, set `pd.set_option('future.no_silent_downcasting', True)`\n",
      "  df1[f\"W_pobliżu_{item}\"] = df[\"W pobliżu\"].str.contains(item).fillna(False)\n",
      "/var/folders/_s/r6q44yzn7gd7hjnfjjlpb4hm0000gn/T/ipykernel_6556/153758542.py:8: FutureWarning: Downcasting object dtype arrays on .fillna, .ffill, .bfill is deprecated and will change in a future version. Call result.infer_objects(copy=False) instead. To opt-in to the future behavior, set `pd.set_option('future.no_silent_downcasting', True)`\n",
      "  df1[f\"W_pobliżu_{item}\"] = df[\"W pobliżu\"].str.contains(item).fillna(False)\n",
      "/var/folders/_s/r6q44yzn7gd7hjnfjjlpb4hm0000gn/T/ipykernel_6556/153758542.py:8: FutureWarning: Downcasting object dtype arrays on .fillna, .ffill, .bfill is deprecated and will change in a future version. Call result.infer_objects(copy=False) instead. To opt-in to the future behavior, set `pd.set_option('future.no_silent_downcasting', True)`\n",
      "  df1[f\"W_pobliżu_{item}\"] = df[\"W pobliżu\"].str.contains(item).fillna(False)\n",
      "/var/folders/_s/r6q44yzn7gd7hjnfjjlpb4hm0000gn/T/ipykernel_6556/153758542.py:8: FutureWarning: Downcasting object dtype arrays on .fillna, .ffill, .bfill is deprecated and will change in a future version. Call result.infer_objects(copy=False) instead. To opt-in to the future behavior, set `pd.set_option('future.no_silent_downcasting', True)`\n",
      "  df1[f\"W_pobliżu_{item}\"] = df[\"W pobliżu\"].str.contains(item).fillna(False)\n",
      "/var/folders/_s/r6q44yzn7gd7hjnfjjlpb4hm0000gn/T/ipykernel_6556/153758542.py:8: FutureWarning: Downcasting object dtype arrays on .fillna, .ffill, .bfill is deprecated and will change in a future version. Call result.infer_objects(copy=False) instead. To opt-in to the future behavior, set `pd.set_option('future.no_silent_downcasting', True)`\n",
      "  df1[f\"W_pobliżu_{item}\"] = df[\"W pobliżu\"].str.contains(item).fillna(False)\n"
     ]
    },
    {
     "data": {
      "text/html": [
       "<div>\n",
       "<style scoped>\n",
       "    .dataframe tbody tr th:only-of-type {\n",
       "        vertical-align: middle;\n",
       "    }\n",
       "\n",
       "    .dataframe tbody tr th {\n",
       "        vertical-align: top;\n",
       "    }\n",
       "\n",
       "    .dataframe thead th {\n",
       "        text-align: right;\n",
       "    }\n",
       "</style>\n",
       "<table border=\"1\" class=\"dataframe\">\n",
       "  <thead>\n",
       "    <tr style=\"text-align: right;\">\n",
       "      <th></th>\n",
       "      <th>W_pobliżu_Szpital</th>\n",
       "      <th>W_pobliżu_Bocznica kolejowa</th>\n",
       "      <th>W_pobliżu_Żłobek</th>\n",
       "      <th>W_pobliżu_Plac zabaw</th>\n",
       "      <th>W_pobliżu_Bank</th>\n",
       "      <th>W_pobliżu_Park</th>\n",
       "      <th>W_pobliżu_Hala sportowa</th>\n",
       "      <th>W_pobliżu_Blacharnia</th>\n",
       "      <th>W_pobliżu_Bazarek</th>\n",
       "      <th>W_pobliżu_Przychodnia lekarska</th>\n",
       "      <th>...</th>\n",
       "      <th>W_pobliżu_Zabudowa niska</th>\n",
       "      <th>W_pobliżu_Przedszkole</th>\n",
       "      <th>W_pobliżu_Rzeka</th>\n",
       "      <th>W_pobliżu_Szkoła</th>\n",
       "      <th>W_pobliżu_Basen</th>\n",
       "      <th>W_pobliżu_Apteka</th>\n",
       "      <th>W_pobliżu_Fitness</th>\n",
       "      <th>W_pobliżu_Komenda policji</th>\n",
       "      <th>W_pobliżu_Kościół</th>\n",
       "      <th>W_pobliżu_Morze</th>\n",
       "    </tr>\n",
       "  </thead>\n",
       "  <tbody>\n",
       "    <tr>\n",
       "      <th>0</th>\n",
       "      <td>False</td>\n",
       "      <td>False</td>\n",
       "      <td>False</td>\n",
       "      <td>True</td>\n",
       "      <td>False</td>\n",
       "      <td>True</td>\n",
       "      <td>False</td>\n",
       "      <td>False</td>\n",
       "      <td>False</td>\n",
       "      <td>False</td>\n",
       "      <td>...</td>\n",
       "      <td>True</td>\n",
       "      <td>False</td>\n",
       "      <td>False</td>\n",
       "      <td>False</td>\n",
       "      <td>True</td>\n",
       "      <td>True</td>\n",
       "      <td>True</td>\n",
       "      <td>False</td>\n",
       "      <td>True</td>\n",
       "      <td>True</td>\n",
       "    </tr>\n",
       "    <tr>\n",
       "      <th>1</th>\n",
       "      <td>True</td>\n",
       "      <td>False</td>\n",
       "      <td>False</td>\n",
       "      <td>False</td>\n",
       "      <td>True</td>\n",
       "      <td>True</td>\n",
       "      <td>True</td>\n",
       "      <td>False</td>\n",
       "      <td>False</td>\n",
       "      <td>True</td>\n",
       "      <td>...</td>\n",
       "      <td>False</td>\n",
       "      <td>False</td>\n",
       "      <td>True</td>\n",
       "      <td>True</td>\n",
       "      <td>True</td>\n",
       "      <td>True</td>\n",
       "      <td>True</td>\n",
       "      <td>False</td>\n",
       "      <td>False</td>\n",
       "      <td>True</td>\n",
       "    </tr>\n",
       "    <tr>\n",
       "      <th>2</th>\n",
       "      <td>True</td>\n",
       "      <td>False</td>\n",
       "      <td>False</td>\n",
       "      <td>False</td>\n",
       "      <td>True</td>\n",
       "      <td>True</td>\n",
       "      <td>True</td>\n",
       "      <td>False</td>\n",
       "      <td>False</td>\n",
       "      <td>True</td>\n",
       "      <td>...</td>\n",
       "      <td>False</td>\n",
       "      <td>False</td>\n",
       "      <td>True</td>\n",
       "      <td>True</td>\n",
       "      <td>True</td>\n",
       "      <td>True</td>\n",
       "      <td>True</td>\n",
       "      <td>False</td>\n",
       "      <td>True</td>\n",
       "      <td>True</td>\n",
       "    </tr>\n",
       "    <tr>\n",
       "      <th>3</th>\n",
       "      <td>False</td>\n",
       "      <td>False</td>\n",
       "      <td>True</td>\n",
       "      <td>True</td>\n",
       "      <td>False</td>\n",
       "      <td>True</td>\n",
       "      <td>False</td>\n",
       "      <td>False</td>\n",
       "      <td>False</td>\n",
       "      <td>False</td>\n",
       "      <td>...</td>\n",
       "      <td>True</td>\n",
       "      <td>True</td>\n",
       "      <td>False</td>\n",
       "      <td>True</td>\n",
       "      <td>False</td>\n",
       "      <td>True</td>\n",
       "      <td>False</td>\n",
       "      <td>False</td>\n",
       "      <td>True</td>\n",
       "      <td>False</td>\n",
       "    </tr>\n",
       "    <tr>\n",
       "      <th>4</th>\n",
       "      <td>False</td>\n",
       "      <td>False</td>\n",
       "      <td>True</td>\n",
       "      <td>True</td>\n",
       "      <td>False</td>\n",
       "      <td>True</td>\n",
       "      <td>False</td>\n",
       "      <td>False</td>\n",
       "      <td>True</td>\n",
       "      <td>False</td>\n",
       "      <td>...</td>\n",
       "      <td>True</td>\n",
       "      <td>True</td>\n",
       "      <td>False</td>\n",
       "      <td>True</td>\n",
       "      <td>False</td>\n",
       "      <td>True</td>\n",
       "      <td>False</td>\n",
       "      <td>False</td>\n",
       "      <td>False</td>\n",
       "      <td>True</td>\n",
       "    </tr>\n",
       "    <tr>\n",
       "      <th>...</th>\n",
       "      <td>...</td>\n",
       "      <td>...</td>\n",
       "      <td>...</td>\n",
       "      <td>...</td>\n",
       "      <td>...</td>\n",
       "      <td>...</td>\n",
       "      <td>...</td>\n",
       "      <td>...</td>\n",
       "      <td>...</td>\n",
       "      <td>...</td>\n",
       "      <td>...</td>\n",
       "      <td>...</td>\n",
       "      <td>...</td>\n",
       "      <td>...</td>\n",
       "      <td>...</td>\n",
       "      <td>...</td>\n",
       "      <td>...</td>\n",
       "      <td>...</td>\n",
       "      <td>...</td>\n",
       "      <td>...</td>\n",
       "      <td>...</td>\n",
       "    </tr>\n",
       "    <tr>\n",
       "      <th>88</th>\n",
       "      <td>False</td>\n",
       "      <td>False</td>\n",
       "      <td>False</td>\n",
       "      <td>True</td>\n",
       "      <td>True</td>\n",
       "      <td>True</td>\n",
       "      <td>False</td>\n",
       "      <td>False</td>\n",
       "      <td>False</td>\n",
       "      <td>True</td>\n",
       "      <td>...</td>\n",
       "      <td>False</td>\n",
       "      <td>True</td>\n",
       "      <td>False</td>\n",
       "      <td>True</td>\n",
       "      <td>False</td>\n",
       "      <td>True</td>\n",
       "      <td>True</td>\n",
       "      <td>False</td>\n",
       "      <td>False</td>\n",
       "      <td>True</td>\n",
       "    </tr>\n",
       "    <tr>\n",
       "      <th>89</th>\n",
       "      <td>False</td>\n",
       "      <td>False</td>\n",
       "      <td>False</td>\n",
       "      <td>False</td>\n",
       "      <td>False</td>\n",
       "      <td>True</td>\n",
       "      <td>False</td>\n",
       "      <td>False</td>\n",
       "      <td>False</td>\n",
       "      <td>False</td>\n",
       "      <td>...</td>\n",
       "      <td>True</td>\n",
       "      <td>False</td>\n",
       "      <td>False</td>\n",
       "      <td>False</td>\n",
       "      <td>False</td>\n",
       "      <td>False</td>\n",
       "      <td>False</td>\n",
       "      <td>False</td>\n",
       "      <td>True</td>\n",
       "      <td>True</td>\n",
       "    </tr>\n",
       "    <tr>\n",
       "      <th>90</th>\n",
       "      <td>False</td>\n",
       "      <td>False</td>\n",
       "      <td>False</td>\n",
       "      <td>False</td>\n",
       "      <td>False</td>\n",
       "      <td>False</td>\n",
       "      <td>False</td>\n",
       "      <td>False</td>\n",
       "      <td>False</td>\n",
       "      <td>False</td>\n",
       "      <td>...</td>\n",
       "      <td>False</td>\n",
       "      <td>False</td>\n",
       "      <td>False</td>\n",
       "      <td>False</td>\n",
       "      <td>True</td>\n",
       "      <td>False</td>\n",
       "      <td>True</td>\n",
       "      <td>False</td>\n",
       "      <td>False</td>\n",
       "      <td>True</td>\n",
       "    </tr>\n",
       "    <tr>\n",
       "      <th>91</th>\n",
       "      <td>False</td>\n",
       "      <td>False</td>\n",
       "      <td>False</td>\n",
       "      <td>False</td>\n",
       "      <td>True</td>\n",
       "      <td>False</td>\n",
       "      <td>False</td>\n",
       "      <td>False</td>\n",
       "      <td>False</td>\n",
       "      <td>False</td>\n",
       "      <td>...</td>\n",
       "      <td>False</td>\n",
       "      <td>False</td>\n",
       "      <td>True</td>\n",
       "      <td>False</td>\n",
       "      <td>False</td>\n",
       "      <td>True</td>\n",
       "      <td>False</td>\n",
       "      <td>False</td>\n",
       "      <td>False</td>\n",
       "      <td>False</td>\n",
       "    </tr>\n",
       "    <tr>\n",
       "      <th>92</th>\n",
       "      <td>False</td>\n",
       "      <td>False</td>\n",
       "      <td>False</td>\n",
       "      <td>False</td>\n",
       "      <td>False</td>\n",
       "      <td>True</td>\n",
       "      <td>False</td>\n",
       "      <td>False</td>\n",
       "      <td>False</td>\n",
       "      <td>True</td>\n",
       "      <td>...</td>\n",
       "      <td>False</td>\n",
       "      <td>True</td>\n",
       "      <td>False</td>\n",
       "      <td>False</td>\n",
       "      <td>False</td>\n",
       "      <td>False</td>\n",
       "      <td>False</td>\n",
       "      <td>False</td>\n",
       "      <td>True</td>\n",
       "      <td>True</td>\n",
       "    </tr>\n",
       "  </tbody>\n",
       "</table>\n",
       "<p>93 rows × 29 columns</p>\n",
       "</div>"
      ],
      "text/plain": [
       "    W_pobliżu_Szpital  W_pobliżu_Bocznica kolejowa  W_pobliżu_Żłobek  \\\n",
       "0               False                        False             False   \n",
       "1                True                        False             False   \n",
       "2                True                        False             False   \n",
       "3               False                        False              True   \n",
       "4               False                        False              True   \n",
       "..                ...                          ...               ...   \n",
       "88              False                        False             False   \n",
       "89              False                        False             False   \n",
       "90              False                        False             False   \n",
       "91              False                        False             False   \n",
       "92              False                        False             False   \n",
       "\n",
       "    W_pobliżu_Plac zabaw  W_pobliżu_Bank  W_pobliżu_Park  \\\n",
       "0                   True           False            True   \n",
       "1                  False            True            True   \n",
       "2                  False            True            True   \n",
       "3                   True           False            True   \n",
       "4                   True           False            True   \n",
       "..                   ...             ...             ...   \n",
       "88                  True            True            True   \n",
       "89                 False           False            True   \n",
       "90                 False           False           False   \n",
       "91                 False            True           False   \n",
       "92                 False           False            True   \n",
       "\n",
       "    W_pobliżu_Hala sportowa  W_pobliżu_Blacharnia  W_pobliżu_Bazarek  \\\n",
       "0                     False                 False              False   \n",
       "1                      True                 False              False   \n",
       "2                      True                 False              False   \n",
       "3                     False                 False              False   \n",
       "4                     False                 False               True   \n",
       "..                      ...                   ...                ...   \n",
       "88                    False                 False              False   \n",
       "89                    False                 False              False   \n",
       "90                    False                 False              False   \n",
       "91                    False                 False              False   \n",
       "92                    False                 False              False   \n",
       "\n",
       "    W_pobliżu_Przychodnia lekarska  ...  W_pobliżu_Zabudowa niska  \\\n",
       "0                            False  ...                      True   \n",
       "1                             True  ...                     False   \n",
       "2                             True  ...                     False   \n",
       "3                            False  ...                      True   \n",
       "4                            False  ...                      True   \n",
       "..                             ...  ...                       ...   \n",
       "88                            True  ...                     False   \n",
       "89                           False  ...                      True   \n",
       "90                           False  ...                     False   \n",
       "91                           False  ...                     False   \n",
       "92                            True  ...                     False   \n",
       "\n",
       "    W_pobliżu_Przedszkole  W_pobliżu_Rzeka  W_pobliżu_Szkoła  W_pobliżu_Basen  \\\n",
       "0                   False            False             False             True   \n",
       "1                   False             True              True             True   \n",
       "2                   False             True              True             True   \n",
       "3                    True            False              True            False   \n",
       "4                    True            False              True            False   \n",
       "..                    ...              ...               ...              ...   \n",
       "88                   True            False              True            False   \n",
       "89                  False            False             False            False   \n",
       "90                  False            False             False             True   \n",
       "91                  False             True             False            False   \n",
       "92                   True            False             False            False   \n",
       "\n",
       "    W_pobliżu_Apteka  W_pobliżu_Fitness  W_pobliżu_Komenda policji  \\\n",
       "0               True               True                      False   \n",
       "1               True               True                      False   \n",
       "2               True               True                      False   \n",
       "3               True              False                      False   \n",
       "4               True              False                      False   \n",
       "..               ...                ...                        ...   \n",
       "88              True               True                      False   \n",
       "89             False              False                      False   \n",
       "90             False               True                      False   \n",
       "91              True              False                      False   \n",
       "92             False              False                      False   \n",
       "\n",
       "    W_pobliżu_Kościół  W_pobliżu_Morze  \n",
       "0                True             True  \n",
       "1               False             True  \n",
       "2                True             True  \n",
       "3                True            False  \n",
       "4               False             True  \n",
       "..                ...              ...  \n",
       "88              False             True  \n",
       "89               True             True  \n",
       "90              False             True  \n",
       "91              False            False  \n",
       "92               True             True  \n",
       "\n",
       "[93 rows x 29 columns]"
      ]
     },
     "execution_count": 29,
     "metadata": {},
     "output_type": "execute_result"
    }
   ],
   "source": [
    "around = set()\n",
    "\n",
    "for item in df[\"W pobliżu\"].dropna().to_list():\n",
    "    for x in item.split(\", \"):\n",
    "        around.add(x)\n",
    "\n",
    "for item in around:\n",
    "    df1[f\"W_pobliżu_{item}\"] = df[\"W pobliżu\"].str.contains(item).fillna(False)\n",
    "\n",
    "df1[[f\"W_pobliżu_{item}\" for item in around]]"
   ]
  },
  {
   "cell_type": "markdown",
   "metadata": {},
   "source": [
    "### Typ mieszkania"
   ]
  },
  {
   "cell_type": "code",
   "execution_count": 30,
   "metadata": {},
   "outputs": [
    {
     "name": "stderr",
     "output_type": "stream",
     "text": [
      "/var/folders/_s/r6q44yzn7gd7hjnfjjlpb4hm0000gn/T/ipykernel_6556/1885219543.py:9: FutureWarning: Downcasting object dtype arrays on .fillna, .ffill, .bfill is deprecated and will change in a future version. Call result.infer_objects(copy=False) instead. To opt-in to the future behavior, set `pd.set_option('future.no_silent_downcasting', True)`\n",
      "  df1[f\"Typ_mieszkania_{item}\"] = df[\"Typ mieszkania\"].str.contains(item).fillna(False)\n",
      "/var/folders/_s/r6q44yzn7gd7hjnfjjlpb4hm0000gn/T/ipykernel_6556/1885219543.py:9: FutureWarning: Downcasting object dtype arrays on .fillna, .ffill, .bfill is deprecated and will change in a future version. Call result.infer_objects(copy=False) instead. To opt-in to the future behavior, set `pd.set_option('future.no_silent_downcasting', True)`\n",
      "  df1[f\"Typ_mieszkania_{item}\"] = df[\"Typ mieszkania\"].str.contains(item).fillna(False)\n",
      "/var/folders/_s/r6q44yzn7gd7hjnfjjlpb4hm0000gn/T/ipykernel_6556/1885219543.py:9: FutureWarning: Downcasting object dtype arrays on .fillna, .ffill, .bfill is deprecated and will change in a future version. Call result.infer_objects(copy=False) instead. To opt-in to the future behavior, set `pd.set_option('future.no_silent_downcasting', True)`\n",
      "  df1[f\"Typ_mieszkania_{item}\"] = df[\"Typ mieszkania\"].str.contains(item).fillna(False)\n",
      "/var/folders/_s/r6q44yzn7gd7hjnfjjlpb4hm0000gn/T/ipykernel_6556/1885219543.py:9: FutureWarning: Downcasting object dtype arrays on .fillna, .ffill, .bfill is deprecated and will change in a future version. Call result.infer_objects(copy=False) instead. To opt-in to the future behavior, set `pd.set_option('future.no_silent_downcasting', True)`\n",
      "  df1[f\"Typ_mieszkania_{item}\"] = df[\"Typ mieszkania\"].str.contains(item).fillna(False)\n",
      "/var/folders/_s/r6q44yzn7gd7hjnfjjlpb4hm0000gn/T/ipykernel_6556/1885219543.py:9: FutureWarning: Downcasting object dtype arrays on .fillna, .ffill, .bfill is deprecated and will change in a future version. Call result.infer_objects(copy=False) instead. To opt-in to the future behavior, set `pd.set_option('future.no_silent_downcasting', True)`\n",
      "  df1[f\"Typ_mieszkania_{item}\"] = df[\"Typ mieszkania\"].str.contains(item).fillna(False)\n",
      "/var/folders/_s/r6q44yzn7gd7hjnfjjlpb4hm0000gn/T/ipykernel_6556/1885219543.py:9: FutureWarning: Downcasting object dtype arrays on .fillna, .ffill, .bfill is deprecated and will change in a future version. Call result.infer_objects(copy=False) instead. To opt-in to the future behavior, set `pd.set_option('future.no_silent_downcasting', True)`\n",
      "  df1[f\"Typ_mieszkania_{item}\"] = df[\"Typ mieszkania\"].str.contains(item).fillna(False)\n",
      "/var/folders/_s/r6q44yzn7gd7hjnfjjlpb4hm0000gn/T/ipykernel_6556/1885219543.py:9: FutureWarning: Downcasting object dtype arrays on .fillna, .ffill, .bfill is deprecated and will change in a future version. Call result.infer_objects(copy=False) instead. To opt-in to the future behavior, set `pd.set_option('future.no_silent_downcasting', True)`\n",
      "  df1[f\"Typ_mieszkania_{item}\"] = df[\"Typ mieszkania\"].str.contains(item).fillna(False)\n",
      "/var/folders/_s/r6q44yzn7gd7hjnfjjlpb4hm0000gn/T/ipykernel_6556/1885219543.py:9: FutureWarning: Downcasting object dtype arrays on .fillna, .ffill, .bfill is deprecated and will change in a future version. Call result.infer_objects(copy=False) instead. To opt-in to the future behavior, set `pd.set_option('future.no_silent_downcasting', True)`\n",
      "  df1[f\"Typ_mieszkania_{item}\"] = df[\"Typ mieszkania\"].str.contains(item).fillna(False)\n",
      "/var/folders/_s/r6q44yzn7gd7hjnfjjlpb4hm0000gn/T/ipykernel_6556/1885219543.py:9: FutureWarning: Downcasting object dtype arrays on .fillna, .ffill, .bfill is deprecated and will change in a future version. Call result.infer_objects(copy=False) instead. To opt-in to the future behavior, set `pd.set_option('future.no_silent_downcasting', True)`\n",
      "  df1[f\"Typ_mieszkania_{item}\"] = df[\"Typ mieszkania\"].str.contains(item).fillna(False)\n"
     ]
    },
    {
     "data": {
      "text/html": [
       "<div>\n",
       "<style scoped>\n",
       "    .dataframe tbody tr th:only-of-type {\n",
       "        vertical-align: middle;\n",
       "    }\n",
       "\n",
       "    .dataframe tbody tr th {\n",
       "        vertical-align: top;\n",
       "    }\n",
       "\n",
       "    .dataframe thead th {\n",
       "        text-align: right;\n",
       "    }\n",
       "</style>\n",
       "<table border=\"1\" class=\"dataframe\">\n",
       "  <thead>\n",
       "    <tr style=\"text-align: right;\">\n",
       "      <th></th>\n",
       "      <th>Typ_mieszkania_Z_pokojami_przechodnimi</th>\n",
       "      <th>Typ_mieszkania_Apartament</th>\n",
       "      <th>Typ_mieszkania_Jednopoziomowe</th>\n",
       "      <th>Typ_mieszkania_Dwupoziomowe</th>\n",
       "      <th>Typ_mieszkania_Rozkładowe</th>\n",
       "      <th>Typ_mieszkania_inne</th>\n",
       "      <th>Typ_mieszkania_Piętro_domu</th>\n",
       "      <th>Typ_mieszkania_Z_antresolą</th>\n",
       "      <th>Typ_mieszkania_Z_pokojem_przechodnim</th>\n",
       "    </tr>\n",
       "  </thead>\n",
       "  <tbody>\n",
       "    <tr>\n",
       "      <th>0</th>\n",
       "      <td>False</td>\n",
       "      <td>True</td>\n",
       "      <td>False</td>\n",
       "      <td>False</td>\n",
       "      <td>False</td>\n",
       "      <td>False</td>\n",
       "      <td>False</td>\n",
       "      <td>False</td>\n",
       "      <td>False</td>\n",
       "    </tr>\n",
       "    <tr>\n",
       "      <th>1</th>\n",
       "      <td>False</td>\n",
       "      <td>False</td>\n",
       "      <td>False</td>\n",
       "      <td>False</td>\n",
       "      <td>True</td>\n",
       "      <td>False</td>\n",
       "      <td>False</td>\n",
       "      <td>False</td>\n",
       "      <td>False</td>\n",
       "    </tr>\n",
       "    <tr>\n",
       "      <th>2</th>\n",
       "      <td>False</td>\n",
       "      <td>True</td>\n",
       "      <td>False</td>\n",
       "      <td>False</td>\n",
       "      <td>False</td>\n",
       "      <td>False</td>\n",
       "      <td>False</td>\n",
       "      <td>False</td>\n",
       "      <td>False</td>\n",
       "    </tr>\n",
       "    <tr>\n",
       "      <th>3</th>\n",
       "      <td>False</td>\n",
       "      <td>False</td>\n",
       "      <td>False</td>\n",
       "      <td>False</td>\n",
       "      <td>True</td>\n",
       "      <td>False</td>\n",
       "      <td>False</td>\n",
       "      <td>False</td>\n",
       "      <td>False</td>\n",
       "    </tr>\n",
       "    <tr>\n",
       "      <th>4</th>\n",
       "      <td>False</td>\n",
       "      <td>False</td>\n",
       "      <td>True</td>\n",
       "      <td>False</td>\n",
       "      <td>False</td>\n",
       "      <td>False</td>\n",
       "      <td>False</td>\n",
       "      <td>False</td>\n",
       "      <td>False</td>\n",
       "    </tr>\n",
       "    <tr>\n",
       "      <th>...</th>\n",
       "      <td>...</td>\n",
       "      <td>...</td>\n",
       "      <td>...</td>\n",
       "      <td>...</td>\n",
       "      <td>...</td>\n",
       "      <td>...</td>\n",
       "      <td>...</td>\n",
       "      <td>...</td>\n",
       "      <td>...</td>\n",
       "    </tr>\n",
       "    <tr>\n",
       "      <th>88</th>\n",
       "      <td>False</td>\n",
       "      <td>False</td>\n",
       "      <td>False</td>\n",
       "      <td>False</td>\n",
       "      <td>True</td>\n",
       "      <td>False</td>\n",
       "      <td>False</td>\n",
       "      <td>False</td>\n",
       "      <td>False</td>\n",
       "    </tr>\n",
       "    <tr>\n",
       "      <th>89</th>\n",
       "      <td>False</td>\n",
       "      <td>True</td>\n",
       "      <td>True</td>\n",
       "      <td>False</td>\n",
       "      <td>False</td>\n",
       "      <td>False</td>\n",
       "      <td>False</td>\n",
       "      <td>False</td>\n",
       "      <td>False</td>\n",
       "    </tr>\n",
       "    <tr>\n",
       "      <th>90</th>\n",
       "      <td>False</td>\n",
       "      <td>True</td>\n",
       "      <td>False</td>\n",
       "      <td>False</td>\n",
       "      <td>False</td>\n",
       "      <td>False</td>\n",
       "      <td>False</td>\n",
       "      <td>False</td>\n",
       "      <td>False</td>\n",
       "    </tr>\n",
       "    <tr>\n",
       "      <th>91</th>\n",
       "      <td>False</td>\n",
       "      <td>False</td>\n",
       "      <td>True</td>\n",
       "      <td>False</td>\n",
       "      <td>False</td>\n",
       "      <td>False</td>\n",
       "      <td>False</td>\n",
       "      <td>False</td>\n",
       "      <td>False</td>\n",
       "    </tr>\n",
       "    <tr>\n",
       "      <th>92</th>\n",
       "      <td>False</td>\n",
       "      <td>False</td>\n",
       "      <td>False</td>\n",
       "      <td>False</td>\n",
       "      <td>False</td>\n",
       "      <td>False</td>\n",
       "      <td>False</td>\n",
       "      <td>False</td>\n",
       "      <td>False</td>\n",
       "    </tr>\n",
       "  </tbody>\n",
       "</table>\n",
       "<p>93 rows × 9 columns</p>\n",
       "</div>"
      ],
      "text/plain": [
       "    Typ_mieszkania_Z_pokojami_przechodnimi  Typ_mieszkania_Apartament  \\\n",
       "0                                    False                       True   \n",
       "1                                    False                      False   \n",
       "2                                    False                       True   \n",
       "3                                    False                      False   \n",
       "4                                    False                      False   \n",
       "..                                     ...                        ...   \n",
       "88                                   False                      False   \n",
       "89                                   False                       True   \n",
       "90                                   False                       True   \n",
       "91                                   False                      False   \n",
       "92                                   False                      False   \n",
       "\n",
       "    Typ_mieszkania_Jednopoziomowe  Typ_mieszkania_Dwupoziomowe  \\\n",
       "0                           False                        False   \n",
       "1                           False                        False   \n",
       "2                           False                        False   \n",
       "3                           False                        False   \n",
       "4                            True                        False   \n",
       "..                            ...                          ...   \n",
       "88                          False                        False   \n",
       "89                           True                        False   \n",
       "90                          False                        False   \n",
       "91                           True                        False   \n",
       "92                          False                        False   \n",
       "\n",
       "    Typ_mieszkania_Rozkładowe  Typ_mieszkania_inne  \\\n",
       "0                       False                False   \n",
       "1                        True                False   \n",
       "2                       False                False   \n",
       "3                        True                False   \n",
       "4                       False                False   \n",
       "..                        ...                  ...   \n",
       "88                       True                False   \n",
       "89                      False                False   \n",
       "90                      False                False   \n",
       "91                      False                False   \n",
       "92                      False                False   \n",
       "\n",
       "    Typ_mieszkania_Piętro_domu  Typ_mieszkania_Z_antresolą  \\\n",
       "0                        False                       False   \n",
       "1                        False                       False   \n",
       "2                        False                       False   \n",
       "3                        False                       False   \n",
       "4                        False                       False   \n",
       "..                         ...                         ...   \n",
       "88                       False                       False   \n",
       "89                       False                       False   \n",
       "90                       False                       False   \n",
       "91                       False                       False   \n",
       "92                       False                       False   \n",
       "\n",
       "    Typ_mieszkania_Z_pokojem_przechodnim  \n",
       "0                                  False  \n",
       "1                                  False  \n",
       "2                                  False  \n",
       "3                                  False  \n",
       "4                                  False  \n",
       "..                                   ...  \n",
       "88                                 False  \n",
       "89                                 False  \n",
       "90                                 False  \n",
       "91                                 False  \n",
       "92                                 False  \n",
       "\n",
       "[93 rows x 9 columns]"
      ]
     },
     "execution_count": 30,
     "metadata": {},
     "output_type": "execute_result"
    }
   ],
   "source": [
    "flat_type = set()\n",
    "\n",
    "for item in df[\"Typ mieszkania\"].fillna(\"inne\").astype(str).to_list():\n",
    "    for x in item.split(\",\"):\n",
    "        x = \"_\".join(x.strip().split(\" \"))\n",
    "        flat_type.add(x)  \n",
    "\n",
    "for item in flat_type:\n",
    "    df1[f\"Typ_mieszkania_{item}\"] = df[\"Typ mieszkania\"].str.contains(item).fillna(False)\n",
    "\n",
    "df1[[f\"Typ_mieszkania_{item}\" for item in flat_type]]"
   ]
  },
  {
   "cell_type": "markdown",
   "metadata": {},
   "source": [
    "### Balkon"
   ]
  },
  {
   "cell_type": "code",
   "execution_count": 31,
   "metadata": {},
   "outputs": [
    {
     "data": {
      "text/plain": [
       "Balkon\n",
       "Tak    71\n",
       "Nie    22\n",
       "Name: count, dtype: int64"
      ]
     },
     "execution_count": 31,
     "metadata": {},
     "output_type": "execute_result"
    }
   ],
   "source": [
    "df1[\"Balkon\"] = df[\"Balkon\"].fillna(\"Nie\").astype('category')\n",
    "df1[\"Balkon\"].value_counts()"
   ]
  },
  {
   "cell_type": "markdown",
   "metadata": {},
   "source": [
    "### Alarm"
   ]
  },
  {
   "cell_type": "code",
   "execution_count": 32,
   "metadata": {},
   "outputs": [
    {
     "data": {
      "text/plain": [
       "Alarm\n",
       "Nie    80\n",
       "Tak    13\n",
       "Name: count, dtype: int64"
      ]
     },
     "execution_count": 32,
     "metadata": {},
     "output_type": "execute_result"
    }
   ],
   "source": [
    "df1[\"Alarm\"] = df[\"Alarm\"].fillna(\"Nie\").astype('category')\n",
    "df1[\"Alarm\"].value_counts()"
   ]
  },
  {
   "cell_type": "markdown",
   "metadata": {},
   "source": [
    "### Monitoring"
   ]
  },
  {
   "cell_type": "code",
   "execution_count": 33,
   "metadata": {},
   "outputs": [
    {
     "data": {
      "text/plain": [
       "Monitoring\n",
       "Tak    58\n",
       "Nie    35\n",
       "Name: count, dtype: int64"
      ]
     },
     "execution_count": 33,
     "metadata": {},
     "output_type": "execute_result"
    }
   ],
   "source": [
    "df1[\"Monitoring\"] = df[\"Monitoring\"].fillna(\"Nie\").astype('category')\n",
    "df1[\"Monitoring\"].value_counts()"
   ]
  },
  {
   "cell_type": "markdown",
   "metadata": {},
   "source": [
    "### Ochrona"
   ]
  },
  {
   "cell_type": "code",
   "execution_count": 34,
   "metadata": {},
   "outputs": [
    {
     "data": {
      "text/plain": [
       "Ochrona\n",
       "Nie    61\n",
       "Tak    32\n",
       "Name: count, dtype: int64"
      ]
     },
     "execution_count": 34,
     "metadata": {},
     "output_type": "execute_result"
    }
   ],
   "source": [
    "df1[\"Ochrona\"] = df[\"Ochrona\"].fillna(\"Nie\").astype('category')\n",
    "df1[\"Ochrona\"].value_counts()"
   ]
  },
  {
   "cell_type": "markdown",
   "metadata": {},
   "source": [
    "### Recepcja"
   ]
  },
  {
   "cell_type": "code",
   "execution_count": 35,
   "metadata": {},
   "outputs": [
    {
     "data": {
      "text/plain": [
       "Recepcja\n",
       "Nie    67\n",
       "Tak    26\n",
       "Name: count, dtype: int64"
      ]
     },
     "execution_count": 35,
     "metadata": {},
     "output_type": "execute_result"
    }
   ],
   "source": [
    "df1[\"Recepcja\"] = df[\"Recepcja\"].fillna(\"Nie\").astype('category')\n",
    "df1[\"Recepcja\"].value_counts()"
   ]
  },
  {
   "cell_type": "markdown",
   "metadata": {},
   "source": [
    "### Teren ogrodzony"
   ]
  },
  {
   "cell_type": "code",
   "execution_count": 36,
   "metadata": {},
   "outputs": [
    {
     "data": {
      "text/plain": [
       "Teren ogrodzony\n",
       "Tak    50\n",
       "Nie    43\n",
       "Name: count, dtype: int64"
      ]
     },
     "execution_count": 36,
     "metadata": {},
     "output_type": "execute_result"
    }
   ],
   "source": [
    "df1[\"Teren ogrodzony\"] = df[\"Teren ogrodzony\"].fillna(\"Nie\").astype('category')\n",
    "df1[\"Teren ogrodzony\"].value_counts()"
   ]
  },
  {
   "cell_type": "markdown",
   "metadata": {},
   "source": [
    "### Liczba oddzielnych toalet"
   ]
  },
  {
   "cell_type": "code",
   "execution_count": 37,
   "metadata": {},
   "outputs": [
    {
     "data": {
      "text/plain": [
       "Liczba oddzielnych toalet\n",
       "0    75\n",
       "1    14\n",
       "0     2\n",
       "2     2\n",
       "Name: count, dtype: int64"
      ]
     },
     "execution_count": 37,
     "metadata": {},
     "output_type": "execute_result"
    }
   ],
   "source": [
    "df1[\"Liczba oddzielnych toalet\"] = df[\"Liczba oddzielnych toalet\"].fillna(0).astype('category')\n",
    "df1[\"Liczba oddzielnych toalet\"].value_counts()"
   ]
  },
  {
   "cell_type": "markdown",
   "metadata": {},
   "source": [
    "## Podsumowanie"
   ]
  },
  {
   "cell_type": "code",
   "execution_count": 38,
   "metadata": {},
   "outputs": [
    {
     "data": {
      "text/html": [
       "<div>\n",
       "<style scoped>\n",
       "    .dataframe tbody tr th:only-of-type {\n",
       "        vertical-align: middle;\n",
       "    }\n",
       "\n",
       "    .dataframe tbody tr th {\n",
       "        vertical-align: top;\n",
       "    }\n",
       "\n",
       "    .dataframe thead th {\n",
       "        text-align: right;\n",
       "    }\n",
       "</style>\n",
       "<table border=\"1\" class=\"dataframe\">\n",
       "  <thead>\n",
       "    <tr style=\"text-align: right;\">\n",
       "      <th></th>\n",
       "      <th>url</th>\n",
       "      <th>Liczba pokoi</th>\n",
       "      <th>Piętro</th>\n",
       "      <th>Liczba pięter</th>\n",
       "      <th>Adres</th>\n",
       "      <th>opis</th>\n",
       "      <th>Rynek</th>\n",
       "      <th>Cena</th>\n",
       "      <th>Powierzchnia</th>\n",
       "      <th>Cena za m2</th>\n",
       "      <th>...</th>\n",
       "      <th>Typ_mieszkania_Piętro_domu</th>\n",
       "      <th>Typ_mieszkania_Z_antresolą</th>\n",
       "      <th>Typ_mieszkania_Z_pokojem_przechodnim</th>\n",
       "      <th>Balkon</th>\n",
       "      <th>Alarm</th>\n",
       "      <th>Monitoring</th>\n",
       "      <th>Ochrona</th>\n",
       "      <th>Recepcja</th>\n",
       "      <th>Teren ogrodzony</th>\n",
       "      <th>Liczba oddzielnych toalet</th>\n",
       "    </tr>\n",
       "  </thead>\n",
       "  <tbody>\n",
       "    <tr>\n",
       "      <th>0</th>\n",
       "      <td>https://freedom.pl/oferta/mieszkanie-na-sprzed...</td>\n",
       "      <td>2</td>\n",
       "      <td>2</td>\n",
       "      <td>4</td>\n",
       "      <td>Kołobrzeg, Zachodniopomorskie, ul. Muszelkowa</td>\n",
       "      <td>Zarabiający apartament 2-pok.z basenem!Polanki...</td>\n",
       "      <td>Wtórny</td>\n",
       "      <td>756000.0</td>\n",
       "      <td>47.88</td>\n",
       "      <td>15789.0</td>\n",
       "      <td>...</td>\n",
       "      <td>False</td>\n",
       "      <td>False</td>\n",
       "      <td>False</td>\n",
       "      <td>Tak</td>\n",
       "      <td>Nie</td>\n",
       "      <td>Tak</td>\n",
       "      <td>Tak</td>\n",
       "      <td>Tak</td>\n",
       "      <td>Tak</td>\n",
       "      <td>0</td>\n",
       "    </tr>\n",
       "    <tr>\n",
       "      <th>1</th>\n",
       "      <td>https://freedom.pl/oferta/mieszkanie-na-sprzed...</td>\n",
       "      <td>2</td>\n",
       "      <td>4</td>\n",
       "      <td>4</td>\n",
       "      <td>Kołobrzeg, Zachodniopomorskie, ul. al. I Armii...</td>\n",
       "      <td>2 pokoje z widokiem na rzekę, blisko morza!\\nM...</td>\n",
       "      <td>Wtórny</td>\n",
       "      <td>400000.0</td>\n",
       "      <td>43.20</td>\n",
       "      <td>9259.0</td>\n",
       "      <td>...</td>\n",
       "      <td>False</td>\n",
       "      <td>False</td>\n",
       "      <td>False</td>\n",
       "      <td>Tak</td>\n",
       "      <td>Nie</td>\n",
       "      <td>Nie</td>\n",
       "      <td>Nie</td>\n",
       "      <td>Nie</td>\n",
       "      <td>Nie</td>\n",
       "      <td>0</td>\n",
       "    </tr>\n",
       "    <tr>\n",
       "      <th>2</th>\n",
       "      <td>https://freedom.pl/oferta/mieszkanie-na-sprzed...</td>\n",
       "      <td>2</td>\n",
       "      <td>4</td>\n",
       "      <td>6</td>\n",
       "      <td>Kołobrzeg, Zachodniopomorskie, ul. Młyńska</td>\n",
       "      <td>Młyńska 10,atrakcyjny apartament 2-pok. w cent...</td>\n",
       "      <td>Wtórny</td>\n",
       "      <td>475000.0</td>\n",
       "      <td>32.75</td>\n",
       "      <td>14504.0</td>\n",
       "      <td>...</td>\n",
       "      <td>False</td>\n",
       "      <td>False</td>\n",
       "      <td>False</td>\n",
       "      <td>Tak</td>\n",
       "      <td>Nie</td>\n",
       "      <td>Tak</td>\n",
       "      <td>Nie</td>\n",
       "      <td>Nie</td>\n",
       "      <td>Tak</td>\n",
       "      <td>0</td>\n",
       "    </tr>\n",
       "    <tr>\n",
       "      <th>3</th>\n",
       "      <td>https://freedom.pl/oferta/mieszkanie-na-sprzed...</td>\n",
       "      <td>3</td>\n",
       "      <td>4</td>\n",
       "      <td>4</td>\n",
       "      <td>Kołobrzeg, Zachodniopomorskie, ul. Bolesława K...</td>\n",
       "      <td>Duże, 3-pok.mieszkanie z funkcjonalnym rozkład...</td>\n",
       "      <td>Wtórny</td>\n",
       "      <td>475000.0</td>\n",
       "      <td>68.50</td>\n",
       "      <td>6934.0</td>\n",
       "      <td>...</td>\n",
       "      <td>False</td>\n",
       "      <td>False</td>\n",
       "      <td>False</td>\n",
       "      <td>Tak</td>\n",
       "      <td>Nie</td>\n",
       "      <td>Nie</td>\n",
       "      <td>Nie</td>\n",
       "      <td>Nie</td>\n",
       "      <td>Nie</td>\n",
       "      <td>1</td>\n",
       "    </tr>\n",
       "    <tr>\n",
       "      <th>4</th>\n",
       "      <td>https://freedom.pl/oferta/mieszkanie-na-sprzed...</td>\n",
       "      <td>2</td>\n",
       "      <td>1</td>\n",
       "      <td>4</td>\n",
       "      <td>Kołobrzeg, Zachodniopomorskie, ul. Słowińców</td>\n",
       "      <td>Przytulne dwupokojowe mieszkanie w Kołobrzegu\\...</td>\n",
       "      <td>Wtórny</td>\n",
       "      <td>550000.0</td>\n",
       "      <td>41.81</td>\n",
       "      <td>13155.0</td>\n",
       "      <td>...</td>\n",
       "      <td>False</td>\n",
       "      <td>False</td>\n",
       "      <td>False</td>\n",
       "      <td>Tak</td>\n",
       "      <td>Nie</td>\n",
       "      <td>Tak</td>\n",
       "      <td>Nie</td>\n",
       "      <td>Nie</td>\n",
       "      <td>Tak</td>\n",
       "      <td>0</td>\n",
       "    </tr>\n",
       "    <tr>\n",
       "      <th>...</th>\n",
       "      <td>...</td>\n",
       "      <td>...</td>\n",
       "      <td>...</td>\n",
       "      <td>...</td>\n",
       "      <td>...</td>\n",
       "      <td>...</td>\n",
       "      <td>...</td>\n",
       "      <td>...</td>\n",
       "      <td>...</td>\n",
       "      <td>...</td>\n",
       "      <td>...</td>\n",
       "      <td>...</td>\n",
       "      <td>...</td>\n",
       "      <td>...</td>\n",
       "      <td>...</td>\n",
       "      <td>...</td>\n",
       "      <td>...</td>\n",
       "      <td>...</td>\n",
       "      <td>...</td>\n",
       "      <td>...</td>\n",
       "      <td>...</td>\n",
       "    </tr>\n",
       "    <tr>\n",
       "      <th>88</th>\n",
       "      <td>https://freedom.pl/oferta/mieszkanie-na-sprzed...</td>\n",
       "      <td>4</td>\n",
       "      <td>6</td>\n",
       "      <td>7</td>\n",
       "      <td>Kołobrzeg, Zachodniopomorskie, ul. Kupiecka</td>\n",
       "      <td>Atrakcyjne 4-pokojowe, 2 balkony, gabinet, gar...</td>\n",
       "      <td>Wtórny</td>\n",
       "      <td>950000.0</td>\n",
       "      <td>103.38</td>\n",
       "      <td>9189.0</td>\n",
       "      <td>...</td>\n",
       "      <td>False</td>\n",
       "      <td>False</td>\n",
       "      <td>False</td>\n",
       "      <td>Tak</td>\n",
       "      <td>Nie</td>\n",
       "      <td>Nie</td>\n",
       "      <td>Nie</td>\n",
       "      <td>Nie</td>\n",
       "      <td>Nie</td>\n",
       "      <td>0</td>\n",
       "    </tr>\n",
       "    <tr>\n",
       "      <th>89</th>\n",
       "      <td>https://freedom.pl/oferta/mieszkanie-na-sprzed...</td>\n",
       "      <td>1</td>\n",
       "      <td>0</td>\n",
       "      <td>4</td>\n",
       "      <td>Kołobrzeg, Zachodniopomorskie, ul. Jana Kaspro...</td>\n",
       "      <td>Apartament 350 m od morza\\nKameralny apartamen...</td>\n",
       "      <td>Wtórny</td>\n",
       "      <td>352440.0</td>\n",
       "      <td>32.04</td>\n",
       "      <td>11000.0</td>\n",
       "      <td>...</td>\n",
       "      <td>False</td>\n",
       "      <td>False</td>\n",
       "      <td>False</td>\n",
       "      <td>Tak</td>\n",
       "      <td>Nie</td>\n",
       "      <td>Tak</td>\n",
       "      <td>Nie</td>\n",
       "      <td>Nie</td>\n",
       "      <td>Nie</td>\n",
       "      <td>0</td>\n",
       "    </tr>\n",
       "    <tr>\n",
       "      <th>90</th>\n",
       "      <td>https://freedom.pl/oferta/mieszkanie-na-sprzed...</td>\n",
       "      <td>2</td>\n",
       "      <td>1</td>\n",
       "      <td>5</td>\n",
       "      <td>Mielno, Zachodniopomorskie,</td>\n",
       "      <td>Luksusowy Apartament  nad morzem\\nPILNIE SPRZE...</td>\n",
       "      <td>Wtórny</td>\n",
       "      <td>1090000.0</td>\n",
       "      <td>52.00</td>\n",
       "      <td>20962.0</td>\n",
       "      <td>...</td>\n",
       "      <td>False</td>\n",
       "      <td>False</td>\n",
       "      <td>False</td>\n",
       "      <td>Tak</td>\n",
       "      <td>Tak</td>\n",
       "      <td>Tak</td>\n",
       "      <td>Tak</td>\n",
       "      <td>Tak</td>\n",
       "      <td>Tak</td>\n",
       "      <td>0</td>\n",
       "    </tr>\n",
       "    <tr>\n",
       "      <th>91</th>\n",
       "      <td>https://freedom.pl/oferta/mieszkanie-na-sprzed...</td>\n",
       "      <td>2</td>\n",
       "      <td>5</td>\n",
       "      <td>6</td>\n",
       "      <td>Kołobrzeg, Zachodniopomorskie, ul. Młyńska</td>\n",
       "      <td>Nowy apartament, w idealnym stanie\\nNowoczesny...</td>\n",
       "      <td>Wtórny</td>\n",
       "      <td>620000.0</td>\n",
       "      <td>36.82</td>\n",
       "      <td>16839.0</td>\n",
       "      <td>...</td>\n",
       "      <td>False</td>\n",
       "      <td>False</td>\n",
       "      <td>False</td>\n",
       "      <td>Tak</td>\n",
       "      <td>Nie</td>\n",
       "      <td>Tak</td>\n",
       "      <td>Nie</td>\n",
       "      <td>Nie</td>\n",
       "      <td>Nie</td>\n",
       "      <td>0</td>\n",
       "    </tr>\n",
       "    <tr>\n",
       "      <th>92</th>\n",
       "      <td>https://freedom.pl/oferta/mieszkanie-na-sprzed...</td>\n",
       "      <td>4</td>\n",
       "      <td>2</td>\n",
       "      <td>3</td>\n",
       "      <td>Kołobrzeg, Zachodniopomorskie, ul. Katedralna</td>\n",
       "      <td>Duże mieszkanie w pięknej kamienicy\\nNa sprzed...</td>\n",
       "      <td>Wtórny</td>\n",
       "      <td>930000.0</td>\n",
       "      <td>131.88</td>\n",
       "      <td>7052.0</td>\n",
       "      <td>...</td>\n",
       "      <td>False</td>\n",
       "      <td>False</td>\n",
       "      <td>False</td>\n",
       "      <td>Tak</td>\n",
       "      <td>Nie</td>\n",
       "      <td>Nie</td>\n",
       "      <td>Nie</td>\n",
       "      <td>Nie</td>\n",
       "      <td>Nie</td>\n",
       "      <td>0</td>\n",
       "    </tr>\n",
       "  </tbody>\n",
       "</table>\n",
       "<p>93 rows × 82 columns</p>\n",
       "</div>"
      ],
      "text/plain": [
       "                                                  url Liczba pokoi Piętro  \\\n",
       "0   https://freedom.pl/oferta/mieszkanie-na-sprzed...            2      2   \n",
       "1   https://freedom.pl/oferta/mieszkanie-na-sprzed...            2      4   \n",
       "2   https://freedom.pl/oferta/mieszkanie-na-sprzed...            2      4   \n",
       "3   https://freedom.pl/oferta/mieszkanie-na-sprzed...            3      4   \n",
       "4   https://freedom.pl/oferta/mieszkanie-na-sprzed...            2      1   \n",
       "..                                                ...          ...    ...   \n",
       "88  https://freedom.pl/oferta/mieszkanie-na-sprzed...            4      6   \n",
       "89  https://freedom.pl/oferta/mieszkanie-na-sprzed...            1      0   \n",
       "90  https://freedom.pl/oferta/mieszkanie-na-sprzed...            2      1   \n",
       "91  https://freedom.pl/oferta/mieszkanie-na-sprzed...            2      5   \n",
       "92  https://freedom.pl/oferta/mieszkanie-na-sprzed...            4      2   \n",
       "\n",
       "   Liczba pięter                                              Adres  \\\n",
       "0              4      Kołobrzeg, Zachodniopomorskie, ul. Muszelkowa   \n",
       "1              4  Kołobrzeg, Zachodniopomorskie, ul. al. I Armii...   \n",
       "2              6         Kołobrzeg, Zachodniopomorskie, ul. Młyńska   \n",
       "3              4  Kołobrzeg, Zachodniopomorskie, ul. Bolesława K...   \n",
       "4              4       Kołobrzeg, Zachodniopomorskie, ul. Słowińców   \n",
       "..           ...                                                ...   \n",
       "88             7        Kołobrzeg, Zachodniopomorskie, ul. Kupiecka   \n",
       "89             4  Kołobrzeg, Zachodniopomorskie, ul. Jana Kaspro...   \n",
       "90             5                        Mielno, Zachodniopomorskie,   \n",
       "91             6         Kołobrzeg, Zachodniopomorskie, ul. Młyńska   \n",
       "92             3      Kołobrzeg, Zachodniopomorskie, ul. Katedralna   \n",
       "\n",
       "                                                 opis   Rynek       Cena  \\\n",
       "0   Zarabiający apartament 2-pok.z basenem!Polanki...  Wtórny   756000.0   \n",
       "1   2 pokoje z widokiem na rzekę, blisko morza!\\nM...  Wtórny   400000.0   \n",
       "2   Młyńska 10,atrakcyjny apartament 2-pok. w cent...  Wtórny   475000.0   \n",
       "3   Duże, 3-pok.mieszkanie z funkcjonalnym rozkład...  Wtórny   475000.0   \n",
       "4   Przytulne dwupokojowe mieszkanie w Kołobrzegu\\...  Wtórny   550000.0   \n",
       "..                                                ...     ...        ...   \n",
       "88  Atrakcyjne 4-pokojowe, 2 balkony, gabinet, gar...  Wtórny   950000.0   \n",
       "89  Apartament 350 m od morza\\nKameralny apartamen...  Wtórny   352440.0   \n",
       "90  Luksusowy Apartament  nad morzem\\nPILNIE SPRZE...  Wtórny  1090000.0   \n",
       "91  Nowy apartament, w idealnym stanie\\nNowoczesny...  Wtórny   620000.0   \n",
       "92  Duże mieszkanie w pięknej kamienicy\\nNa sprzed...  Wtórny   930000.0   \n",
       "\n",
       "    Powierzchnia  Cena za m2  ...  Typ_mieszkania_Piętro_domu  \\\n",
       "0          47.88     15789.0  ...                       False   \n",
       "1          43.20      9259.0  ...                       False   \n",
       "2          32.75     14504.0  ...                       False   \n",
       "3          68.50      6934.0  ...                       False   \n",
       "4          41.81     13155.0  ...                       False   \n",
       "..           ...         ...  ...                         ...   \n",
       "88        103.38      9189.0  ...                       False   \n",
       "89         32.04     11000.0  ...                       False   \n",
       "90         52.00     20962.0  ...                       False   \n",
       "91         36.82     16839.0  ...                       False   \n",
       "92        131.88      7052.0  ...                       False   \n",
       "\n",
       "   Typ_mieszkania_Z_antresolą Typ_mieszkania_Z_pokojem_przechodnim Balkon  \\\n",
       "0                       False                                False    Tak   \n",
       "1                       False                                False    Tak   \n",
       "2                       False                                False    Tak   \n",
       "3                       False                                False    Tak   \n",
       "4                       False                                False    Tak   \n",
       "..                        ...                                  ...    ...   \n",
       "88                      False                                False    Tak   \n",
       "89                      False                                False    Tak   \n",
       "90                      False                                False    Tak   \n",
       "91                      False                                False    Tak   \n",
       "92                      False                                False    Tak   \n",
       "\n",
       "   Alarm Monitoring  Ochrona Recepcja Teren ogrodzony  \\\n",
       "0    Nie        Tak      Tak      Tak             Tak   \n",
       "1    Nie        Nie      Nie      Nie             Nie   \n",
       "2    Nie        Tak      Nie      Nie             Tak   \n",
       "3    Nie        Nie      Nie      Nie             Nie   \n",
       "4    Nie        Tak      Nie      Nie             Tak   \n",
       "..   ...        ...      ...      ...             ...   \n",
       "88   Nie        Nie      Nie      Nie             Nie   \n",
       "89   Nie        Tak      Nie      Nie             Nie   \n",
       "90   Tak        Tak      Tak      Tak             Tak   \n",
       "91   Nie        Tak      Nie      Nie             Nie   \n",
       "92   Nie        Nie      Nie      Nie             Nie   \n",
       "\n",
       "   Liczba oddzielnych toalet  \n",
       "0                          0  \n",
       "1                          0  \n",
       "2                          0  \n",
       "3                          1  \n",
       "4                          0  \n",
       "..                       ...  \n",
       "88                         0  \n",
       "89                         0  \n",
       "90                         0  \n",
       "91                         0  \n",
       "92                         0  \n",
       "\n",
       "[93 rows x 82 columns]"
      ]
     },
     "execution_count": 38,
     "metadata": {},
     "output_type": "execute_result"
    }
   ],
   "source": [
    "df1"
   ]
  },
  {
   "cell_type": "code",
   "execution_count": 39,
   "metadata": {},
   "outputs": [],
   "source": [
    "# df1.to_csv('./data/flats_clean.csv', index=False)"
   ]
  },
  {
   "cell_type": "code",
   "execution_count": 40,
   "metadata": {},
   "outputs": [],
   "source": [
    "df1.to_pickle('./data/flats_clean.pkl')"
   ]
  },
  {
   "cell_type": "code",
   "execution_count": null,
   "metadata": {},
   "outputs": [],
   "source": []
  }
 ],
 "metadata": {
  "kernelspec": {
   "display_name": "freedom-webscrap",
   "language": "python",
   "name": "python3"
  },
  "language_info": {
   "codemirror_mode": {
    "name": "ipython",
    "version": 3
   },
   "file_extension": ".py",
   "mimetype": "text/x-python",
   "name": "python",
   "nbconvert_exporter": "python",
   "pygments_lexer": "ipython3",
   "version": "3.11.9"
  }
 },
 "nbformat": 4,
 "nbformat_minor": 2
}
